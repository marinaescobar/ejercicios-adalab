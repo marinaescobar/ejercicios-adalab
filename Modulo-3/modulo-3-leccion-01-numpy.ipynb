{
 "cells": [
  {
   "cell_type": "code",
   "execution_count": 2,
   "metadata": {},
   "outputs": [],
   "source": [
    "import numpy as np\n",
    "import random"
   ]
  },
  {
   "cell_type": "markdown",
   "metadata": {},
   "source": [
    "1.  Genera un *array* bidimensional de 4 x 3 con valores aleatorios enteros entre el 34 y el 98. Una vez creado cada array comprueba las dimensiones y los tipos de datos que tenemos en el array. "
   ]
  },
  {
   "cell_type": "code",
   "execution_count": 14,
   "metadata": {},
   "outputs": [
    {
     "name": "stdout",
     "output_type": "stream",
     "text": [
      "El array con los números random, cuatro filas y tres columnas ha quedado así: \n",
      " [[65 80 83]\n",
      " [69 59 88]\n",
      " [90 60 45]\n",
      " [84 86 68]]\n",
      "El número de dimensiones del array son: 2\n",
      "Los tipos de datos del array son: int64\n"
     ]
    }
   ],
   "source": [
    "array_random = np.random.randint(34 , 98 , (4 , 3))\n",
    "\n",
    "print(f\"El array con los números random, cuatro filas y tres columnas ha quedado así: \\n {array_random}\")\n",
    "print(f\"El número de dimensiones del array son: {array_random.ndim}\")\n",
    "print(f\"Los tipos de datos del array son: {array_random.dtype}\")"
   ]
  },
  {
   "cell_type": "markdown",
   "metadata": {},
   "source": [
    "2. Crea tres *arrays* (unidimensional, bidimensional y multidimensional) usando el método `np.array()`. "
   ]
  },
  {
   "cell_type": "code",
   "execution_count": 10,
   "metadata": {},
   "outputs": [
    {
     "name": "stdout",
     "output_type": "stream",
     "text": [
      "--------- UNIDIMENSIONAL ---------\n",
      "El array unidimensional es: \n",
      " [34 56 71 98 10]\n",
      "La forma del array es: (5,)\n",
      "El número de dimensiones del array son: 1\n",
      "El número de elementos del array es: 5\n",
      "Los tipos de datos del array son: int64\n",
      "\n",
      "--------- BIDIMENSIONAL ---------\n",
      "El array bidimensional es: \n",
      " [[23 45 89 56]\n",
      " [12 43 82 44]]\n",
      "La forma del array es: (2, 4)\n",
      "El número de dimensiones del array son: 2\n",
      "El número de elementos del array es: 8\n",
      "Los tipos de datos del array son: int64\n",
      "\n",
      "--------- TRIDIMENSIONAL ---------\n",
      "El array tridimensional es: \n",
      " [[[1 2 3]\n",
      "  [1 2 3]\n",
      "  [1 2 3]]]\n",
      "La forma del array es: (1, 3, 3)\n",
      "El número de dimensiones del array son: 3\n",
      "El número de elementos del array es: 9\n",
      "Los tipos de datos del array son: int64\n"
     ]
    }
   ],
   "source": [
    "# Las listas para crear los *arrays* son las siguientes:\n",
    "\n",
    "lista1 = [34,56,71,98, 10]\n",
    "lista2 = [[23,45,89, 56], [12,43,82,44]]\n",
    "lista3 = [[[1,2,3],[1,2,3],[1,2,3]]]\n",
    "\n",
    "print(\"--------- UNIDIMENSIONAL ---------\")\n",
    "array_uni = np.array(lista1)\n",
    "\n",
    "print(f\"El array unidimensional es: \\n {array_uni}\")\n",
    "print(f\"La forma del array es: {array_uni.shape}\")\n",
    "print(f\"El número de dimensiones del array son: {array_uni.ndim}\")\n",
    "print(f\"El número de elementos del array es: {array_uni.size}\")\n",
    "print(f\"Los tipos de datos del array son: {array_uni.dtype}\")\n",
    "\n",
    "\n",
    "print(\"\\n--------- BIDIMENSIONAL ---------\")\n",
    "array_bi = np.array(lista2)\n",
    "\n",
    "print(f\"El array bidimensional es: \\n {array_bi}\")\n",
    "print(f\"La forma del array es: {array_bi.shape}\")\n",
    "print(f\"El número de dimensiones del array son: {array_bi.ndim}\")\n",
    "print(f\"El número de elementos del array es: {array_bi.size}\")\n",
    "print(f\"Los tipos de datos del array son: {array_bi.dtype}\")\n",
    "\n",
    "\n",
    "print(\"\\n--------- TRIDIMENSIONAL ---------\")\n",
    "array_tri = np.array(lista3)\n",
    "\n",
    "print(f\"El array tridimensional es: \\n {array_tri}\")\n",
    "print(f\"La forma del array es: {array_tri.shape}\")\n",
    "print(f\"El número de dimensiones del array son: {array_tri.ndim}\")\n",
    "print(f\"El número de elementos del array es: {array_tri.size}\")\n",
    "print(f\"Los tipos de datos del array son: {array_tri.dtype}\")"
   ]
  },
  {
   "cell_type": "markdown",
   "metadata": {},
   "source": [
    "3. Crea un *array* de todo 0 con tres dimensiones\n",
    "\n",
    "    Explica el array:\n",
    "    - ¿Cuántas dimensiones hay? \n",
    "    - ¿Qué tamaño tiene?\n",
    "    - ¿Qué forma tiene?"
   ]
  },
  {
   "cell_type": "code",
   "execution_count": 12,
   "metadata": {},
   "outputs": [
    {
     "name": "stdout",
     "output_type": "stream",
     "text": [
      "El array de ceros es: \n",
      " [[[0. 0. 0.]\n",
      "  [0. 0. 0.]\n",
      "  [0. 0. 0.]\n",
      "  [0. 0. 0.]]\n",
      "\n",
      " [[0. 0. 0.]\n",
      "  [0. 0. 0.]\n",
      "  [0. 0. 0.]\n",
      "  [0. 0. 0.]]]\n",
      "La forma del array es: (2, 4, 3)\n",
      "El número de dimensiones del array son: 3\n",
      "El número de elementos (tamaño) del array es: 24\n"
     ]
    }
   ],
   "source": [
    "# Genera un array de 0 con 2 matrices, cada una de ellas con 4 filas y 3 columnas\n",
    "\n",
    "array_zero = np.zeros((2, 4, 3))\n",
    "\n",
    "print(f\"El array de ceros es: \\n {array_zero}\")\n",
    "print(f\"La forma del array es: {array_zero.shape}\")\n",
    "print(f\"El número de dimensiones del array son: {array_zero.ndim}\")\n",
    "print(f\"El número de elementos (tamaño) del array es: {array_zero.size}\")"
   ]
  },
  {
   "cell_type": "markdown",
   "metadata": {},
   "source": [
    "4. Crea un *array* vacío de 2 x 5 X 4. \n",
    "\n",
    "    - ¿Qué valores nos han salido en el *array*?  \n",
    "\n",
    "    - ¿Por qué nos salen esos valores? "
   ]
  },
  {
   "cell_type": "code",
   "execution_count": 18,
   "metadata": {},
   "outputs": [
    {
     "name": "stdout",
     "output_type": "stream",
     "text": [
      "El array de vacío es: \n",
      " [[[4.64307850e-310 0.00000000e+000 6.94650644e-310 6.94650646e-310]\n",
      "  [6.94650667e-310 6.94650669e-310 6.94650669e-310 6.94650645e-310]\n",
      "  [6.94650725e-310 6.94650719e-310 6.94650645e-310 6.94650725e-310]\n",
      "  [6.94650725e-310 6.94650725e-310 6.94650725e-310 6.94650724e-310]\n",
      "  [6.94650726e-310 6.94650645e-310 6.94650646e-310 6.94650644e-310]]\n",
      "\n",
      " [[6.94650676e-310 6.94650726e-310 6.94650645e-310 6.94650722e-310]\n",
      "  [6.94650669e-310 6.94650683e-310 6.94650669e-310 6.94650717e-310]\n",
      "  [6.94650644e-310 6.94650725e-310 6.94650676e-310 6.94650645e-310]\n",
      "  [6.94650727e-310 6.94650710e-310 6.94650644e-310 6.94650646e-310]\n",
      "  [6.94650724e-310 6.94650669e-310 6.94650644e-310 6.94650726e-310]]]\n",
      "\n",
      "Dado que el método `np.empty` crea un *array* vacío sin inicializar sus elementos, significa que los valores de los elementos pueden ser impredecibles y dependerán de los datos almacenados previamente en la memoria.\n"
     ]
    }
   ],
   "source": [
    "array_vacio = np.empty((2 , 5 , 4))\n",
    "\n",
    "print(f\"El array de vacío es: \\n {array_vacio}\")\n",
    "print(f\"\\nDado que el método `np.empty` crea un *array* vacío sin inicializar sus elementos, significa que los valores de los elementos pueden ser impredecibles y dependerán de los datos almacenados previamente en la memoria.\")"
   ]
  },
  {
   "cell_type": "markdown",
   "metadata": {},
   "source": [
    "5. En este ejercicio vamos a crear dos *arrays*:\n",
    "\n",
    "    - Un *array* tridimensional 5x2x3 con todos los valores iguales a 1.\n",
    "\n",
    "\n",
    "    - Un *array* tridimensional de 2 x 3 x 5  con números aleatorios entre 0-1\n",
    "\n",
    "\n",
    "    Intenta sumarlos entre ellos. ¿Puedes? ¿Por qué? "
   ]
  },
  {
   "cell_type": "code",
   "execution_count": 23,
   "metadata": {},
   "outputs": [
    {
     "name": "stdout",
     "output_type": "stream",
     "text": [
      "El array de unos es: \n",
      " [[[1. 1. 1.]\n",
      "  [1. 1. 1.]]\n",
      "\n",
      " [[1. 1. 1.]\n",
      "  [1. 1. 1.]]\n",
      "\n",
      " [[1. 1. 1.]\n",
      "  [1. 1. 1.]]\n",
      "\n",
      " [[1. 1. 1.]\n",
      "  [1. 1. 1.]]\n",
      "\n",
      " [[1. 1. 1.]\n",
      "  [1. 1. 1.]]]\n",
      "\n",
      "El array aleatorio del 0 al 1 es: \n",
      " [[[0.13937118 0.21976729 0.10895996 0.07391135]\n",
      "  [0.93197194 0.64117279 0.22732802 0.67937108]\n",
      "  [0.46198254 0.44378195 0.44300681 0.36432627]]\n",
      "\n",
      " [[0.84577309 0.03540046 0.14530908 0.91526716]\n",
      "  [0.79587425 0.31333198 0.40886771 0.98949274]\n",
      "  [0.62691072 0.3210469  0.12344357 0.38710599]]]\n",
      "\n",
      "No se ha podido sumar ambos arrays ya que sus dimensiones son diferentes: uno es de tamaño 5x2x3 y el otro es 2x3x5\n"
     ]
    }
   ],
   "source": [
    "array_unos = np.ones((5 , 2 , 3))\n",
    "print(f\"El array de unos es: \\n {array_unos}\")\n",
    "\n",
    "array_aleatorio = np.random.rand(2 , 3 , 4)\n",
    "print(f\"\\nEl array aleatorio del 0 al 1 es: \\n {array_aleatorio}\")\n",
    "\n",
    "\n",
    "try:\n",
    "    suma = np.add(array_unos , array_aleatorio)\n",
    "except:\n",
    "    print(f\"\\nNo se ha podido sumar ambos arrays ya que sus dimensiones son diferentes: uno es de tamaño 5x2x3 y el otro es 2x3x5\")"
   ]
  },
  {
   "cell_type": "markdown",
   "metadata": {},
   "source": [
    "6. Crea un *array* unidimensional con 50 elementos con el método que prefieras y extrae: \n",
    "\n",
    "    - El primer elemento.\n",
    "\n",
    "\n",
    "    - Lo elementos que están en posición impar.\n",
    "\n",
    "\n",
    "    - Los cuatro primeros elementos.\n",
    "\n",
    "\n",
    "    - Los últimos tres elementos.\n",
    "\n",
    "\n",
    "    - Los elementos entre el 4 y el 8(incluido). "
   ]
  },
  {
   "cell_type": "code",
   "execution_count": 41,
   "metadata": {},
   "outputs": [
    {
     "name": "stdout",
     "output_type": "stream",
     "text": [
      "El array unidimensional de 50 elementos es: \n",
      "[ 0  1  2  3  4  5  6  7  8  9 10 11 12 13 14 15 16 17 18 19 20 21 22 23\n",
      " 24 25 26 27 28 29 30 31 32 33 34 35 36 37 38 39 40 41 42 43 44 45 46 47\n",
      " 48 49]\n",
      "El primer elemento es: 0\n",
      "Todos los elementos en posición impar del array son: [ 1  3  5  7  9 11 13 15 17 19 21 23 25 27 29 31 33 35 37 39 41 43 45 47\n",
      " 49]\n",
      "Los cuatro primeros elementos son: [0 1 2 3]\n",
      "Los últimos tres elementos son: [47 48 49]\n",
      "Los elementos entre el 4 y el 8 (incluido) son: [4 5 6 7 8]\n"
     ]
    }
   ],
   "source": [
    "array_50 = np.arange(50)\n",
    "\n",
    "print(f\"El array unidimensional de 50 elementos es: \\n{array_50}\")\n",
    "print(f\"El primer elemento es: {array_50[0]}\")\n",
    "print(f\"Todos los elementos en posición impar del array son: {array_50[1::2]}\")\n",
    "print(f\"Los cuatro primeros elementos son: {array_50[:4]}\")\n",
    "print(f\"Los últimos tres elementos son: {array_50[-3:]}\")\n",
    "print(f\"Los elementos entre el 4 y el 8 (incluido) son: {array_50[4:9]}\")"
   ]
  },
  {
   "cell_type": "markdown",
   "metadata": {},
   "source": [
    "7. Crea un *array* de dos dimensiones de 4 x 5 con el método que prefieras y extrae:\n",
    "\n",
    "    - La primera fila y todas las columnas.\n",
    "\n",
    "\n",
    "    - Todas las filas pares.\n",
    "\n",
    "\n",
    "    - La primera columna y todas las filas."
   ]
  },
  {
   "cell_type": "code",
   "execution_count": 39,
   "metadata": {},
   "outputs": [
    {
     "name": "stdout",
     "output_type": "stream",
     "text": [
      "El array bidimensional es: \n",
      "[[18 10 18 14  8]\n",
      " [ 7  7  6  9 17]\n",
      " [ 5 15  6 14 14]\n",
      " [12  7  5 10 16]]\n"
     ]
    }
   ],
   "source": [
    "array_bi_2 = np.random.randint(5 , 20 , (4 , 5))\n",
    "\n",
    "print(f\"El array bidimensional es: \\n{array_bi_2}\")"
   ]
  },
  {
   "cell_type": "code",
   "execution_count": 44,
   "metadata": {},
   "outputs": [
    {
     "name": "stdout",
     "output_type": "stream",
     "text": [
      "La primera fila y todas las columnas del array: [18 10 18 14  8]\n",
      "Todas las filas pares: [[18 10 18 14  8]\n",
      " [ 5 15  6 14 14]]\n",
      "La primera columna y todas las filas: [18  7  5 12]\n"
     ]
    }
   ],
   "source": [
    "print(f\"La primera fila y todas las columnas del array: {array_bi_2[0]}\")\n",
    "print(f\"Todas las filas pares: {array_bi_2[::2]}\")\n",
    "print(f\"La primera columna y todas las filas: {array_bi_2[: , 0]}\")"
   ]
  },
  {
   "cell_type": "markdown",
   "metadata": {},
   "source": [
    "8. Crea una matriz multidimensional de 2 x 3 x 5 de unos y haz una copia de la matriz multidimensional. \n",
    "\n",
    "\n",
    "    - Reemplaza los siguientes valores:\n",
    "\n",
    "        - Array 1, fila 2, columna 3 por 100\n",
    "        \n",
    "        - Array 2, fila 1, columna 4 por 100\n",
    "        \n",
    "        - Array 1, fila 3, columna 2 por 100\n",
    "        \n",
    "        - Array 2, fila 2, columna 1 por 100\n",
    "\n",
    "\n",
    "    - Haz una copia de la matriz anterior. Crea una matriz de 1 de 5 x 2 x 3 e intenta sumarla a la copia. ¿Se puede?  ¿Por qué?\n",
    "\n",
    "\n",
    "    - Trata de modificar las dimensiones de tu matriz de unos para poder sumarla con la copia. Hazlo de las dos formas:\n",
    "\n",
    "        - `transpose`\n",
    "        \n",
    "        - `reshape`\n",
    "        \n",
    "    - Vuelve a intentar sumar las dos matrices"
   ]
  },
  {
   "cell_type": "code",
   "execution_count": 49,
   "metadata": {},
   "outputs": [
    {
     "name": "stdout",
     "output_type": "stream",
     "text": [
      "Array original:\n",
      " [[[1. 1. 1. 1. 1.]\n",
      "  [1. 1. 1. 1. 1.]\n",
      "  [1. 1. 1. 1. 1.]]\n",
      "\n",
      " [[1. 1. 1. 1. 1.]\n",
      "  [1. 1. 1. 1. 1.]\n",
      "  [1. 1. 1. 1. 1.]]]\n",
      "\n",
      "Copia de la matriz original:\n",
      "[[[1. 1. 1. 1. 1.]\n",
      "  [1. 1. 1. 1. 1.]\n",
      "  [1. 1. 1. 1. 1.]]\n",
      "\n",
      " [[1. 1. 1. 1. 1.]\n",
      "  [1. 1. 1. 1. 1.]\n",
      "  [1. 1. 1. 1. 1.]]]\n",
      "\n",
      "Array original con valores modificados:\n",
      " [[[  1.   1.   1.   1.   1.]\n",
      "  [  1.   1. 100.   1.   1.]\n",
      "  [  1. 100.   1.   1.   1.]]\n",
      "\n",
      " [[  1.   1.   1.   1.   1.]\n",
      "  [  1.   1.   1.   1.   1.]\n",
      "  [  1.   1.   1.   1.   1.]]]\n",
      "\n",
      "Copia de la matriz original con valores modificados:\n",
      "[[[  1.   1.   1.   1.   1.]\n",
      "  [  1.   1.   1.   1.   1.]\n",
      "  [  1.   1.   1.   1.   1.]]\n",
      "\n",
      " [[  1.   1.   1. 100.   1.]\n",
      "  [100.   1.   1.   1.   1.]\n",
      "  [  1.   1.   1.   1.   1.]]]\n",
      "\n",
      "Resultado de la suma usando transpose:\n",
      "[[[  2.   2.   2.   2.   2.]\n",
      "  [  2.   2.   2.   2.   2.]\n",
      "  [  2.   2.   2.   2.   2.]]\n",
      "\n",
      " [[  2.   2.   2. 101.   2.]\n",
      "  [101.   2.   2.   2.   2.]\n",
      "  [  2.   2.   2.   2.   2.]]]\n",
      "\n",
      "Resultado de la suma usando reshape:\n",
      "[[[  2.   2.   2.   2.   2.]\n",
      "  [  2.   2.   2.   2.   2.]\n",
      "  [  2.   2.   2.   2.   2.]]\n",
      "\n",
      " [[  2.   2.   2. 101.   2.]\n",
      "  [101.   2.   2.   2.   2.]\n",
      "  [  2.   2.   2.   2.   2.]]]\n"
     ]
    }
   ],
   "source": [
    "array_unos_2 = np.ones((2, 3, 5))\n",
    "print(f\"Array original:\\n {array_unos_2}\")\n",
    "\n",
    "\n",
    "copia_array = array_unos_2.copy()\n",
    "print(f\"\\nCopia de la matriz original:\\n{copia_array}\")\n",
    "\n",
    "# Reemplaza los valores:\n",
    "array_unos_2[0, 1, 2] = 100  \n",
    "copia_array[1, 0, 3] = 100  \n",
    "array_unos_2[0, 2, 1] = 100  \n",
    "copia_array[1, 1, 0] = 100  \n",
    "\n",
    "print(f\"\\nArray original con valores modificados:\\n {array_unos_2}\")\n",
    "print(f\"\\nCopia de la matriz original con valores modificados:\\n{copia_array}\")\n",
    "\n",
    "# Al intentar sumar esta matriz dará el mismo error que en el ejercicio 5 porque las dimensiones no coinciden\n",
    "array_unos_3 = np.ones((5, 2, 3))\n",
    "\n",
    "# Modifica las dimensiones de la matriz de unos con TRANSPOSE\n",
    "array_unos_3_transp = np.transpose(array_unos_3, (1, 2, 0))\n",
    "print(f\"\\nResultado de la suma usando transpose:\\n{np.add(copia_array , array_unos_3_transp)}\")\n",
    "\n",
    "# Modifica las dimensiones de la matriz de unos con RESHAPE\n",
    "array_unos_3_reshaped = array_unos_3.reshape(2, 3, 5)\n",
    "print(f\"\\nResultado de la suma usando reshape:\\n{np.add(copia_array , array_unos_3_reshaped)}\")\n",
    "\n",
    "\n"
   ]
  },
  {
   "cell_type": "markdown",
   "metadata": {},
   "source": [
    "9. En este ejercicio vamos a tratar de usar algunos de los métodos aprendidos. \n",
    "\n",
    "    - Crea un *array*, puede ser bidimensional o multidimensional! Eso si, los valores tienen que estar entre 0-100\n",
    "\n",
    "    - Calcula: \n",
    "\n",
    "        - La media de los elementos\n",
    "        - La media de las columnas y redondéalo a dos decimales\n",
    "        - El valor máximo de cada fila\n",
    "        - El valor mínimo de cada fila\n",
    "        - Hay algun valor que sea mayor que 90 en tu *array* \n",
    "        - Donde los podemos encontrar, cuáles son sus índices\n",
    "        - Ordena el *array* de mayor a menor"
   ]
  },
  {
   "cell_type": "code",
   "execution_count": 57,
   "metadata": {},
   "outputs": [
    {
     "name": "stdout",
     "output_type": "stream",
     "text": [
      "Array random:\n",
      " [[63  6 91  4]\n",
      " [98 59 77 74]\n",
      " [81 77 74 18]]\n"
     ]
    }
   ],
   "source": [
    "array_random_2 = np.random.randint(0 , 100 , (3 , 4))\n",
    "print(f\"Array random:\\n {array_random_2}\")"
   ]
  },
  {
   "cell_type": "code",
   "execution_count": 61,
   "metadata": {},
   "outputs": [
    {
     "name": "stdout",
     "output_type": "stream",
     "text": [
      "La media de todos los elementos del array es:\n",
      " 60.166666666666664\n",
      "\n",
      "La media de los elementos de las columnas es:\n",
      " [80.67 47.33 80.67 32.  ]\n",
      "\n",
      "El valor máximo de cada fila es:\n",
      " [91 98 81]\n",
      "\n",
      "El valor mínimo de cada fila es:\n",
      " [ 4 59 18]\n",
      "\n",
      "Los datos mayores de 90 son:\n",
      " [91 98]\n",
      "Y se encuentran en:\n",
      " (array([0, 1]), array([2, 0]))\n",
      "\n",
      "El array ordenado de mayor a menor es:\n",
      "[[91 63  6  4]\n",
      " [98 77 74 59]\n",
      " [81 77 74 18]]\n"
     ]
    }
   ],
   "source": [
    "media_el = np.mean(array_random_2)\n",
    "print(f\"La media de todos los elementos del array es:\\n {media_el}\")\n",
    "\n",
    "media_col = np.round(np.mean(array_random_2 , axis = 0) , 2)\n",
    "print(f\"\\nLa media de los elementos de las columnas es:\\n {media_col}\")\n",
    "\n",
    "max_fila = np.max(array_random_2 , axis = 1)\n",
    "print(f\"\\nEl valor máximo de cada fila es:\\n {max_fila}\")\n",
    "\n",
    "min_fila = np.min(array_random_2 , axis = 1)\n",
    "print(f\"\\nEl valor mínimo de cada fila es:\\n {min_fila}\")\n",
    "\n",
    "mascara = array_random_2 > 90\n",
    "print(f\"\\nLos datos mayores de 90 son:\\n {array_random_2[mascara]}\") \n",
    "print(f\"Y se encuentran en:\\n {np.where(array_random_2 > 90)}\") \n",
    "\n",
    "print(f\"\\nEl array ordenado de mayor a menor es:\\n{-np.sort(-array_random_2)}\")\n",
    "\n"
   ]
  }
 ],
 "metadata": {
  "kernelspec": {
   "display_name": "base",
   "language": "python",
   "name": "python3"
  },
  "language_info": {
   "codemirror_mode": {
    "name": "ipython",
    "version": 3
   },
   "file_extension": ".py",
   "mimetype": "text/x-python",
   "name": "python",
   "nbconvert_exporter": "python",
   "pygments_lexer": "ipython3",
   "version": "3.9.7"
  }
 },
 "nbformat": 4,
 "nbformat_minor": 2
}
