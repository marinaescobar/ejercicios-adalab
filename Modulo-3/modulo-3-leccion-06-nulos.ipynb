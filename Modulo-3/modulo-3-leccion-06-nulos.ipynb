{
 "cells": [
  {
   "cell_type": "code",
   "execution_count": 1,
   "metadata": {},
   "outputs": [],
   "source": [
    "import pandas as pd\n",
    "import numpy as np\n",
    "\n",
    "from sklearn.impute import SimpleImputer\n",
    "from sklearn.experimental import enable_iterative_imputer\n",
    "from sklearn.impute import IterativeImputer\n",
    "from sklearn.impute import KNNImputer\n",
    "\n",
    "import seaborn as sns\n",
    "import matplotlib.pyplot as plt\n",
    "\n",
    "pd.set_option('display.max_columns', None) "
   ]
  },
  {
   "cell_type": "markdown",
   "metadata": {},
   "source": [
    "1. Cargad el csv que obtuvimos en los ejercicios de la clase invertida de ayer. "
   ]
  },
  {
   "cell_type": "code",
   "execution_count": 2,
   "metadata": {},
   "outputs": [],
   "source": [
    "df_rat = pd.read_csv('Materiales/rating-and-performance-transformado.csv' , index_col=0)"
   ]
  },
  {
   "cell_type": "code",
   "execution_count": 3,
   "metadata": {},
   "outputs": [
    {
     "data": {
      "text/html": [
       "<div>\n",
       "<style scoped>\n",
       "    .dataframe tbody tr th:only-of-type {\n",
       "        vertical-align: middle;\n",
       "    }\n",
       "\n",
       "    .dataframe tbody tr th {\n",
       "        vertical-align: top;\n",
       "    }\n",
       "\n",
       "    .dataframe thead th {\n",
       "        text-align: right;\n",
       "    }\n",
       "</style>\n",
       "<table border=\"1\" class=\"dataframe\">\n",
       "  <thead>\n",
       "    <tr style=\"text-align: right;\">\n",
       "      <th></th>\n",
       "      <th>title</th>\n",
       "      <th>price</th>\n",
       "      <th>retail_price</th>\n",
       "      <th>units_sold</th>\n",
       "      <th>uses_ad_boosts</th>\n",
       "      <th>rating_x</th>\n",
       "      <th>rating_count</th>\n",
       "      <th>rating_five_count</th>\n",
       "      <th>rating_four_count</th>\n",
       "      <th>rating_three_count</th>\n",
       "      <th>rating_two_count</th>\n",
       "      <th>rating_one_count</th>\n",
       "      <th>badge_local_product</th>\n",
       "      <th>badge_product_quality</th>\n",
       "      <th>badge_fast_shipping</th>\n",
       "      <th>tags</th>\n",
       "      <th>product_color</th>\n",
       "      <th>product_variation_size_id</th>\n",
       "      <th>shipping_option_name</th>\n",
       "      <th>shipping_option_price</th>\n",
       "      <th>shipping_is_express</th>\n",
       "      <th>countries_shipped_to</th>\n",
       "      <th>inventory_total</th>\n",
       "      <th>origin_country</th>\n",
       "      <th>merchant_name</th>\n",
       "      <th>merchant_info_subtitle</th>\n",
       "      <th>merchant_rating_count</th>\n",
       "      <th>merchant_id</th>\n",
       "      <th>product_id</th>\n",
       "      <th>listed_products</th>\n",
       "      <th>total_units_sold</th>\n",
       "      <th>mean_units_sold_per_product</th>\n",
       "      <th>rating_y</th>\n",
       "      <th>merchant_ratings_count</th>\n",
       "      <th>mean_product_prices</th>\n",
       "      <th>mean_retail_prices</th>\n",
       "      <th>mean_product_ratings_count</th>\n",
       "      <th>urgency_text_rate</th>\n",
       "      <th>discount_percentage</th>\n",
       "      <th>seller_reputation</th>\n",
       "    </tr>\n",
       "  </thead>\n",
       "  <tbody>\n",
       "    <tr>\n",
       "      <th>0</th>\n",
       "      <td>2020 Summer Vintage Flamingo Print  Pajamas Se...</td>\n",
       "      <td>16.0</td>\n",
       "      <td>14</td>\n",
       "      <td>100</td>\n",
       "      <td>No</td>\n",
       "      <td>3.76</td>\n",
       "      <td>54</td>\n",
       "      <td>26.0</td>\n",
       "      <td>8.0</td>\n",
       "      <td>10.0</td>\n",
       "      <td>1.0</td>\n",
       "      <td>9.0</td>\n",
       "      <td>No</td>\n",
       "      <td>Good</td>\n",
       "      <td>No</td>\n",
       "      <td>Summer,Fashion,womenunderwearsuit,printedpajam...</td>\n",
       "      <td>white</td>\n",
       "      <td>M</td>\n",
       "      <td>Livraison standard</td>\n",
       "      <td>4</td>\n",
       "      <td>No</td>\n",
       "      <td>34</td>\n",
       "      <td>50</td>\n",
       "      <td>CN</td>\n",
       "      <td>zgrdejia</td>\n",
       "      <td>NaN</td>\n",
       "      <td>568</td>\n",
       "      <td>595097d6a26f6e070cb878d1</td>\n",
       "      <td>5e9ae51d43d6a96e303acdb0</td>\n",
       "      <td>1</td>\n",
       "      <td>100</td>\n",
       "      <td>100.0</td>\n",
       "      <td>4.129</td>\n",
       "      <td>568.0</td>\n",
       "      <td>16.0</td>\n",
       "      <td>14.0</td>\n",
       "      <td>54.0</td>\n",
       "      <td>100.0</td>\n",
       "      <td>12.5</td>\n",
       "      <td>Good</td>\n",
       "    </tr>\n",
       "  </tbody>\n",
       "</table>\n",
       "</div>"
      ],
      "text/plain": [
       "                                               title  price  retail_price  \\\n",
       "0  2020 Summer Vintage Flamingo Print  Pajamas Se...   16.0            14   \n",
       "\n",
       "   units_sold uses_ad_boosts  rating_x  rating_count  rating_five_count  \\\n",
       "0         100             No      3.76            54               26.0   \n",
       "\n",
       "   rating_four_count  rating_three_count  rating_two_count  rating_one_count  \\\n",
       "0                8.0                10.0               1.0               9.0   \n",
       "\n",
       "  badge_local_product badge_product_quality badge_fast_shipping  \\\n",
       "0                  No                  Good                  No   \n",
       "\n",
       "                                                tags product_color  \\\n",
       "0  Summer,Fashion,womenunderwearsuit,printedpajam...         white   \n",
       "\n",
       "  product_variation_size_id shipping_option_name  shipping_option_price  \\\n",
       "0                         M   Livraison standard                      4   \n",
       "\n",
       "  shipping_is_express  countries_shipped_to  inventory_total origin_country  \\\n",
       "0                  No                    34               50             CN   \n",
       "\n",
       "  merchant_name merchant_info_subtitle  merchant_rating_count  \\\n",
       "0      zgrdejia                    NaN                    568   \n",
       "\n",
       "                merchant_id                product_id  listed_products  \\\n",
       "0  595097d6a26f6e070cb878d1  5e9ae51d43d6a96e303acdb0                1   \n",
       "\n",
       "   total_units_sold  mean_units_sold_per_product  rating_y  \\\n",
       "0               100                        100.0     4.129   \n",
       "\n",
       "   merchant_ratings_count  mean_product_prices  mean_retail_prices  \\\n",
       "0                   568.0                 16.0                14.0   \n",
       "\n",
       "   mean_product_ratings_count  urgency_text_rate  discount_percentage  \\\n",
       "0                        54.0              100.0                 12.5   \n",
       "\n",
       "  seller_reputation  \n",
       "0              Good  "
      ]
     },
     "execution_count": 3,
     "metadata": {},
     "output_type": "execute_result"
    }
   ],
   "source": [
    "df_rat.head(1)"
   ]
  },
  {
   "cell_type": "markdown",
   "metadata": {},
   "source": [
    "2. ¿Qué columnas tienen nulos? "
   ]
  },
  {
   "cell_type": "code",
   "execution_count": 4,
   "metadata": {},
   "outputs": [
    {
     "name": "stdout",
     "output_type": "stream",
     "text": [
      "Las columnas que contienen nulos son:\n",
      "\n",
      "rating_five_count --- 45 nulos\n",
      "rating_four_count --- 45 nulos\n",
      "rating_three_count --- 45 nulos\n",
      "rating_two_count --- 45 nulos\n",
      "rating_one_count --- 45 nulos\n",
      "product_color --- 41 nulos\n",
      "product_variation_size_id --- 14 nulos\n",
      "origin_country --- 17 nulos\n",
      "merchant_name --- 4 nulos\n",
      "merchant_info_subtitle --- 294 nulos\n",
      "urgency_text_rate --- 668 nulos\n"
     ]
    }
   ],
   "source": [
    "print(\"Las columnas que contienen nulos son:\\n\")\n",
    "\n",
    "columnas_null = []\n",
    "\n",
    "for column in df_rat.columns:\n",
    "    \n",
    "    if df_rat[column].isna().sum() > 0:\n",
    "        print(f\"{column} --- {df_rat[column].isna().sum()} nulos\")\n",
    "        columnas_null.append(column)"
   ]
  },
  {
   "cell_type": "markdown",
   "metadata": {},
   "source": [
    "3. Explorad los nulos que hay en el DataFrame. "
   ]
  },
  {
   "cell_type": "code",
   "execution_count": 5,
   "metadata": {},
   "outputs": [],
   "source": [
    "# Separamos según categóricas o numéricas\n",
    "cat_columns = [column for column in columnas_null if df_rat[column].dtype == \"O\"]\n",
    "num_columns = [column for column in columnas_null if df_rat[column].dtype == \"float64\"]"
   ]
  },
  {
   "cell_type": "code",
   "execution_count": 6,
   "metadata": {},
   "outputs": [
    {
     "name": "stdout",
     "output_type": "stream",
     "text": [
      "Revisando PRODUCT_COLOR:\n"
     ]
    },
    {
     "data": {
      "text/plain": [
       "black               19.20\n",
       "white               16.15\n",
       "yellow               6.68\n",
       "pink                 6.29\n",
       "blue                 6.29\n",
       "                    ...  \n",
       "red & blue           0.06\n",
       "winered & yellow     0.06\n",
       "claret               0.06\n",
       "lightpurple          0.06\n",
       "gold                 0.06\n",
       "Name: product_color, Length: 101, dtype: float64"
      ]
     },
     "metadata": {},
     "output_type": "display_data"
    },
    {
     "name": "stdout",
     "output_type": "stream",
     "text": [
      " \n",
      "Revisando PRODUCT_VARIATION_SIZE_ID:\n"
     ]
    },
    {
     "data": {
      "text/plain": [
       "S            40.75\n",
       "XS           22.63\n",
       "M            12.71\n",
       "XXS           6.36\n",
       "L             3.12\n",
       "             ...  \n",
       "White         0.06\n",
       "32/L          0.06\n",
       "Size XXS      0.06\n",
       "Pack of 1     0.06\n",
       "SIZE S        0.06\n",
       "Name: product_variation_size_id, Length: 106, dtype: float64"
      ]
     },
     "metadata": {},
     "output_type": "display_data"
    },
    {
     "name": "stdout",
     "output_type": "stream",
     "text": [
      " \n",
      "Revisando ORIGIN_COUNTRY:\n"
     ]
    },
    {
     "data": {
      "text/plain": [
       "CN    96.38\n",
       "US     1.97\n",
       "VE     0.32\n",
       "SG     0.13\n",
       "AT     0.06\n",
       "GB     0.06\n",
       "Name: origin_country, dtype: float64"
      ]
     },
     "metadata": {},
     "output_type": "display_data"
    },
    {
     "name": "stdout",
     "output_type": "stream",
     "text": [
      " \n",
      "Revisando MERCHANT_NAME:\n"
     ]
    },
    {
     "data": {
      "text/plain": [
       "广州唯适唯服饰有限公司                              0.95\n",
       "greatexpectationstechnology              0.76\n",
       "sjhdstoer                                0.57\n",
       "shuilingjiaointernationaltradecompany    0.51\n",
       "sangboostore                             0.51\n",
       "                                         ... \n",
       "asmalltwistofsweetfruit                  0.06\n",
       "supumawallsticker                        0.06\n",
       "haoyouduooo                              0.06\n",
       "successed                                0.06\n",
       "aishoppingmall                           0.06\n",
       "Name: merchant_name, Length: 957, dtype: float64"
      ]
     },
     "metadata": {},
     "output_type": "display_data"
    },
    {
     "name": "stdout",
     "output_type": "stream",
     "text": [
      " \n",
      "Revisando MERCHANT_INFO_SUBTITLE:\n"
     ]
    },
    {
     "data": {
      "text/plain": [
       "86 % avis positifs         8.58\n",
       "85 % avis positifs         8.26\n",
       "87 % avis positifs         6.80\n",
       "88 % avis positifs         6.61\n",
       "84 % avis positifs         6.48\n",
       "                           ... \n",
       "83% Positives Feedback     0.06\n",
       "61 % avis positifs         0.06\n",
       "84% ردود فعل إيجابية       0.06\n",
       "56 % avis positifs         0.06\n",
       "84% Positive Feedback      0.06\n",
       "Name: merchant_info_subtitle, Length: 73, dtype: float64"
      ]
     },
     "metadata": {},
     "output_type": "display_data"
    },
    {
     "name": "stdout",
     "output_type": "stream",
     "text": [
      " \n"
     ]
    }
   ],
   "source": [
    "# Exploración de los datos categóricos\n",
    "for column in cat_columns:\n",
    "    print(f\"Revisando {column.upper()}:\")\n",
    "    display(round((df_rat[column].value_counts() / df_rat.shape[0]) * 100,2))\n",
    "    print(\" \")"
   ]
  },
  {
   "cell_type": "code",
   "execution_count": 7,
   "metadata": {},
   "outputs": [
    {
     "name": "stdout",
     "output_type": "stream",
     "text": [
      "Revisando RATING_FIVE_COUNT:\n"
     ]
    },
    {
     "data": {
      "text/plain": [
       "1.0       3.12\n",
       "5.0       3.12\n",
       "3.0       2.80\n",
       "2.0       2.73\n",
       "4.0       2.16\n",
       "          ... \n",
       "786.0     0.06\n",
       "911.0     0.06\n",
       "1158.0    0.06\n",
       "819.0     0.06\n",
       "258.0     0.06\n",
       "Name: rating_five_count, Length: 605, dtype: float64"
      ]
     },
     "metadata": {},
     "output_type": "display_data"
    },
    {
     "name": "stdout",
     "output_type": "stream",
     "text": [
      " \n",
      "Revisando RATING_FOUR_COUNT:\n"
     ]
    },
    {
     "data": {
      "text/plain": [
       "0.0       6.10\n",
       "1.0       5.79\n",
       "2.0       4.26\n",
       "3.0       3.37\n",
       "4.0       3.37\n",
       "          ... \n",
       "850.0     0.06\n",
       "1411.0    0.06\n",
       "239.0     0.06\n",
       "103.0     0.06\n",
       "606.0     0.06\n",
       "Name: rating_four_count, Length: 440, dtype: float64"
      ]
     },
     "metadata": {},
     "output_type": "display_data"
    },
    {
     "name": "stdout",
     "output_type": "stream",
     "text": [
      " \n",
      "Revisando RATING_THREE_COUNT:\n"
     ]
    },
    {
     "data": {
      "text/plain": [
       "0.0      8.77\n",
       "1.0      5.47\n",
       "2.0      5.02\n",
       "5.0      3.37\n",
       "3.0      3.24\n",
       "         ... \n",
       "419.0    0.06\n",
       "449.0    0.06\n",
       "998.0    0.06\n",
       "390.0    0.06\n",
       "399.0    0.06\n",
       "Name: rating_three_count, Length: 384, dtype: float64"
      ]
     },
     "metadata": {},
     "output_type": "display_data"
    },
    {
     "name": "stdout",
     "output_type": "stream",
     "text": [
      " \n",
      "Revisando RATING_TWO_COUNT:\n"
     ]
    },
    {
     "data": {
      "text/plain": [
       "0.0      12.46\n",
       "1.0      10.11\n",
       "2.0       5.34\n",
       "3.0       4.45\n",
       "4.0       3.56\n",
       "         ...  \n",
       "842.0     0.06\n",
       "182.0     0.06\n",
       "644.0     0.06\n",
       "562.0     0.06\n",
       "135.0     0.06\n",
       "Name: rating_two_count, Length: 262, dtype: float64"
      ]
     },
     "metadata": {},
     "output_type": "display_data"
    },
    {
     "name": "stdout",
     "output_type": "stream",
     "text": [
      " \n",
      "Revisando RATING_ONE_COUNT:\n"
     ]
    },
    {
     "data": {
      "text/plain": [
       "1.0      7.37\n",
       "0.0      7.37\n",
       "3.0      4.83\n",
       "2.0      4.64\n",
       "4.0      3.75\n",
       "         ... \n",
       "281.0    0.06\n",
       "218.0    0.06\n",
       "52.0     0.06\n",
       "145.0    0.06\n",
       "105.0    0.06\n",
       "Name: rating_one_count, Length: 330, dtype: float64"
      ]
     },
     "metadata": {},
     "output_type": "display_data"
    },
    {
     "name": "stdout",
     "output_type": "stream",
     "text": [
      " \n",
      "Revisando URGENCY_TEXT_RATE:\n"
     ]
    },
    {
     "data": {
      "text/plain": [
       "50.0     21.49\n",
       "33.0      9.92\n",
       "100.0     9.85\n",
       "25.0      5.85\n",
       "40.0      4.45\n",
       "67.0      2.10\n",
       "20.0      0.95\n",
       "17.0      0.76\n",
       "60.0      0.64\n",
       "63.0      0.51\n",
       "14.0      0.45\n",
       "80.0      0.32\n",
       "75.0      0.25\n",
       "Name: urgency_text_rate, dtype: float64"
      ]
     },
     "metadata": {},
     "output_type": "display_data"
    },
    {
     "name": "stdout",
     "output_type": "stream",
     "text": [
      " \n",
      "Revisando RATING_FIVE_COUNT:\n",
      "Media: 442.2637434554974\n",
      "Mediana: 79.0\n",
      " \n",
      "Revisando RATING_FOUR_COUNT:\n",
      "Media: 179.59947643979058\n",
      "Mediana: 31.5\n",
      " \n",
      "Revisando RATING_THREE_COUNT:\n",
      "Media: 134.5497382198953\n",
      "Mediana: 24.0\n",
      " \n",
      "Revisando RATING_TWO_COUNT:\n",
      "Media: 63.71138743455497\n",
      "Mediana: 11.0\n",
      " \n",
      "Revisando RATING_ONE_COUNT:\n",
      "Media: 95.73560209424083\n",
      "Mediana: 20.0\n",
      " \n",
      "Revisando URGENCY_TEXT_RATE:\n",
      "Media: 52.226519337016576\n",
      "Mediana: 50.0\n",
      " \n"
     ]
    }
   ],
   "source": [
    "# Exploración de los valores datos numéricos\n",
    "for column in num_columns:\n",
    "    print(f\"Revisando {column.upper()}:\")\n",
    "    display(round((df_rat[column].value_counts() / df_rat.shape[0]) * 100,2))\n",
    "    print(\" \")\n",
    "    \n",
    "# Exploración de la media y mediana de los datos numéricos\n",
    "for column in num_columns:\n",
    "    print(f\"Revisando {column.upper()}:\")\n",
    "    desc = df_rat[column].describe()\n",
    "    print(\"Media:\", desc['mean'])\n",
    "    print(\"Mediana:\", desc['50%'])\n",
    "    print(\" \")"
   ]
  },
  {
   "cell_type": "markdown",
   "metadata": {},
   "source": [
    "4. Con lo aprendido en la lección de hoy gestiona los nulos de la forma que consideres más correcta. Mañana en clase discutiremos sobre los métodos elegidos. "
   ]
  },
  {
   "cell_type": "code",
   "execution_count": 8,
   "metadata": {},
   "outputs": [
    {
     "name": "stdout",
     "output_type": "stream",
     "text": [
      "Después del reemplazo usando 'fillna' quedan los siguientes nulos\n"
     ]
    },
    {
     "data": {
      "text/plain": [
       "product_color                0\n",
       "product_variation_size_id    0\n",
       "origin_country               0\n",
       "merchant_name                0\n",
       "merchant_info_subtitle       0\n",
       "dtype: int64"
      ]
     },
     "execution_count": 8,
     "metadata": {},
     "output_type": "execute_result"
    }
   ],
   "source": [
    "# Una vez estudiados los datos, se toman las siguientes consideraciones:\n",
    "# --Reemplazar por 'unknown' aquellas columnas que no tienen una moda definida: product_color, product_variation_size_id, merchant_name, merchant_info_subtitle\n",
    "# --Reemplazar por la moda aquellas columnas que tienen una variable predominante: origin_country\n",
    "\n",
    "for column in cat_columns:\n",
    "    \n",
    "    if column == 'origin_country':\n",
    "        \n",
    "        moda = df_rat[column].mode()[0]\n",
    "        df_rat[column] = df_rat[column].fillna(moda)\n",
    "    \n",
    "    else:\n",
    "        \n",
    "        df_rat[column] = df_rat[column].fillna('unknown')\n",
    "\n",
    "print(\"Después del reemplazo usando 'fillna' quedan los siguientes nulos\")\n",
    "df_rat[cat_columns].isnull().sum() "
   ]
  },
  {
   "cell_type": "code",
   "execution_count": 9,
   "metadata": {},
   "outputs": [
    {
     "name": "stdout",
     "output_type": "stream",
     "text": [
      "Después del 'SimpleImputer' tenemos 0 nulos\n"
     ]
    }
   ],
   "source": [
    "# Una vez estudiados los datos, se toman las siguientes consideraciones:\n",
    "# --Reemplazar por la media aquella columna que no parece tener dispersión de datos: urgency_text_rate\n",
    "# --Probar KNN Imputer e Iterative Imputer en el resto a ver cuál mantiene datos parecidos\n",
    "\n",
    "# Quita la columna que reemplazaremos por la media\n",
    "num_columns.remove('urgency_text_rate')\n",
    "\n",
    "# Creamos el objeto de la clase del SimpleImputer\n",
    "imputer = SimpleImputer(strategy = \"mean\")\n",
    "\n",
    "df_rat[\"urgency_text_rate\"] = imputer.fit_transform(df_rat[[\"urgency_text_rate\"]])\n",
    "\n",
    "print(f\"Después del 'SimpleImputer' tenemos {df_rat['urgency_text_rate'].isnull().sum()} nulos\")"
   ]
  },
  {
   "cell_type": "code",
   "execution_count": 10,
   "metadata": {},
   "outputs": [
    {
     "name": "stdout",
     "output_type": "stream",
     "text": [
      "Después del 'Iterative' tenemos: \n",
      "rating_five_count     0\n",
      "rating_four_count     0\n",
      "rating_three_count    0\n",
      "rating_two_count      0\n",
      "rating_one_count      0\n",
      "dtype: int64 nulos\n"
     ]
    }
   ],
   "source": [
    "# Creamos dos copias del DF para probar los distintos modos\n",
    "dfIT = df_rat.copy()\n",
    "dfKNN = df_rat.copy()\n",
    "\n",
    "# Probamos a reemplazar con Iterative\n",
    "imputer_iterative = IterativeImputer(max_iter = 20, random_state = 42)\n",
    "imputer_iterative_imputado = imputer_iterative.fit_transform(dfIT[num_columns])\n",
    "dfIT[num_columns] = imputer_iterative_imputado\n",
    "\n",
    "# Comprobamos los nulos\n",
    "print(f\"Después del 'Iterative' tenemos: \\n{dfIT[num_columns].isnull().sum()} nulos\")"
   ]
  },
  {
   "cell_type": "code",
   "execution_count": 11,
   "metadata": {},
   "outputs": [
    {
     "name": "stdout",
     "output_type": "stream",
     "text": [
      "Después del 'KNN Imputer' tenemos: \n",
      "rating_five_count     0\n",
      "rating_four_count     0\n",
      "rating_three_count    0\n",
      "rating_two_count      0\n",
      "rating_one_count      0\n",
      "dtype: int64 nulos\n"
     ]
    }
   ],
   "source": [
    "# Probamos a reemplazar con KNN Imputer\n",
    "imputer_knn = KNNImputer(n_neighbors = 5)\n",
    "imputer_knn_imputado = imputer_knn.fit_transform(dfKNN[num_columns])\n",
    "dfKNN[num_columns] = imputer_knn_imputado\n",
    "\n",
    "# Comprobamos los nulos\n",
    "print(f\"Después del 'KNN Imputer' tenemos: \\n{dfKNN[num_columns].isnull().sum()} nulos\")"
   ]
  },
  {
   "cell_type": "code",
   "execution_count": 14,
   "metadata": {},
   "outputs": [
    {
     "name": "stdout",
     "output_type": "stream",
     "text": [
      "REVISIÓN DEL MÉTODO ITERATIVE:\n",
      "\n",
      "Revisando RATING_FIVE_COUNT:\n",
      "Media: 442.26374345549794\n",
      "Mediana: 86.0\n",
      " \n",
      "Revisando RATING_FOUR_COUNT:\n",
      "Media: 179.59947643979058\n",
      "Mediana: 35.0\n",
      " \n",
      "Revisando RATING_THREE_COUNT:\n",
      "Media: 134.5497382198951\n",
      "Mediana: 26.0\n",
      " \n",
      "Revisando RATING_TWO_COUNT:\n",
      "Media: 63.711387434554915\n",
      "Mediana: 12.0\n",
      " \n",
      "Revisando RATING_ONE_COUNT:\n",
      "Media: 95.73560209424078\n",
      "Mediana: 22.0\n",
      " \n",
      "-----------------\n",
      "\n",
      "REVISIÓN DEL MÉTODO KNN IMPUTER:\n",
      "\n",
      "Revisando RATING_FIVE_COUNT:\n",
      "Media: 442.26374345549794\n",
      "Mediana: 86.0\n",
      " \n",
      "Revisando RATING_FOUR_COUNT:\n",
      "Media: 179.59947643979058\n",
      "Mediana: 35.0\n",
      " \n",
      "Revisando RATING_THREE_COUNT:\n",
      "Media: 134.5497382198951\n",
      "Mediana: 26.0\n",
      " \n",
      "Revisando RATING_TWO_COUNT:\n",
      "Media: 63.711387434554915\n",
      "Mediana: 12.0\n",
      " \n",
      "Revisando RATING_ONE_COUNT:\n",
      "Media: 95.73560209424078\n",
      "Mediana: 22.0\n",
      " \n"
     ]
    }
   ],
   "source": [
    "# Exploración de la media y mediana de los datos numéricos\n",
    "\n",
    "print(\"REVISIÓN DEL MÉTODO ITERATIVE:\\n\")\n",
    "for column in num_columns:\n",
    "    print(f\"Revisando {column.upper()}:\")\n",
    "    desc = dfIT[column].describe()\n",
    "    print(\"Media:\", desc['mean'])\n",
    "    print(\"Mediana:\", desc['50%'])\n",
    "    print(\" \")\n",
    "print(\"-----------------\\n\")\n",
    "print(\"REVISIÓN DEL MÉTODO KNN IMPUTER:\\n\")\n",
    "for column in num_columns:\n",
    "    print(f\"Revisando {column.upper()}:\")\n",
    "    desc = dfKNN[column].describe()\n",
    "    print(\"Media:\", desc['mean'])\n",
    "    print(\"Mediana:\", desc['50%'])\n",
    "    print(\" \")\n",
    "    \n",
    "# Con ambos métodos hemos obtenido resultados muy parecidos, así que optaremos por aplicar el Iterative dada su rapidez"
   ]
  },
  {
   "cell_type": "code",
   "execution_count": 15,
   "metadata": {},
   "outputs": [
    {
     "name": "stdout",
     "output_type": "stream",
     "text": [
      "Después del 'Iterative' tenemos: \n",
      "rating_five_count     0\n",
      "rating_four_count     0\n",
      "rating_three_count    0\n",
      "rating_two_count      0\n",
      "rating_one_count      0\n",
      "dtype: int64 nulos\n"
     ]
    }
   ],
   "source": [
    "# Hacemos el reemplazo definitivo en el DF original\n",
    "imputer_iterative = IterativeImputer(max_iter = 20, random_state = 42)\n",
    "imputer_iterative_imputado = imputer_iterative.fit_transform(df_rat[num_columns])\n",
    "df_rat[num_columns] = imputer_iterative_imputado\n",
    "\n",
    "# Comprobamos los nulos\n",
    "print(f\"Después del 'Iterative' tenemos: \\n{df_rat[num_columns].isnull().sum()} nulos\")"
   ]
  },
  {
   "cell_type": "markdown",
   "metadata": {},
   "source": [
    "5. Guardad el csv para los ejercicios de la clase invertida de mañana con las columnas sin nulos. "
   ]
  },
  {
   "cell_type": "code",
   "execution_count": 16,
   "metadata": {},
   "outputs": [],
   "source": [
    "df_rat.to_csv('Materiales/rating-and-performance-nonull.csv')"
   ]
  }
 ],
 "metadata": {
  "kernelspec": {
   "display_name": "base",
   "language": "python",
   "name": "python3"
  },
  "language_info": {
   "codemirror_mode": {
    "name": "ipython",
    "version": 3
   },
   "file_extension": ".py",
   "mimetype": "text/x-python",
   "name": "python",
   "nbconvert_exporter": "python",
   "pygments_lexer": "ipython3",
   "version": "3.9.7"
  }
 },
 "nbformat": 4,
 "nbformat_minor": 2
}
