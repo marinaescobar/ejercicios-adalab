{
 "cells": [
  {
   "cell_type": "code",
   "execution_count": 1,
   "metadata": {},
   "outputs": [],
   "source": [
    "# importamos las librerías que necesitamos\n",
    "\n",
    "# Tratamiento de datos\n",
    "import pandas as pd\n",
    "import numpy as np\n",
    "\n",
    "# Visualización\n",
    "import matplotlib.pyplot as plt\n",
    "import seaborn as sns\n",
    "\n",
    "# Evaluar linealidad de las relaciones entre las variables\n",
    "# y la distribución de las variables\n",
    "import scipy.stats as stats\n",
    "from scipy.stats import shapiro, poisson, chisquare, expon, kstest\n",
    "\n",
    "\n",
    "# Configuración\n",
    "pd.set_option('display.max_columns', None) # para poder visualizar todas las columnas de los DataFrames\n",
    "\n",
    "# Gestión de los warnings\n",
    "import warnings\n",
    "warnings.filterwarnings(\"ignore\")"
   ]
  },
  {
   "cell_type": "code",
   "execution_count": 2,
   "metadata": {},
   "outputs": [],
   "source": [
    "df = pd.read_csv(\"../files/rating-and-performance-nonull.csv\" , index_col = 0)"
   ]
  },
  {
   "cell_type": "markdown",
   "metadata": {},
   "source": [
    "1. Dadas las situaciones, decide si se trata de una distribución de tipo exponencial o de poisson. A nivel teórico, no hace falta que lo demuestres con código. "
   ]
  },
  {
   "cell_type": "markdown",
   "metadata": {},
   "source": [
    "- Imagina que estás registrando el tiempo que transcurre entre la llegada de clientes a una tienda en minutos. ¿Se asemeja más a una distribución exponencial o de Poisson?"
   ]
  },
  {
   "cell_type": "markdown",
   "metadata": {},
   "source": [
    "**Respuesta**: Si estamos registrando el tiempo transcurrido entre llegada y llegada de clientes a una tienda, sería más parecido a una distribución exponencial, ya que esta describe el tiempo entre eventos sucesivos."
   ]
  },
  {
   "cell_type": "markdown",
   "metadata": {},
   "source": [
    "- Si observas el número de accidentes que ocurren en una intersección en un día determinado, ¿tiene más sentido pensar en una distribución exponencial o de Poisson?"
   ]
  },
  {
   "cell_type": "markdown",
   "metadata": {},
   "source": [
    "**Respuesta**: Si estamos interesados en observar el número de accidentes quer ocurren en la intersección y en un día determinado (y no el tiempo que hay entre accidente y accidente), entonces tendría más sentido emplear la distribución de Poisson. Esta describe la probabilidad de que un número específico de eventos ocurran en un intervalo de tiempo dado."
   ]
  },
  {
   "cell_type": "markdown",
   "metadata": {},
   "source": [
    "   - Cuando las personas esperan en una cola para recibir atención al cliente en una tienda, se registra el tiempo que esperan en minutos. ¿Parece seguir una distribución exponencial o de Poisson?"
   ]
  },
  {
   "cell_type": "markdown",
   "metadata": {},
   "source": [
    "**Respuesta**: Se seguiría una distribución exponencial, según el razonamiento expresado previamente."
   ]
  },
  {
   "cell_type": "markdown",
   "metadata": {},
   "source": [
    "  - Si supervisas el número de llamadas telefónicas que llegan a un centro de atención al cliente en una hora, ¿sería más apropiado pensar en una distribución exponencial o de Poisson?"
   ]
  },
  {
   "cell_type": "markdown",
   "metadata": {},
   "source": [
    "**Respuesta**: Sería más apropiado pensar en una distribución de Poisson, por los motivos indicados anteriormente."
   ]
  },
  {
   "cell_type": "markdown",
   "metadata": {},
   "source": [
    "   - Si mides el tiempo entre la llegada de correos electrónicos a tu bandeja de entrada durante el día, ¿se ajusta mejor a una distribución exponencial o de Poisson? "
   ]
  },
  {
   "cell_type": "markdown",
   "metadata": {},
   "source": [
    "**Respuesta**: Se ajustaría mejor una distribución exponencial, por los motivos descritos con anterioridad."
   ]
  },
  {
   "cell_type": "markdown",
   "metadata": {},
   "source": [
    "2. Ejercicios intervalo de confianza: Para cada uno de los ejercicios interpreta los resultados y piensa que ventaja a nivel de negocio podemos sacar de calcularlo. "
   ]
  },
  {
   "cell_type": "markdown",
   "metadata": {},
   "source": [
    "   - Trabajas para una plataforma de comercio en línea y deseas determinar el intervalo de confianza al 95% para el precio promedio de productos con una cantidad de media de valoraciones al producto de 500."
   ]
  },
  {
   "cell_type": "code",
   "execution_count": 43,
   "metadata": {},
   "outputs": [
    {
     "name": "stdout",
     "output_type": "stream",
     "text": [
      "Intervalo de Confianza para el precio promedio de productos con una cantidad media de valoraciones de producto de 500:\n",
      "Media Muestral: 8.29\n",
      "Error Estándar: 0.12\n",
      "Nivel de Confianza: 0.95\n",
      "Valor Crítico: 1.96\n",
      "Intervalo de Confianza: (8.04, 8.53)\n"
     ]
    }
   ],
   "source": [
    "df_500 = df[(df['mean_product_ratings_count'] > 500)]\n",
    "\n",
    "media_precio = df_500['mean_product_prices'].mean()\n",
    "\n",
    "error_precio = stats.sem(df_500['mean_product_prices'])\n",
    "\n",
    "confianza_precio = 0.95\n",
    "\n",
    "libertad_precio = len(df_500['mean_product_prices']) - 1\n",
    "\n",
    "valor_critico_precio = stats.t.ppf((1 + confianza_precio) / 2, df=libertad_precio)\n",
    "\n",
    "limite_inferior_precio = media_precio - valor_critico_precio * error_precio\n",
    "limite_superior_precio = media_precio + valor_critico_precio * error_precio\n",
    "\n",
    "print(\"Intervalo de Confianza para el precio promedio de productos con una cantidad media de valoraciones de producto de 500:\")\n",
    "print(f\"Media Muestral: {np.round(media_precio, 2)}\")\n",
    "print(f\"Error Estándar: {np.round(error_precio, 2)}\")\n",
    "print(f\"Nivel de Confianza: {confianza_precio}\")\n",
    "print(f\"Valor Crítico: {np.round(valor_critico_precio, 2)}\")\n",
    "print(f\"Intervalo de Confianza: ({np.round(limite_inferior_precio, 2)}, {np.round(limite_superior_precio, 2)})\")"
   ]
  },
  {
   "cell_type": "markdown",
   "metadata": {},
   "source": [
    "**Respuesta**: Gracias a este cálculo, podríamos realizar una segmentación de mercado (es decir, comprender las tendencias de los consumidores y decidir estrategias de marketing específicas) y tomar decisiones de manera informada."
   ]
  },
  {
   "cell_type": "markdown",
   "metadata": {},
   "source": [
    "   - Eres un analista de ventas en una plataforma de comercio electrónico y quieres calcular el intervalo de confianza al 90% para el número promedio de unidades vendidas por producto."
   ]
  },
  {
   "cell_type": "code",
   "execution_count": 44,
   "metadata": {},
   "outputs": [
    {
     "name": "stdout",
     "output_type": "stream",
     "text": [
      "Intervalo de Confianza para el promedio de unidades vendidas por producto:\n",
      "Media Muestral: 11299.4\n",
      "Error Estándar: 202.91\n",
      "Nivel de Confianza: 0.9\n",
      "Valor Crítico: 1.65\n",
      "Intervalo de Confianza: (10965.44, 11633.36)\n"
     ]
    }
   ],
   "source": [
    "media_unidades = df['total_units_sold'].mean()\n",
    "\n",
    "error_unidades = stats.sem(df['mean_units_sold_per_product'])\n",
    "\n",
    "confianza_unidades = 0.90\n",
    "\n",
    "libertad_unidades = len(df['mean_units_sold_per_product']) - 1\n",
    "\n",
    "valor_critico_unidades = stats.t.ppf((1 + confianza_unidades) / 2, df=libertad_unidades)\n",
    "\n",
    "limite_inferior_unidades = media_unidades - valor_critico_unidades * error_unidades\n",
    "limite_superior_unidades = media_unidades + valor_critico_unidades * error_unidades\n",
    "\n",
    "print(\"Intervalo de Confianza para el promedio de unidades vendidas por producto:\")\n",
    "print(f\"Media Muestral: {np.round(media_unidades, 2)}\")\n",
    "print(f\"Error Estándar: {np.round(error_unidades, 2)}\")\n",
    "print(f\"Nivel de Confianza: {confianza_unidades}\")\n",
    "print(f\"Valor Crítico: {np.round(valor_critico_unidades, 2)}\")\n",
    "print(f\"Intervalo de Confianza: ({np.round(limite_inferior_unidades, 2)}, {np.round(limite_superior_unidades, 2)})\")"
   ]
  },
  {
   "cell_type": "markdown",
   "metadata": {},
   "source": [
    "**Respuesta**: Saber estos datos permite llevar a cabo una planificación de inventario (evitar escasez de los productos más populares), llevar a cabo una estimación de ingresos futuros o establecer nuevos objetivos y métricas de desempeño."
   ]
  },
  {
   "cell_type": "markdown",
   "metadata": {},
   "source": [
    "   - Trabajas en la gestión de inventario de una tienda en línea y necesitas calcular el intervalo de confianza al 99% para el precio promedio de productos según su país de origen."
   ]
  },
  {
   "cell_type": "code",
   "execution_count": 45,
   "metadata": {},
   "outputs": [
    {
     "name": "stdout",
     "output_type": "stream",
     "text": [
      "Intervalo de Confianza al 99% para el precio promedio de productos según el país de origen:\n"
     ]
    },
    {
     "data": {
      "text/html": [
       "<div>\n",
       "<style scoped>\n",
       "    .dataframe tbody tr th:only-of-type {\n",
       "        vertical-align: middle;\n",
       "    }\n",
       "\n",
       "    .dataframe tbody tr th {\n",
       "        vertical-align: top;\n",
       "    }\n",
       "\n",
       "    .dataframe thead th {\n",
       "        text-align: right;\n",
       "    }\n",
       "</style>\n",
       "<table border=\"1\" class=\"dataframe\">\n",
       "  <thead>\n",
       "    <tr style=\"text-align: right;\">\n",
       "      <th></th>\n",
       "      <th>lower_bound</th>\n",
       "      <th>mean</th>\n",
       "      <th>upper_bound</th>\n",
       "    </tr>\n",
       "    <tr>\n",
       "      <th>origin_country</th>\n",
       "      <th></th>\n",
       "      <th></th>\n",
       "      <th></th>\n",
       "    </tr>\n",
       "  </thead>\n",
       "  <tbody>\n",
       "    <tr>\n",
       "      <th>AT</th>\n",
       "      <td>NaN</td>\n",
       "      <td>100.000000</td>\n",
       "      <td>NaN</td>\n",
       "    </tr>\n",
       "    <tr>\n",
       "      <th>CN</th>\n",
       "      <td>3874.357806</td>\n",
       "      <td>4409.754077</td>\n",
       "      <td>4945.150348</td>\n",
       "    </tr>\n",
       "    <tr>\n",
       "      <th>GB</th>\n",
       "      <td>NaN</td>\n",
       "      <td>1000.000000</td>\n",
       "      <td>NaN</td>\n",
       "    </tr>\n",
       "    <tr>\n",
       "      <th>SG</th>\n",
       "      <td>10050.000000</td>\n",
       "      <td>10050.000000</td>\n",
       "      <td>10050.000000</td>\n",
       "    </tr>\n",
       "    <tr>\n",
       "      <th>US</th>\n",
       "      <td>342.275417</td>\n",
       "      <td>1405.161290</td>\n",
       "      <td>2468.047164</td>\n",
       "    </tr>\n",
       "    <tr>\n",
       "      <th>VE</th>\n",
       "      <td>13.611584</td>\n",
       "      <td>70.000000</td>\n",
       "      <td>126.388416</td>\n",
       "    </tr>\n",
       "  </tbody>\n",
       "</table>\n",
       "</div>"
      ],
      "text/plain": [
       "                 lower_bound          mean   upper_bound\n",
       "origin_country                                          \n",
       "AT                       NaN    100.000000           NaN\n",
       "CN               3874.357806   4409.754077   4945.150348\n",
       "GB                       NaN   1000.000000           NaN\n",
       "SG              10050.000000  10050.000000  10050.000000\n",
       "US                342.275417   1405.161290   2468.047164\n",
       "VE                 13.611584     70.000000    126.388416"
      ]
     },
     "metadata": {},
     "output_type": "display_data"
    }
   ],
   "source": [
    "grouped = df.groupby('origin_country')['mean_units_sold_per_product'].agg(['mean', 'std', 'count'])\n",
    "\n",
    "grouped['standard_error'] = grouped['std'] / np.sqrt(grouped['count'])\n",
    "\n",
    "confianza_paises = 0.99\n",
    "\n",
    "libertad_paises = grouped['count'] - 1\n",
    "\n",
    "valor_critico_paises = stats.t.ppf((1 + confianza_paises) / 2, df=libertad_paises)\n",
    "\n",
    "grouped['margin_of_error'] = valor_critico_paises * grouped['standard_error']\n",
    "\n",
    "grouped['lower_bound'] = grouped['mean'] - grouped['margin_of_error']\n",
    "grouped['upper_bound'] = grouped['mean'] + grouped['margin_of_error']\n",
    "\n",
    "print(\"Intervalo de Confianza al 99% para el precio promedio de productos según el país de origen:\")\n",
    "display(grouped[['lower_bound', 'mean', 'upper_bound']])"
   ]
  },
  {
   "cell_type": "markdown",
   "metadata": {},
   "source": [
    "**Respuesta**: Segmentación de mercado (al entender las diferencias en los precios promedio entre países, puedes adaptar tus estrategias de marketing y segmentar tus campañas publicitarias para llegar de manera más efectiva a los clientes en cada país) y toma de decisiones de precios (conocer el intervalo de confianza del precio promedio por país de origen te permite establecer precios competitivos y rentables para tus productos en diferentes mercados)"
   ]
  },
  {
   "cell_type": "markdown",
   "metadata": {},
   "source": [
    "   - Eres un gerente de ventas en una plataforma de comercio electrónico y quieres determinar el intervalo de confianza al 95% para la valoración promedio de los vendedores según si ofrecen envío express o no."
   ]
  },
  {
   "cell_type": "code",
   "execution_count": 28,
   "metadata": {},
   "outputs": [
    {
     "name": "stdout",
     "output_type": "stream",
     "text": [
      "Intervalo de Confianza al 95% para el rating de vendedores según si ofrecen envío express o no:\n"
     ]
    },
    {
     "data": {
      "text/html": [
       "<div>\n",
       "<style scoped>\n",
       "    .dataframe tbody tr th:only-of-type {\n",
       "        vertical-align: middle;\n",
       "    }\n",
       "\n",
       "    .dataframe tbody tr th {\n",
       "        vertical-align: top;\n",
       "    }\n",
       "\n",
       "    .dataframe thead th {\n",
       "        text-align: right;\n",
       "    }\n",
       "</style>\n",
       "<table border=\"1\" class=\"dataframe\">\n",
       "  <thead>\n",
       "    <tr style=\"text-align: right;\">\n",
       "      <th></th>\n",
       "      <th>lower_bound</th>\n",
       "      <th>mean</th>\n",
       "      <th>upper_bound</th>\n",
       "    </tr>\n",
       "    <tr>\n",
       "      <th>shipping_is_express</th>\n",
       "      <th></th>\n",
       "      <th></th>\n",
       "      <th></th>\n",
       "    </tr>\n",
       "  </thead>\n",
       "  <tbody>\n",
       "    <tr>\n",
       "      <th>No</th>\n",
       "      <td>4.021596</td>\n",
       "      <td>4.031728</td>\n",
       "      <td>4.041860</td>\n",
       "    </tr>\n",
       "    <tr>\n",
       "      <th>Yes</th>\n",
       "      <td>4.198233</td>\n",
       "      <td>4.282000</td>\n",
       "      <td>4.365767</td>\n",
       "    </tr>\n",
       "  </tbody>\n",
       "</table>\n",
       "</div>"
      ],
      "text/plain": [
       "                     lower_bound      mean  upper_bound\n",
       "shipping_is_express                                    \n",
       "No                      4.021596  4.031728     4.041860\n",
       "Yes                     4.198233  4.282000     4.365767"
      ]
     },
     "metadata": {},
     "output_type": "display_data"
    }
   ],
   "source": [
    "grouped2 = df.groupby('shipping_is_express')['rating_y'].agg(['mean', 'std', 'count'])\n",
    "\n",
    "grouped2['standard_error'] = grouped2['std'] / np.sqrt(grouped2['count'])\n",
    "\n",
    "confianza_ship = 0.95\n",
    "\n",
    "libertad_ship = grouped2['count'] - 1\n",
    "\n",
    "valor_critico_ship = stats.t.ppf((1 + confianza_ship) / 2, df=libertad_ship)\n",
    "\n",
    "grouped2['margin_of_error'] = valor_critico_ship * grouped2['standard_error']\n",
    "\n",
    "grouped2['lower_bound'] = grouped2['mean'] - grouped2['margin_of_error']\n",
    "grouped2['upper_bound'] = grouped2['mean'] + grouped2['margin_of_error']\n",
    "\n",
    "print(\"Intervalo de Confianza al 95% para el rating de vendedores según si ofrecen envío express o no:\")\n",
    "display(grouped2[['lower_bound', 'mean', 'upper_bound']])"
   ]
  },
  {
   "cell_type": "markdown",
   "metadata": {},
   "source": [
    "**Respuesta**: Podemos evaluar el rendimiento del servicio de envío express y optimizar estrategias de envío."
   ]
  },
  {
   "cell_type": "markdown",
   "metadata": {},
   "source": [
    "   - Trabajas en el departamento de precios de una tienda en línea y necesitas calcular el intervalo de confianza al 90% para el descuento promedio de productos según la reputación del vendedor (alta, media o baja)."
   ]
  },
  {
   "cell_type": "code",
   "execution_count": 33,
   "metadata": {},
   "outputs": [
    {
     "name": "stdout",
     "output_type": "stream",
     "text": [
      "Intervalo de Confianza al 90% para descuento promedio de productos según la reputación del vendedor:\n"
     ]
    },
    {
     "data": {
      "text/html": [
       "<div>\n",
       "<style scoped>\n",
       "    .dataframe tbody tr th:only-of-type {\n",
       "        vertical-align: middle;\n",
       "    }\n",
       "\n",
       "    .dataframe tbody tr th {\n",
       "        vertical-align: top;\n",
       "    }\n",
       "\n",
       "    .dataframe thead th {\n",
       "        text-align: right;\n",
       "    }\n",
       "</style>\n",
       "<table border=\"1\" class=\"dataframe\">\n",
       "  <thead>\n",
       "    <tr style=\"text-align: right;\">\n",
       "      <th></th>\n",
       "      <th>lower_bound</th>\n",
       "      <th>mean</th>\n",
       "      <th>upper_bound</th>\n",
       "    </tr>\n",
       "    <tr>\n",
       "      <th>seller_reputation2</th>\n",
       "      <th></th>\n",
       "      <th></th>\n",
       "      <th></th>\n",
       "    </tr>\n",
       "  </thead>\n",
       "  <tbody>\n",
       "    <tr>\n",
       "      <th>alta</th>\n",
       "      <td>-421.146835</td>\n",
       "      <td>-208.956000</td>\n",
       "      <td>3.234835</td>\n",
       "    </tr>\n",
       "    <tr>\n",
       "      <th>baja</th>\n",
       "      <td>-224.223717</td>\n",
       "      <td>-190.068487</td>\n",
       "      <td>-155.913258</td>\n",
       "    </tr>\n",
       "    <tr>\n",
       "      <th>media</th>\n",
       "      <td>-211.114240</td>\n",
       "      <td>-193.160892</td>\n",
       "      <td>-175.207544</td>\n",
       "    </tr>\n",
       "  </tbody>\n",
       "</table>\n",
       "</div>"
      ],
      "text/plain": [
       "                    lower_bound        mean  upper_bound\n",
       "seller_reputation2                                      \n",
       "alta                -421.146835 -208.956000     3.234835\n",
       "baja                -224.223717 -190.068487  -155.913258\n",
       "media               -211.114240 -193.160892  -175.207544"
      ]
     },
     "metadata": {},
     "output_type": "display_data"
    }
   ],
   "source": [
    "df['seller_reputation2'] = df['rating_y'].apply(lambda x : 'alta' if x > 4.5 else ('media' if x > 3.9 else 'baja')) \n",
    "\n",
    "grouped3 = df.groupby('seller_reputation2')['discount_percentage'].agg(['mean', 'std', 'count'])\n",
    "\n",
    "grouped3['standard_error'] = grouped3['std'] / np.sqrt(grouped3['count'])\n",
    "\n",
    "confianza_dis = 0.90\n",
    "\n",
    "libertad_dis = grouped3['count'] - 1\n",
    "\n",
    "valor_critico_dis = stats.t.ppf((1 + confianza_dis) / 2, df=libertad_dis)\n",
    "\n",
    "grouped3['margin_of_error'] = valor_critico_dis * grouped3['standard_error']\n",
    "\n",
    "grouped3['lower_bound'] = grouped3['mean'] - grouped3['margin_of_error']\n",
    "grouped3['upper_bound'] = grouped3['mean'] + grouped3['margin_of_error']\n",
    "\n",
    "print(\"Intervalo de Confianza al 90% para descuento promedio de productos según la reputación del vendedor:\")\n",
    "display(grouped3[['lower_bound', 'mean', 'upper_bound']])"
   ]
  },
  {
   "cell_type": "markdown",
   "metadata": {},
   "source": [
    "**Respuesta**: Gracias a estos cálculos podemos evaluar el rendimiento de los descuentos y optimizar estrategias de precios."
   ]
  },
  {
   "cell_type": "markdown",
   "metadata": {},
   "source": [
    "3. Ejercicios prueba de hipótesis:"
   ]
  },
  {
   "cell_type": "markdown",
   "metadata": {},
   "source": [
    "   - Prueba de Hipótesis sobre el precio promedio de productos con o sin empleados calificados\n",
    "\n",
    "      - *Contexto:* Trabajas en una plataforma de comercio en línea que ofrece productos de moda. Quieres saber si hay una diferencia significativa en el precio promedio de productos entre aquellos vendidos por empleados calificados (rating_employee > 4) y aquellos vendidos por empleados menos calificados (rating_employee <= 4). Esto te ayudará a tomar decisiones sobre la estrategia de precios y capacitación de empleados.\n",
    "\n",
    "      - *Hipótesis Nula (H0):* No hay diferencia significativa en el precio promedio de productos entre empleados con buena y mala reputación. \n",
    "      \n",
    "      - *Hipótesis Alternativa (H1):* Existe una diferencia significativa en el precio promedio de productos entre empleados calificados y menos calificados."
   ]
  },
  {
   "cell_type": "code",
   "execution_count": 34,
   "metadata": {},
   "outputs": [],
   "source": [
    "# vamos a definir una función para poder hacer el t-test de Student\n",
    "\n",
    "def prueba_hipotesis(*args):\n",
    "    \n",
    "    # lo primero que tenemos que hacer es mirar si las varianzas son iguales o no\n",
    "    if len(args) == 2:\n",
    "        p_valor_varianza = stats.levene(*args, center = \"median\")[1]\n",
    "    else:\n",
    "        p_valor_varianza = stats.bartlett(*args)[1]\n",
    "    \n",
    "    if p_valor_varianza > 0.05:\n",
    "        # realizamos la prueba t de Student\n",
    "        t_stat, p_valor = stats.ttest_ind(*args, equal_var=True)\n",
    "    else:\n",
    "        t_stat, p_valor = stats.ttest_ind(*args, equal_var=False)\n",
    "        \n",
    "    # Establecemos un nivel de significancia (alfa)\n",
    "    alfa = 0.05\n",
    "\n",
    "    # comparamos el p-valor con el nivel de significancia\n",
    "    if p_valor < alfa:\n",
    "        print(\"Rechazamos la hipótesis nula.\")\n",
    "        print(\"Hay una diferencia significativa entre los dos grupos.\")\n",
    "    else:\n",
    "        print(\"No podemos rechazar la hipótesis nula.\")\n",
    "        print(\"No hay evidencia suficiente para afirmar una diferencia significativa entre los dos grupos.\")"
   ]
  },
  {
   "cell_type": "code",
   "execution_count": 35,
   "metadata": {},
   "outputs": [
    {
     "name": "stdout",
     "output_type": "stream",
     "text": [
      "No podemos rechazar la hipótesis nula.\n",
      "No hay evidencia suficiente para afirmar una diferencia significativa entre los dos grupos.\n"
     ]
    }
   ],
   "source": [
    "grupo_calificado = df[df['rating_y'] > 4]['price']\n",
    "grupo_menos_calificado = df[df['rating_y'] <= 4]['price']\n",
    "\n",
    "prueba_hipotesis(grupo_calificado, grupo_menos_calificado)"
   ]
  },
  {
   "cell_type": "markdown",
   "metadata": {},
   "source": [
    "   - Prueba de Hipótesis sobre el número de unidades vendidas en envío express y envío estándar\n",
    "\n",
    "      - *Contexto:* Eres un gerente de operaciones de envío en una plataforma de comercio electrónico. Quieres determinar si el número promedio de unidades vendidas difiere cuando los productos se envían con envío express (shipping_option_name = \"Express Shipping\") en comparación con envío estándar (shipping_option_name = \"Livraison standard\"). Esto te ayudará a tomar decisiones sobre la logística de envío.\n",
    "\n",
    "      - *Hipótesis Nula (H0):* No hay diferencia significativa en el número promedio de unidades vendidas entre envío express y envío estándar.\n",
    "\n",
    "      - *Hipótesis Alternativa (H1):* Existe una diferencia significativa en el número promedio de unidades vendidas entre envío express y envío estándar."
   ]
  },
  {
   "cell_type": "code",
   "execution_count": 38,
   "metadata": {},
   "outputs": [
    {
     "name": "stdout",
     "output_type": "stream",
     "text": [
      "No podemos rechazar la hipótesis nula.\n",
      "No hay evidencia suficiente para afirmar una diferencia significativa entre los dos grupos.\n"
     ]
    }
   ],
   "source": [
    "grupo_express = df[df['shipping_option_name'] == 'Livraison Express']['total_units_sold']\n",
    "grupo_estandar = df[df['shipping_option_name'] == 'Livraison standard']['total_units_sold']\n",
    "\n",
    "prueba_hipotesis(grupo_express, grupo_estandar)"
   ]
  }
 ],
 "metadata": {
  "kernelspec": {
   "display_name": "base",
   "language": "python",
   "name": "python3"
  },
  "language_info": {
   "codemirror_mode": {
    "name": "ipython",
    "version": 3
   },
   "file_extension": ".py",
   "mimetype": "text/x-python",
   "name": "python",
   "nbconvert_exporter": "python",
   "pygments_lexer": "ipython3",
   "version": "3.9.7"
  }
 },
 "nbformat": 4,
 "nbformat_minor": 2
}
