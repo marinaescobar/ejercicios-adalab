{
 "cells": [
  {
   "cell_type": "code",
   "execution_count": 1,
   "metadata": {},
   "outputs": [],
   "source": [
    "# importamos las librerías que necesitamos\n",
    "\n",
    "# Tratamiento de datos\n",
    "# -----------------------------------------------------------------------\n",
    "import pandas as pd\n",
    "import numpy as np\n",
    "\n",
    "# Visualización\n",
    "# ------------------------------------------------------------------------------\n",
    "import matplotlib.pyplot as plt\n",
    "import seaborn as sns\n",
    "\n",
    "# Evaluar linealidad de las relaciones entre las variables\n",
    "# ------------------------------------------------------------------------------\n",
    "from scipy.stats import shapiro, kstest\n",
    "\n",
    "# Configuración\n",
    "# -----------------------------------------------------------------------\n",
    "pd.set_option('display.max_columns', None) # para poder visualizar todas las columnas de los DataFrames\n",
    "\n",
    "# Gestión de los warnings\n",
    "# -----------------------------------------------------------------------\n",
    "import warnings\n",
    "warnings.filterwarnings(\"ignore\")\n"
   ]
  },
  {
   "cell_type": "code",
   "execution_count": 4,
   "metadata": {},
   "outputs": [
    {
     "data": {
      "text/html": [
       "<div>\n",
       "<style scoped>\n",
       "    .dataframe tbody tr th:only-of-type {\n",
       "        vertical-align: middle;\n",
       "    }\n",
       "\n",
       "    .dataframe tbody tr th {\n",
       "        vertical-align: top;\n",
       "    }\n",
       "\n",
       "    .dataframe thead th {\n",
       "        text-align: right;\n",
       "    }\n",
       "</style>\n",
       "<table border=\"1\" class=\"dataframe\">\n",
       "  <thead>\n",
       "    <tr style=\"text-align: right;\">\n",
       "      <th></th>\n",
       "      <th>title</th>\n",
       "      <th>price</th>\n",
       "      <th>retail_price</th>\n",
       "      <th>units_sold</th>\n",
       "      <th>uses_ad_boosts</th>\n",
       "      <th>rating_x</th>\n",
       "      <th>rating_count</th>\n",
       "      <th>rating_five_count</th>\n",
       "      <th>rating_four_count</th>\n",
       "      <th>rating_three_count</th>\n",
       "      <th>rating_two_count</th>\n",
       "      <th>rating_one_count</th>\n",
       "      <th>badge_local_product</th>\n",
       "      <th>badge_product_quality</th>\n",
       "      <th>badge_fast_shipping</th>\n",
       "      <th>tags</th>\n",
       "      <th>product_color</th>\n",
       "      <th>product_variation_size_id</th>\n",
       "      <th>shipping_option_name</th>\n",
       "      <th>shipping_option_price</th>\n",
       "      <th>shipping_is_express</th>\n",
       "      <th>countries_shipped_to</th>\n",
       "      <th>inventory_total</th>\n",
       "      <th>origin_country</th>\n",
       "      <th>merchant_name</th>\n",
       "      <th>merchant_info_subtitle</th>\n",
       "      <th>merchant_rating_count</th>\n",
       "      <th>merchant_id</th>\n",
       "      <th>product_id</th>\n",
       "      <th>listed_products</th>\n",
       "      <th>total_units_sold</th>\n",
       "      <th>mean_units_sold_per_product</th>\n",
       "      <th>rating_y</th>\n",
       "      <th>merchant_ratings_count</th>\n",
       "      <th>mean_product_prices</th>\n",
       "      <th>mean_retail_prices</th>\n",
       "      <th>mean_product_ratings_count</th>\n",
       "      <th>urgency_text_rate</th>\n",
       "      <th>discount_percentage</th>\n",
       "      <th>seller_reputation</th>\n",
       "    </tr>\n",
       "  </thead>\n",
       "  <tbody>\n",
       "    <tr>\n",
       "      <th>0</th>\n",
       "      <td>2020 Summer Vintage Flamingo Print  Pajamas Se...</td>\n",
       "      <td>16.0</td>\n",
       "      <td>14</td>\n",
       "      <td>100</td>\n",
       "      <td>No</td>\n",
       "      <td>3.76</td>\n",
       "      <td>54</td>\n",
       "      <td>26.0</td>\n",
       "      <td>8.0</td>\n",
       "      <td>10.0</td>\n",
       "      <td>1.0</td>\n",
       "      <td>9.0</td>\n",
       "      <td>No</td>\n",
       "      <td>Good</td>\n",
       "      <td>No</td>\n",
       "      <td>Summer,Fashion,womenunderwearsuit,printedpajam...</td>\n",
       "      <td>white</td>\n",
       "      <td>M</td>\n",
       "      <td>Livraison standard</td>\n",
       "      <td>4</td>\n",
       "      <td>No</td>\n",
       "      <td>34</td>\n",
       "      <td>50</td>\n",
       "      <td>CN</td>\n",
       "      <td>zgrdejia</td>\n",
       "      <td>unknown</td>\n",
       "      <td>568</td>\n",
       "      <td>595097d6a26f6e070cb878d1</td>\n",
       "      <td>5e9ae51d43d6a96e303acdb0</td>\n",
       "      <td>1</td>\n",
       "      <td>100</td>\n",
       "      <td>100.0</td>\n",
       "      <td>4.129</td>\n",
       "      <td>568.0</td>\n",
       "      <td>16.00</td>\n",
       "      <td>14.00</td>\n",
       "      <td>54.0</td>\n",
       "      <td>100.0</td>\n",
       "      <td>12.5</td>\n",
       "      <td>Good</td>\n",
       "    </tr>\n",
       "    <tr>\n",
       "      <th>1</th>\n",
       "      <td>SSHOUSE Summer Casual Sleeveless Soirée Party ...</td>\n",
       "      <td>8.0</td>\n",
       "      <td>22</td>\n",
       "      <td>20000</td>\n",
       "      <td>Yes</td>\n",
       "      <td>3.45</td>\n",
       "      <td>6135</td>\n",
       "      <td>2269.0</td>\n",
       "      <td>1027.0</td>\n",
       "      <td>1118.0</td>\n",
       "      <td>644.0</td>\n",
       "      <td>1077.0</td>\n",
       "      <td>No</td>\n",
       "      <td>Good</td>\n",
       "      <td>No</td>\n",
       "      <td>Mini,womens dresses,Summer,Patchwork,fashion d...</td>\n",
       "      <td>green</td>\n",
       "      <td>XS</td>\n",
       "      <td>Livraison standard</td>\n",
       "      <td>2</td>\n",
       "      <td>No</td>\n",
       "      <td>41</td>\n",
       "      <td>50</td>\n",
       "      <td>CN</td>\n",
       "      <td>sarahouse</td>\n",
       "      <td>83 % avis positifs</td>\n",
       "      <td>17752</td>\n",
       "      <td>56458aa03a698c35c9050988</td>\n",
       "      <td>58940d436a0d3d5da4e95a38</td>\n",
       "      <td>6</td>\n",
       "      <td>21400</td>\n",
       "      <td>3567.0</td>\n",
       "      <td>3.900</td>\n",
       "      <td>17752.0</td>\n",
       "      <td>5.68</td>\n",
       "      <td>10.33</td>\n",
       "      <td>1057.0</td>\n",
       "      <td>50.0</td>\n",
       "      <td>-175.0</td>\n",
       "      <td>Ordinary</td>\n",
       "    </tr>\n",
       "  </tbody>\n",
       "</table>\n",
       "</div>"
      ],
      "text/plain": [
       "                                               title  price  retail_price  \\\n",
       "0  2020 Summer Vintage Flamingo Print  Pajamas Se...   16.0            14   \n",
       "1  SSHOUSE Summer Casual Sleeveless Soirée Party ...    8.0            22   \n",
       "\n",
       "   units_sold uses_ad_boosts  rating_x  rating_count  rating_five_count  \\\n",
       "0         100             No      3.76            54               26.0   \n",
       "1       20000            Yes      3.45          6135             2269.0   \n",
       "\n",
       "   rating_four_count  rating_three_count  rating_two_count  rating_one_count  \\\n",
       "0                8.0                10.0               1.0               9.0   \n",
       "1             1027.0              1118.0             644.0            1077.0   \n",
       "\n",
       "  badge_local_product badge_product_quality badge_fast_shipping  \\\n",
       "0                  No                  Good                  No   \n",
       "1                  No                  Good                  No   \n",
       "\n",
       "                                                tags product_color  \\\n",
       "0  Summer,Fashion,womenunderwearsuit,printedpajam...         white   \n",
       "1  Mini,womens dresses,Summer,Patchwork,fashion d...         green   \n",
       "\n",
       "  product_variation_size_id shipping_option_name  shipping_option_price  \\\n",
       "0                         M   Livraison standard                      4   \n",
       "1                        XS   Livraison standard                      2   \n",
       "\n",
       "  shipping_is_express  countries_shipped_to  inventory_total origin_country  \\\n",
       "0                  No                    34               50             CN   \n",
       "1                  No                    41               50             CN   \n",
       "\n",
       "  merchant_name merchant_info_subtitle  merchant_rating_count  \\\n",
       "0      zgrdejia                unknown                    568   \n",
       "1     sarahouse    83 % avis positifs                   17752   \n",
       "\n",
       "                merchant_id                product_id  listed_products  \\\n",
       "0  595097d6a26f6e070cb878d1  5e9ae51d43d6a96e303acdb0                1   \n",
       "1  56458aa03a698c35c9050988  58940d436a0d3d5da4e95a38                6   \n",
       "\n",
       "   total_units_sold  mean_units_sold_per_product  rating_y  \\\n",
       "0               100                        100.0     4.129   \n",
       "1             21400                       3567.0     3.900   \n",
       "\n",
       "   merchant_ratings_count  mean_product_prices  mean_retail_prices  \\\n",
       "0                   568.0                16.00               14.00   \n",
       "1                 17752.0                 5.68               10.33   \n",
       "\n",
       "   mean_product_ratings_count  urgency_text_rate  discount_percentage  \\\n",
       "0                        54.0              100.0                 12.5   \n",
       "1                      1057.0               50.0               -175.0   \n",
       "\n",
       "  seller_reputation  \n",
       "0              Good  \n",
       "1          Ordinary  "
      ]
     },
     "execution_count": 4,
     "metadata": {},
     "output_type": "execute_result"
    }
   ],
   "source": [
    "df = pd.read_csv(\"../files/rating-and-performance-nonull.csv\", index_col = 0)\n",
    "df.head(2)"
   ]
  },
  {
   "cell_type": "markdown",
   "metadata": {},
   "source": [
    "1. La variable `price` representa el precio de los productos. Calcula tanto la media como la mediana de los precios y explica la diferencia entre ambas medidas. Proporciona ejemplos de situaciones en las que la mediana podría ser preferible sobre la media."
   ]
  },
  {
   "cell_type": "code",
   "execution_count": 8,
   "metadata": {},
   "outputs": [
    {
     "name": "stdout",
     "output_type": "stream",
     "text": [
      "La media de 'price' es: 8.325371900826436\n",
      "Y la mediana es: 8.0\n"
     ]
    }
   ],
   "source": [
    "media = df['price'].mean()\n",
    "mediana = df['price'].median()\n",
    "\n",
    "print(f\"La media de 'price' es: {media}\\nY la mediana es: {mediana}\")"
   ]
  },
  {
   "cell_type": "markdown",
   "metadata": {},
   "source": [
    "- Diferencia entre ambas: La media es el resultado de sumar el valor de todos los datos y dividirlos por la cantidad de datos existente mientras que la mediana es aquel dato cuyo valor está justo en el medio de todos los demás, por lo que no se vería afectada por posibles outliers.\n",
    "- Situaciones en las que la mediana es preferible: La mediana es más útil que la media especialmente en aquellos conjuntos de datos que puedan contener valores extremos o sesgados (outliers)"
   ]
  },
  {
   "cell_type": "markdown",
   "metadata": {},
   "source": [
    "2. Crea una tabla de correlación que muestre cómo se relacionan las variables `price`, `retail_price`, `units_sold`, `rating_sold`, y `rating_count`. Interpreta los resultados y discute si hay alguna correlación significativa entre estas variables."
   ]
  },
  {
   "cell_type": "code",
   "execution_count": 12,
   "metadata": {},
   "outputs": [
    {
     "name": "stdout",
     "output_type": "stream",
     "text": [
      "Las variables a las que tengamos que aplicar la correlacion de pearson son: []\n",
      "Las variables a las que tengamos que aplicar la correlacion de spearman son: [('price', 'retail_price'), ('price', 'units_sold'), ('price', 'rating_x'), ('price', 'rating_count'), ('retail_price', 'units_sold'), ('retail_price', 'rating_x'), ('retail_price', 'rating_count'), ('units_sold', 'rating_x'), ('units_sold', 'rating_count'), ('rating_x', 'rating_count')]\n"
     ]
    }
   ],
   "source": [
    "from itertools import combinations\n",
    "\n",
    "# definimos la lista los nombres de las variables numéricas (como no existía rating_sold, se ha intercambiado por rating_x)\n",
    "numericas = ['price' , 'retail_price' , 'units_sold' , 'rating_x' , 'rating_count']\n",
    "\n",
    "# usando el metodo 'combinations' vamos a generar todas las combinaciones posibles de columnas\n",
    "combinaciones = list(combinations(numericas, 2))\n",
    "\n",
    "# printeamos los resultados, una lista de tuplas\n",
    "combinaciones\n",
    "\n",
    "# creamos una función para identificar si las relaciones entre las variables son lienales o no\n",
    "def identificar_linealidad (dataframe, lista_combinacion_columnas):\n",
    "    \"\"\"\n",
    "    Identifica si las relaciones entre pares de variables en un DataFrame son lineales o no.\n",
    "\n",
    "    Parameters:\n",
    "    -----------\n",
    "    dataframe : pandas.DataFrame\n",
    "        El DataFrame que contiene las variables a analizar.\n",
    "\n",
    "    lista_combinacion_columnas : list of tuples\n",
    "        Una lista de tuplas donde cada tupla contiene dos nombres de columnas del DataFrame que se desea analizar.\n",
    "\n",
    "    Returns:\n",
    "    --------\n",
    "    relaciones_lineales : list of tuples\n",
    "        Una lista de tuplas que contienen los nombres de las columnas que tienen una relación lineal.\n",
    "\n",
    "    relaciones_no_lineales : list of tuples\n",
    "        Una lista de tuplas que contienen los nombres de las columnas que no tienen una relación lineal.\n",
    "\n",
    "    \"\"\"\n",
    "    relaciones_lineales = []\n",
    "    relaciones_no_lineales = []\n",
    "\n",
    "    for tupla in lista_combinacion_columnas: \n",
    "        # Realizar la prueba de normalidad\n",
    "        _, p_value1 = kstest(dataframe[tupla[0]], \"norm\")\n",
    "        _, p_value2 = kstest(dataframe[tupla[1]], \"norm\")\n",
    "\n",
    "        if p_value1 > 0.05 and p_value2 > 0.05:\n",
    "            relaciones_lineales.append(tupla)\n",
    "        else:\n",
    "            relaciones_no_lineales.append(tupla)\n",
    "\n",
    "    return relaciones_lineales, relaciones_no_lineales\n",
    "\n",
    "lineal, no_lineal = identificar_linealidad(df, combinaciones)\n",
    "\n",
    "print(f\"Las variables a las que tengamos que aplicar la correlacion de pearson son: {lineal}\")\n",
    "print(f\"Las variables a las que tengamos que aplicar la correlacion de spearman son: {no_lineal}\")\n"
   ]
  },
  {
   "cell_type": "code",
   "execution_count": 14,
   "metadata": {},
   "outputs": [
    {
     "data": {
      "text/html": [
       "<div>\n",
       "<style scoped>\n",
       "    .dataframe tbody tr th:only-of-type {\n",
       "        vertical-align: middle;\n",
       "    }\n",
       "\n",
       "    .dataframe tbody tr th {\n",
       "        vertical-align: top;\n",
       "    }\n",
       "\n",
       "    .dataframe thead th {\n",
       "        text-align: right;\n",
       "    }\n",
       "</style>\n",
       "<table border=\"1\" class=\"dataframe\">\n",
       "  <thead>\n",
       "    <tr style=\"text-align: right;\">\n",
       "      <th></th>\n",
       "      <th>price</th>\n",
       "      <th>retail_price</th>\n",
       "      <th>units_sold</th>\n",
       "      <th>rating_x</th>\n",
       "      <th>rating_count</th>\n",
       "    </tr>\n",
       "  </thead>\n",
       "  <tbody>\n",
       "    <tr>\n",
       "      <th>price</th>\n",
       "      <td>1.000000</td>\n",
       "      <td>0.536104</td>\n",
       "      <td>0.061769</td>\n",
       "      <td>0.055564</td>\n",
       "      <td>0.129345</td>\n",
       "    </tr>\n",
       "    <tr>\n",
       "      <th>retail_price</th>\n",
       "      <td>0.536104</td>\n",
       "      <td>1.000000</td>\n",
       "      <td>-0.027991</td>\n",
       "      <td>0.043173</td>\n",
       "      <td>0.024439</td>\n",
       "    </tr>\n",
       "    <tr>\n",
       "      <th>units_sold</th>\n",
       "      <td>0.061769</td>\n",
       "      <td>-0.027991</td>\n",
       "      <td>1.000000</td>\n",
       "      <td>0.026794</td>\n",
       "      <td>0.941988</td>\n",
       "    </tr>\n",
       "    <tr>\n",
       "      <th>rating_x</th>\n",
       "      <td>0.055564</td>\n",
       "      <td>0.043173</td>\n",
       "      <td>0.026794</td>\n",
       "      <td>1.000000</td>\n",
       "      <td>0.046749</td>\n",
       "    </tr>\n",
       "    <tr>\n",
       "      <th>rating_count</th>\n",
       "      <td>0.129345</td>\n",
       "      <td>0.024439</td>\n",
       "      <td>0.941988</td>\n",
       "      <td>0.046749</td>\n",
       "      <td>1.000000</td>\n",
       "    </tr>\n",
       "  </tbody>\n",
       "</table>\n",
       "</div>"
      ],
      "text/plain": [
       "                 price  retail_price  units_sold  rating_x  rating_count\n",
       "price         1.000000      0.536104    0.061769  0.055564      0.129345\n",
       "retail_price  0.536104      1.000000   -0.027991  0.043173      0.024439\n",
       "units_sold    0.061769     -0.027991    1.000000  0.026794      0.941988\n",
       "rating_x      0.055564      0.043173    0.026794  1.000000      0.046749\n",
       "rating_count  0.129345      0.024439    0.941988  0.046749      1.000000"
      ]
     },
     "execution_count": 14,
     "metadata": {},
     "output_type": "execute_result"
    }
   ],
   "source": [
    "df_correlaciones = df[numericas].corr(method = \"spearman\")\n",
    "\n",
    "df_correlaciones"
   ]
  },
  {
   "cell_type": "code",
   "execution_count": 43,
   "metadata": {},
   "outputs": [
    {
     "data": {
      "image/png": "[encoded data removed]",
      "text/plain": [
       "<Figure size 576x576 with 2 Axes>"
      ]
     },
     "metadata": {
      "needs_background": "light"
     },
     "output_type": "display_data"
    }
   ],
   "source": [
    "plt.figure(figsize = (8, 8))\n",
    "\n",
    "# creamos una matriz booleana de máscara\n",
    "mask = np.triu(np.ones_like(df_correlaciones, dtype=bool))\n",
    "\n",
    "# creamos un heatmap con la máscara\n",
    "sns.heatmap(df_correlaciones, \n",
    "            annot = True, \n",
    "            fmt = \".2f\", \n",
    "            cmap = \"bone_r\", \n",
    "            vmax = 1, \n",
    "            vmin = -1, \n",
    "            mask = mask); "
   ]
  },
  {
   "cell_type": "markdown",
   "metadata": {},
   "source": [
    "- En vista de los resultados, se observa:\n",
    "    - Una correlación fuerte entre units_sold y rating_count, lo que sugiere que a mayor número de unidades vendidas, mayor cantidad de rating obtenidos\n",
    "    - Una correlación moderada entre retail_price y price, lo cual nos lleva a pensar que ambos tipos de precio tienen una ligera relación entre sí y cuando sube uno, el otro también\n",
    "    - El resto de correlaciones son débiles, lo que no refleja la existencia de una relación fuerte entre variables, y en su mayoría positivas"
   ]
  },
  {
   "cell_type": "markdown",
   "metadata": {},
   "source": [
    "3. Utiliza una tabla de contingencia para analizar la relación entre las variables categóricas `uses_ad_boosts` y `badge_product_quality`. ¿Cómo afecta la calidad del producto al uso de anuncios promocionales? Proporciona interpretaciones basadas en la tabla de contingencia.\n"
   ]
  },
  {
   "cell_type": "code",
   "execution_count": 44,
   "metadata": {},
   "outputs": [
    {
     "data": {
      "text/html": [
       "<div>\n",
       "<style scoped>\n",
       "    .dataframe tbody tr th:only-of-type {\n",
       "        vertical-align: middle;\n",
       "    }\n",
       "\n",
       "    .dataframe tbody tr th {\n",
       "        vertical-align: top;\n",
       "    }\n",
       "\n",
       "    .dataframe thead th {\n",
       "        text-align: right;\n",
       "    }\n",
       "</style>\n",
       "<table border=\"1\" class=\"dataframe\">\n",
       "  <thead>\n",
       "    <tr style=\"text-align: right;\">\n",
       "      <th>badge_product_quality</th>\n",
       "      <th>Excellent</th>\n",
       "      <th>Good</th>\n",
       "    </tr>\n",
       "    <tr>\n",
       "      <th>uses_ad_boosts</th>\n",
       "      <th></th>\n",
       "      <th></th>\n",
       "    </tr>\n",
       "  </thead>\n",
       "  <tbody>\n",
       "    <tr>\n",
       "      <th>No</th>\n",
       "      <td>4.195804</td>\n",
       "      <td>52.511125</td>\n",
       "    </tr>\n",
       "    <tr>\n",
       "      <th>Yes</th>\n",
       "      <td>3.242212</td>\n",
       "      <td>40.050858</td>\n",
       "    </tr>\n",
       "  </tbody>\n",
       "</table>\n",
       "</div>"
      ],
      "text/plain": [
       "badge_product_quality  Excellent       Good\n",
       "uses_ad_boosts                             \n",
       "No                      4.195804  52.511125\n",
       "Yes                     3.242212  40.050858"
      ]
     },
     "execution_count": 44,
     "metadata": {},
     "output_type": "execute_result"
    }
   ],
   "source": [
    "tabla_contingencia = pd.crosstab(df['uses_ad_boosts'], df['badge_product_quality'], normalize=True) * 100\n",
    "\n",
    "tabla_contingencia"
   ]
  },
  {
   "cell_type": "markdown",
   "metadata": {},
   "source": [
    "- En función de la tabla de contingencia, podemos observar que la calidad sí afecta al uso de anuncios:\n",
    "    - Los productos de calidad excelente reciben una atención menor en el uso de anuncios que aquellos cuya calidad se percibe como buena (3% vs. 40%)\n",
    "    - En los productos cuya calidad es buena se observa que hay una ligera frecuencia superior de aquellos que no utilizan anuncios"
   ]
  },
  {
   "cell_type": "markdown",
   "metadata": {},
   "source": [
    "4. Crea una tabla de contingencia que examine la relación entre las variables categóricas `badge_local_product` y `badge_fast_shipping`. ¿Hay alguna tendencia en la que los productos locales estén más asociados con envíos rápidos? Explícalo."
   ]
  },
  {
   "cell_type": "code",
   "execution_count": 46,
   "metadata": {},
   "outputs": [
    {
     "data": {
      "text/html": [
       "<div>\n",
       "<style scoped>\n",
       "    .dataframe tbody tr th:only-of-type {\n",
       "        vertical-align: middle;\n",
       "    }\n",
       "\n",
       "    .dataframe tbody tr th {\n",
       "        vertical-align: top;\n",
       "    }\n",
       "\n",
       "    .dataframe thead th {\n",
       "        text-align: right;\n",
       "    }\n",
       "</style>\n",
       "<table border=\"1\" class=\"dataframe\">\n",
       "  <thead>\n",
       "    <tr style=\"text-align: right;\">\n",
       "      <th>badge_fast_shipping</th>\n",
       "      <th>No</th>\n",
       "      <th>Yes</th>\n",
       "    </tr>\n",
       "    <tr>\n",
       "      <th>badge_local_product</th>\n",
       "      <th></th>\n",
       "      <th></th>\n",
       "    </tr>\n",
       "  </thead>\n",
       "  <tbody>\n",
       "    <tr>\n",
       "      <th>No</th>\n",
       "      <td>97.457088</td>\n",
       "      <td>0.699301</td>\n",
       "    </tr>\n",
       "    <tr>\n",
       "      <th>Yes</th>\n",
       "      <td>1.271456</td>\n",
       "      <td>0.572155</td>\n",
       "    </tr>\n",
       "  </tbody>\n",
       "</table>\n",
       "</div>"
      ],
      "text/plain": [
       "badge_fast_shipping         No       Yes\n",
       "badge_local_product                     \n",
       "No                   97.457088  0.699301\n",
       "Yes                   1.271456  0.572155"
      ]
     },
     "execution_count": 46,
     "metadata": {},
     "output_type": "execute_result"
    }
   ],
   "source": [
    "tabla_contingencia2 = pd.crosstab(df['badge_local_product'], df['badge_fast_shipping'], normalize=True) * 100\n",
    "\n",
    "tabla_contingencia2"
   ]
  },
  {
   "cell_type": "markdown",
   "metadata": {},
   "source": [
    "- En función de la tabla de contingencia, se observa:\n",
    "    - En los productos no locales, la frecuencia de envío rápido es del 0.70% y la frecuencia de envío estándar es del 97.46%\n",
    "    - En cambio, para los productos locales, la frecuencia de envío rápido es del 0.57% y la frecuencia de envío estándar es del 1.27%\n",
    "    - Por tanto (y en proporción), se observa un mayor uso del envío rápido en aquellos productos que sí tienen el distintivo local"
   ]
  },
  {
   "cell_type": "markdown",
   "metadata": {},
   "source": [
    "5. Calcula la media y la mediana de la variable `mean_product_prices`. ¿Cómo se comparan estas medidas? ¿Qué puedes inferir sobre la distribución de los precios promedio de los productos?"
   ]
  },
  {
   "cell_type": "code",
   "execution_count": 61,
   "metadata": {},
   "outputs": [
    {
     "name": "stdout",
     "output_type": "stream",
     "text": [
      "La media de 'mean_products_prices' es: 8.325600762873485\n",
      "Y la mediana es: 8.0\n"
     ]
    }
   ],
   "source": [
    "media2 = df['mean_product_prices'].mean()\n",
    "mediana2 = df['mean_product_prices'].median()\n",
    "\n",
    "print(f\"La media de 'mean_products_prices' es: {media2}\\nY la mediana es: {mediana2}\")"
   ]
  },
  {
   "cell_type": "markdown",
   "metadata": {},
   "source": [
    "- Comparando la media y la mediana, se advierte que la media es ligeramente mayor que la mediana. Esto sugiere que la distribución de los precios promedio de los productos podría estar ligeramente sesgada hacia la derecha, ya que hay algunos valores más altos que están aumentando el valor de la media."
   ]
  },
  {
   "cell_type": "markdown",
   "metadata": {},
   "source": [
    "6. Realiza un análisis de correlación entre `total_units_sold` y `mean_product_ratings_count`. ¿Existe una relación entre la cantidad total de unidades vendidas y la calificación promedio de los productos? Explica los resultados."
   ]
  },
  {
   "cell_type": "code",
   "execution_count": 57,
   "metadata": {},
   "outputs": [
    {
     "data": {
      "text/html": [
       "<div>\n",
       "<style scoped>\n",
       "    .dataframe tbody tr th:only-of-type {\n",
       "        vertical-align: middle;\n",
       "    }\n",
       "\n",
       "    .dataframe tbody tr th {\n",
       "        vertical-align: top;\n",
       "    }\n",
       "\n",
       "    .dataframe thead th {\n",
       "        text-align: right;\n",
       "    }\n",
       "</style>\n",
       "<table border=\"1\" class=\"dataframe\">\n",
       "  <thead>\n",
       "    <tr style=\"text-align: right;\">\n",
       "      <th></th>\n",
       "      <th>total_units_sold</th>\n",
       "      <th>mean_product_ratings_count</th>\n",
       "    </tr>\n",
       "  </thead>\n",
       "  <tbody>\n",
       "    <tr>\n",
       "      <th>total_units_sold</th>\n",
       "      <td>1.000000</td>\n",
       "      <td>0.875353</td>\n",
       "    </tr>\n",
       "    <tr>\n",
       "      <th>mean_product_ratings_count</th>\n",
       "      <td>0.875353</td>\n",
       "      <td>1.000000</td>\n",
       "    </tr>\n",
       "  </tbody>\n",
       "</table>\n",
       "</div>"
      ],
      "text/plain": [
       "                            total_units_sold  mean_product_ratings_count\n",
       "total_units_sold                    1.000000                    0.875353\n",
       "mean_product_ratings_count          0.875353                    1.000000"
      ]
     },
     "execution_count": 57,
     "metadata": {},
     "output_type": "execute_result"
    }
   ],
   "source": [
    "df_correlaciones2 = df[['total_units_sold' , 'mean_product_ratings_count']].corr(method = \"spearman\")\n",
    "\n",
    "df_correlaciones2"
   ]
  },
  {
   "cell_type": "markdown",
   "metadata": {},
   "source": [
    "- La correlación entre la cantidad total de unidades vendidas y la calificación promedio es de 0.875, lo que indica una fuerte correlación positiva entre ambas: A medida que aumenta la cantidad total de unidades vendidas, también tiende a aumentar la calificación promedio de los productos"
   ]
  },
  {
   "cell_type": "markdown",
   "metadata": {},
   "source": [
    "7. Crea una tabla de contingencia que examine la relación entre las variables categóricas `badge_local_product` y `seller_reputation`. ¿Cómo se relacionan las calificaciones de los empleados con la reputación del vendedor? Proporciona interpretaciones basadas en la tabla de contingencia."
   ]
  },
  {
   "cell_type": "code",
   "execution_count": 59,
   "metadata": {},
   "outputs": [
    {
     "data": {
      "text/html": [
       "<div>\n",
       "<style scoped>\n",
       "    .dataframe tbody tr th:only-of-type {\n",
       "        vertical-align: middle;\n",
       "    }\n",
       "\n",
       "    .dataframe tbody tr th {\n",
       "        vertical-align: top;\n",
       "    }\n",
       "\n",
       "    .dataframe thead th {\n",
       "        text-align: right;\n",
       "    }\n",
       "</style>\n",
       "<table border=\"1\" class=\"dataframe\">\n",
       "  <thead>\n",
       "    <tr style=\"text-align: right;\">\n",
       "      <th>badge_local_product</th>\n",
       "      <th>No</th>\n",
       "      <th>Yes</th>\n",
       "    </tr>\n",
       "    <tr>\n",
       "      <th>seller_reputation</th>\n",
       "      <th></th>\n",
       "      <th></th>\n",
       "    </tr>\n",
       "  </thead>\n",
       "  <tbody>\n",
       "    <tr>\n",
       "      <th>Good</th>\n",
       "      <td>57.469803</td>\n",
       "      <td>1.716465</td>\n",
       "    </tr>\n",
       "    <tr>\n",
       "      <th>Ordinary</th>\n",
       "      <td>40.686586</td>\n",
       "      <td>0.127146</td>\n",
       "    </tr>\n",
       "  </tbody>\n",
       "</table>\n",
       "</div>"
      ],
      "text/plain": [
       "badge_local_product         No       Yes\n",
       "seller_reputation                       \n",
       "Good                 57.469803  1.716465\n",
       "Ordinary             40.686586  0.127146"
      ]
     },
     "execution_count": 59,
     "metadata": {},
     "output_type": "execute_result"
    }
   ],
   "source": [
    "tabla_contingencia3 = pd.crosstab(df['seller_reputation'], df['badge_local_product'], normalize=True) * 100\n",
    "\n",
    "tabla_contingencia3"
   ]
  },
  {
   "cell_type": "markdown",
   "metadata": {},
   "source": [
    "- Los vendedores con una reputación \"Buena\" tienden a tener una proporción ligeramente mayor de productos con el distintivo local (1,72%) en comparación con los vendedores con una reputación \"Ordinaria\" (0,13%)"
   ]
  },
  {
   "cell_type": "markdown",
   "metadata": {},
   "source": [
    "8. Calcula la media y la mediana de la variable `discount_percentage`. ¿Qué puedes decir sobre los descuentos promedio en los productos? ¿Hay valores atípicos en esta variable?"
   ]
  },
  {
   "cell_type": "code",
   "execution_count": 63,
   "metadata": {},
   "outputs": [
    {
     "name": "stdout",
     "output_type": "stream",
     "text": [
      "La media de 'discount_percentage' es: -192.50926255562635\n",
      "Y la mediana es: -6.19\n"
     ]
    }
   ],
   "source": [
    "media3 = df['discount_percentage'].mean()\n",
    "mediana3 = df['discount_percentage'].median()\n",
    "\n",
    "print(f\"La media de 'discount_percentage' es: {media3}\\nY la mediana es: {mediana3}\")"
   ]
  },
  {
   "cell_type": "markdown",
   "metadata": {},
   "source": [
    "- En este caso la diferencia entre la media y la mediana es bastante significativa, lo que implica que la distribución de los descuentos puede estar sesgada hacia la izquierda, con valores atípicos (outliers) extremadamente bajos que impacten en la media"
   ]
  },
  {
   "cell_type": "markdown",
   "metadata": {},
   "source": [
    "9. Utiliza una tabla de contingencia para analizar cómo se relacionan las variables categóricas `badge_fast_shipping` y `seller_reputation`. ¿Qué puedes concluir sobre la distribución de las calificaciones altas? "
   ]
  },
  {
   "cell_type": "code",
   "execution_count": 64,
   "metadata": {},
   "outputs": [
    {
     "data": {
      "text/html": [
       "<div>\n",
       "<style scoped>\n",
       "    .dataframe tbody tr th:only-of-type {\n",
       "        vertical-align: middle;\n",
       "    }\n",
       "\n",
       "    .dataframe tbody tr th {\n",
       "        vertical-align: top;\n",
       "    }\n",
       "\n",
       "    .dataframe thead th {\n",
       "        text-align: right;\n",
       "    }\n",
       "</style>\n",
       "<table border=\"1\" class=\"dataframe\">\n",
       "  <thead>\n",
       "    <tr style=\"text-align: right;\">\n",
       "      <th>badge_fast_shipping</th>\n",
       "      <th>No</th>\n",
       "      <th>Yes</th>\n",
       "    </tr>\n",
       "    <tr>\n",
       "      <th>seller_reputation</th>\n",
       "      <th></th>\n",
       "      <th></th>\n",
       "    </tr>\n",
       "  </thead>\n",
       "  <tbody>\n",
       "    <tr>\n",
       "      <th>Good</th>\n",
       "      <td>58.169104</td>\n",
       "      <td>1.017165</td>\n",
       "    </tr>\n",
       "    <tr>\n",
       "      <th>Ordinary</th>\n",
       "      <td>40.559441</td>\n",
       "      <td>0.254291</td>\n",
       "    </tr>\n",
       "  </tbody>\n",
       "</table>\n",
       "</div>"
      ],
      "text/plain": [
       "badge_fast_shipping         No       Yes\n",
       "seller_reputation                       \n",
       "Good                 58.169104  1.017165\n",
       "Ordinary             40.559441  0.254291"
      ]
     },
     "execution_count": 64,
     "metadata": {},
     "output_type": "execute_result"
    }
   ],
   "source": [
    "tabla_contingencia4 = pd.crosstab(df['seller_reputation'], df['badge_fast_shipping'], normalize=True) * 100\n",
    "\n",
    "tabla_contingencia4"
   ]
  },
  {
   "cell_type": "markdown",
   "metadata": {},
   "source": [
    "- Los vendedores con una reputación \"Buena\" tienden a tener una proporción ligeramente mayor de productos con envío rápido (1,02%) en comparación con los vendedores con una reputación \"Ordinaria\" (0,25%)"
   ]
  }
 ],
 "metadata": {
  "kernelspec": {
   "display_name": "base",
   "language": "python",
   "name": "python3"
  },
  "language_info": {
   "codemirror_mode": {
    "name": "ipython",
    "version": 3
   },
   "file_extension": ".py",
   "mimetype": "text/x-python",
   "name": "python",
   "nbconvert_exporter": "python",
   "pygments_lexer": "ipython3",
   "version": "3.9.7"
  }
 },
 "nbformat": 4,
 "nbformat_minor": 2
}
