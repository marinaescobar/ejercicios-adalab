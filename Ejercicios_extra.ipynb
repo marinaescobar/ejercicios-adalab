{
 "cells": [
  {
   "cell_type": "markdown",
   "metadata": {},
   "source": [
    "## Ejercicios sobre listas: bonus"
   ]
  },
  {
   "cell_type": "code",
   "execution_count": 10,
   "metadata": {},
   "outputs": [
    {
     "name": "stdout",
     "output_type": "stream",
     "text": [
      "[0, 2, 4, 6]\n"
     ]
    }
   ],
   "source": [
    "# Obtener elementos pares de una lista\n",
    "# Descripción: Dada una lista, obtén una nueva lista que contenga solo los elementos en posiciones pares.\n",
    "\n",
    "lista_numeros = [0, 1, 2, 3, 4, 5, 6]\n",
    "lista_pares = lista_numeros[::2]\n",
    "print(lista_pares)"
   ]
  },
  {
   "cell_type": "code",
   "execution_count": 21,
   "metadata": {},
   "outputs": [
    {
     "name": "stdout",
     "output_type": "stream",
     "text": [
      "[0, 3, 6]\n"
     ]
    }
   ],
   "source": [
    "# Obtener una sublista saltando elementos\n",
    "# Descripción: Dada una lista, obtén una sublista que contenga los elementos saltando de 3 en 3\n",
    "\n",
    "lista_de_3 = lista_numeros[::3]\n",
    "print(lista_de_3)"
   ]
  },
  {
   "cell_type": "code",
   "execution_count": 14,
   "metadata": {},
   "outputs": [
    {
     "data": {
      "text/plain": [
       "15"
      ]
     },
     "execution_count": 14,
     "metadata": {},
     "output_type": "execute_result"
    }
   ],
   "source": [
    "# Encontrar el segundo valor máximo en una lista\n",
    "# Descripción: Dada una lista de números, encuentra el segundo valor máximo\n",
    "\n",
    "lista_numeros_2 = [5, 20, 10, 15, 9, 1]\n",
    "sorted(lista_numeros_2)[-2]"
   ]
  },
  {
   "cell_type": "code",
   "execution_count": null,
   "metadata": {},
   "outputs": [],
   "source": [
    "# Teórico. Debereis contestar la pregunta en una celda de markdown.\n",
    "# Descripción: ¿Qué diferencia existe entre el .sort() y el sorted()"
   ]
  },
  {
   "cell_type": "markdown",
   "metadata": {},
   "source": [
    "SOLUCIÓN: Ambos sirven para ordenar elementos, pero mientras que el `sort` sobreescribe la lista inicial, el `sorted` no lo hace"
   ]
  },
  {
   "cell_type": "code",
   "execution_count": 22,
   "metadata": {},
   "outputs": [
    {
     "name": "stdout",
     "output_type": "stream",
     "text": [
      "[0, 3, 6, [5, 20, 10, 15, 9, 1]]\n",
      "[0, 3, 6, [5, 20, 10, 15, 9, 1], 0, 2, 4, 6]\n"
     ]
    }
   ],
   "source": [
    "# Agregar elementos a una lista utilizando append y extend\n",
    "# Descripción: Dada una lista inicial, agrega nuevos elementos utilizando tanto append como extend y observa las diferencias en el resultado final. El elemento que deberéis usar para añadir a la lista original tiene que ser una lista.\n",
    "\n",
    "lista_de_3.append(lista_numeros_2)\n",
    "print(lista_de_3)\n",
    "\n",
    "lista_de_3.extend(lista_pares)\n",
    "print(lista_de_3)"
   ]
  },
  {
   "cell_type": "code",
   "execution_count": 24,
   "metadata": {},
   "outputs": [
    {
     "name": "stdout",
     "output_type": "stream",
     "text": [
      "['salud', 'dinero', 'amor']\n"
     ]
    }
   ],
   "source": [
    "# Insertar un elemento en una posición específica\n",
    "# Descripción: Dada una lista, inserta un nuevo elemento en una posición específica determinada por el usuario (debereis usar la función input para preguntar al usuario en que posición quiere insertar el elemento).\n",
    "\n",
    "lista_prioridades = [\"dinero\", \"amor\"]\n",
    "orden_elemento = input(\"¿En qué orden de prioridades va la salud?\")\n",
    "lista_prioridades.insert(int(orden_elemento), \"salud\")\n",
    "\n",
    "print(lista_prioridades)"
   ]
  },
  {
   "cell_type": "code",
   "execution_count": 27,
   "metadata": {},
   "outputs": [
    {
     "name": "stdout",
     "output_type": "stream",
     "text": [
      "El elemento escogido es: amor\n"
     ]
    },
    {
     "data": {
      "text/plain": [
       "True"
      ]
     },
     "execution_count": 27,
     "metadata": {},
     "output_type": "execute_result"
    }
   ],
   "source": [
    "# Verificar si un elemento está presente en una lista\n",
    "# Descripción: Dada una lista, verifica si un elemento específico está presente en ella. Igual que el caso anterior, debereis preguntar al usuario que elemento quiere buscar en la lista. El resultado deberá ser True o False.\n",
    "\n",
    "elemento_buscar = input(\"¿Qué elemento quieres buscar en la lista de prioridades?\")\n",
    "print(\"El elemento escogido es:\", elemento_buscar)\n",
    "elemento_buscar in lista_prioridades"
   ]
  },
  {
   "cell_type": "code",
   "execution_count": null,
   "metadata": {},
   "outputs": [],
   "source": [
    "# Manipulación de una lista utilizando remove(), pop() y clear()\n",
    "# Descripción: Crea una lista inicial, realiza operaciones de eliminación y limpieza utilizando los métodos remove(), pop() y clear(), y observa cómo afectan a la lista.\n",
    "\n",
    "lista_inicial = [\"Hola\", \"Adiós\", \"\"]"
   ]
  }
 ],
 "metadata": {
  "kernelspec": {
   "display_name": "adalabenv",
   "language": "python",
   "name": "python3"
  },
  "language_info": {
   "codemirror_mode": {
    "name": "ipython",
    "version": 3
   },
   "file_extension": ".py",
   "mimetype": "text/x-python",
   "name": "python",
   "nbconvert_exporter": "python",
   "pygments_lexer": "ipython3",
   "version": "3.9.7"
  }
 },
 "nbformat": 4,
 "nbformat_minor": 2
}
