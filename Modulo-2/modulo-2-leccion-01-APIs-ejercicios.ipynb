{
 "cells": [
  {
   "cell_type": "markdown",
   "metadata": {},
   "source": [
    "1.  Utilizando la API de Balldontlie extrae la siguiente información. "
   ]
  },
  {
   "cell_type": "markdown",
   "metadata": {},
   "source": [
    " - El nombre, apellido y equipo de cada uno de los jugadores que tenemos en la NBA. Para eso tendrás que usar el [siguiente](https://www.balldontlie.io/home.html#players) endpoint. Extrae información de 200 jugadores. Devuelve los resultados en un DataFrame. Te deberá quedar algo parecido a esto:"
   ]
  },
  {
   "cell_type": "code",
   "execution_count": 1,
   "metadata": {},
   "outputs": [],
   "source": [
    "import pandas as pd\n",
    "import requests\n",
    "import re\n",
    "pd.set_option('display.max_columns' , None)"
   ]
  },
  {
   "cell_type": "code",
   "execution_count": 2,
   "metadata": {},
   "outputs": [],
   "source": [
    "def llamar_api(url):\n",
    "    \n",
    "    llamada = requests.get(url)  \n",
    "\n",
    "    print(f\"La llamada a la API nos ha dado una respuesta de tipo: {llamada.status_code}\")  \n",
    "\n",
    "    if llamada.status_code != 200:  \n",
    "        print(f\"El motivo por el que la llamada falló es {llamada.reason}\")  \n",
    "    else:\n",
    "        return llamada.json()  "
   ]
  },
  {
   "cell_type": "code",
   "execution_count": 3,
   "metadata": {},
   "outputs": [
    {
     "name": "stdout",
     "output_type": "stream",
     "text": [
      "La llamada a la API nos ha dado una respuesta de tipo: 200\n",
      "La llamada a la API nos ha dado una respuesta de tipo: 200\n"
     ]
    }
   ],
   "source": [
    "url_nba = f\"https://www.balldontlie.io/api/v1/players?page=1&per_page=100\"\n",
    "jugadores_nba = llamar_api(url_nba)\n",
    "\n",
    "url_nba2 = f\"https://www.balldontlie.io/api/v1/players?page=2&per_page=100\"\n",
    "jugadores_nba2 = llamar_api(url_nba2)"
   ]
  },
  {
   "cell_type": "code",
   "execution_count": 4,
   "metadata": {},
   "outputs": [],
   "source": [
    "jugadores_nba_200 = {'data' : jugadores_nba['data'] + jugadores_nba2['data']}"
   ]
  },
  {
   "cell_type": "code",
   "execution_count": 5,
   "metadata": {},
   "outputs": [],
   "source": [
    "def limpiar_jugadores(json_nba):\n",
    "    \n",
    "    jugadores200 = {\n",
    "        'nombre' : [] ,\n",
    "        'apellidos' : [] ,\n",
    "        'equipo' : []}\n",
    "    \n",
    "    for jugador in json_nba['data']:\n",
    "        jugadores200['nombre'].append(jugador['first_name'])\n",
    "        jugadores200['apellidos'].append(jugador['last_name'])\n",
    "        jugadores200['equipo'].append(jugador['team']['full_name'])\n",
    "        \n",
    "    df_jugadores = pd.DataFrame(jugadores200)\n",
    "    \n",
    "    return df_jugadores"
   ]
  },
  {
   "cell_type": "code",
   "execution_count": 6,
   "metadata": {},
   "outputs": [
    {
     "data": {
      "text/html": [
       "<div>\n",
       "<style scoped>\n",
       "    .dataframe tbody tr th:only-of-type {\n",
       "        vertical-align: middle;\n",
       "    }\n",
       "\n",
       "    .dataframe tbody tr th {\n",
       "        vertical-align: top;\n",
       "    }\n",
       "\n",
       "    .dataframe thead th {\n",
       "        text-align: right;\n",
       "    }\n",
       "</style>\n",
       "<table border=\"1\" class=\"dataframe\">\n",
       "  <thead>\n",
       "    <tr style=\"text-align: right;\">\n",
       "      <th></th>\n",
       "      <th>nombre</th>\n",
       "      <th>apellidos</th>\n",
       "      <th>equipo</th>\n",
       "    </tr>\n",
       "  </thead>\n",
       "  <tbody>\n",
       "    <tr>\n",
       "      <th>0</th>\n",
       "      <td>Keenan</td>\n",
       "      <td>Evans</td>\n",
       "      <td>Detroit Pistons</td>\n",
       "    </tr>\n",
       "    <tr>\n",
       "      <th>1</th>\n",
       "      <td>Billy</td>\n",
       "      <td>Preston</td>\n",
       "      <td>Cleveland Cavaliers</td>\n",
       "    </tr>\n",
       "    <tr>\n",
       "      <th>2</th>\n",
       "      <td>Gary</td>\n",
       "      <td>Trent Jr.</td>\n",
       "      <td>Portland Trail Blazers</td>\n",
       "    </tr>\n",
       "    <tr>\n",
       "      <th>3</th>\n",
       "      <td>Ken</td>\n",
       "      <td>Menke</td>\n",
       "      <td>Waterloo Hawks</td>\n",
       "    </tr>\n",
       "    <tr>\n",
       "      <th>4</th>\n",
       "      <td>Mike</td>\n",
       "      <td>Scott</td>\n",
       "      <td>Atlanta Hawks</td>\n",
       "    </tr>\n",
       "    <tr>\n",
       "      <th>...</th>\n",
       "      <td>...</td>\n",
       "      <td>...</td>\n",
       "      <td>...</td>\n",
       "    </tr>\n",
       "    <tr>\n",
       "      <th>195</th>\n",
       "      <td>Ed</td>\n",
       "      <td>Kalafat</td>\n",
       "      <td>Los Angeles Lakers</td>\n",
       "    </tr>\n",
       "    <tr>\n",
       "      <th>196</th>\n",
       "      <td>Georgios</td>\n",
       "      <td>Kalaitzakis</td>\n",
       "      <td>Oklahoma City Thunder</td>\n",
       "    </tr>\n",
       "    <tr>\n",
       "      <th>197</th>\n",
       "      <td>Chris</td>\n",
       "      <td>Kaman</td>\n",
       "      <td>LA Clippers</td>\n",
       "    </tr>\n",
       "    <tr>\n",
       "      <th>198</th>\n",
       "      <td>Frank</td>\n",
       "      <td>Kaminsky</td>\n",
       "      <td>Houston Rockets</td>\n",
       "    </tr>\n",
       "    <tr>\n",
       "      <th>199</th>\n",
       "      <td>James</td>\n",
       "      <td>Scott</td>\n",
       "      <td>Miami Heat</td>\n",
       "    </tr>\n",
       "  </tbody>\n",
       "</table>\n",
       "<p>200 rows × 3 columns</p>\n",
       "</div>"
      ],
      "text/plain": [
       "       nombre    apellidos                  equipo\n",
       "0      Keenan        Evans         Detroit Pistons\n",
       "1       Billy      Preston     Cleveland Cavaliers\n",
       "2        Gary    Trent Jr.  Portland Trail Blazers\n",
       "3         Ken        Menke          Waterloo Hawks\n",
       "4        Mike        Scott           Atlanta Hawks\n",
       "..        ...          ...                     ...\n",
       "195        Ed      Kalafat      Los Angeles Lakers\n",
       "196  Georgios  Kalaitzakis   Oklahoma City Thunder\n",
       "197     Chris        Kaman             LA Clippers\n",
       "198     Frank     Kaminsky         Houston Rockets\n",
       "199     James        Scott              Miami Heat\n",
       "\n",
       "[200 rows x 3 columns]"
      ]
     },
     "execution_count": 6,
     "metadata": {},
     "output_type": "execute_result"
    }
   ],
   "source": [
    "df_nba = limpiar_jugadores(jugadores_nba_200)\n",
    "\n",
    "df_nba"
   ]
  },
  {
   "cell_type": "markdown",
   "metadata": {},
   "source": [
    " - Extrae información de todos los partidos jugados, en concreto deberás sacar la información del nombre del equipo local, nombre del equipo visitante, puntos del equipo local y del visitante y la temporada a la que pertenece el partido. Para eso tendrás que usar el [siguiente](https://www.balldontlie.io/home.html#get-all-games) endpoint. Extrae la información de 200 partidos. Devuelve los resultados en un DataFrame. Te deberá quedar algo parecido a esto: "
   ]
  },
  {
   "cell_type": "code",
   "execution_count": 7,
   "metadata": {},
   "outputs": [
    {
     "name": "stdout",
     "output_type": "stream",
     "text": [
      "La llamada a la API nos ha dado una respuesta de tipo: 200\n",
      "La llamada a la API nos ha dado una respuesta de tipo: 200\n"
     ]
    }
   ],
   "source": [
    "url_nba3 = f\"https://www.balldontlie.io/api/v1/games?page=1&per_page=100\"\n",
    "partidos_nba = llamar_api(url_nba3)\n",
    "\n",
    "url_nba4 = f\"https://www.balldontlie.io/api/v1/games?page=2&per_page=100\"\n",
    "partidos_nba2 = llamar_api(url_nba4)"
   ]
  },
  {
   "cell_type": "code",
   "execution_count": 8,
   "metadata": {},
   "outputs": [],
   "source": [
    "partidos_nba_200 = {'data' : partidos_nba['data'] + partidos_nba2['data']}"
   ]
  },
  {
   "cell_type": "code",
   "execution_count": 9,
   "metadata": {},
   "outputs": [],
   "source": [
    "def limpiar_partidos(json_nba):\n",
    "    \n",
    "    partidos = {\n",
    "        'equipo_local' : [] ,\n",
    "        'equipo_visitante' : [] ,\n",
    "        'puntos_local' : [],\n",
    "        'puntos_visitante' : [],\n",
    "        'temporada' : []}\n",
    "    \n",
    "    for partido in json_nba['data']:\n",
    "        partidos['equipo_local'].append(partido['home_team']['full_name'])\n",
    "        partidos['equipo_visitante'].append(partido['visitor_team']['full_name'])\n",
    "        partidos['puntos_local'].append(partido['home_team_score'])\n",
    "        partidos['puntos_visitante'].append(partido['visitor_team_score'])\n",
    "        partidos['temporada'].append(partido['season'])\n",
    "        \n",
    "    df_partidos = pd.DataFrame(partidos)\n",
    "    \n",
    "    return df_partidos"
   ]
  },
  {
   "cell_type": "code",
   "execution_count": 10,
   "metadata": {},
   "outputs": [
    {
     "data": {
      "text/html": [
       "<div>\n",
       "<style scoped>\n",
       "    .dataframe tbody tr th:only-of-type {\n",
       "        vertical-align: middle;\n",
       "    }\n",
       "\n",
       "    .dataframe tbody tr th {\n",
       "        vertical-align: top;\n",
       "    }\n",
       "\n",
       "    .dataframe thead th {\n",
       "        text-align: right;\n",
       "    }\n",
       "</style>\n",
       "<table border=\"1\" class=\"dataframe\">\n",
       "  <thead>\n",
       "    <tr style=\"text-align: right;\">\n",
       "      <th></th>\n",
       "      <th>equipo_local</th>\n",
       "      <th>equipo_visitante</th>\n",
       "      <th>puntos_local</th>\n",
       "      <th>puntos_visitante</th>\n",
       "      <th>temporada</th>\n",
       "    </tr>\n",
       "  </thead>\n",
       "  <tbody>\n",
       "    <tr>\n",
       "      <th>0</th>\n",
       "      <td>Boston Celtics</td>\n",
       "      <td>Charlotte Hornets</td>\n",
       "      <td>126</td>\n",
       "      <td>94</td>\n",
       "      <td>2018</td>\n",
       "    </tr>\n",
       "    <tr>\n",
       "      <th>1</th>\n",
       "      <td>Boston Celtics</td>\n",
       "      <td>LA Clippers</td>\n",
       "      <td>112</td>\n",
       "      <td>123</td>\n",
       "      <td>2018</td>\n",
       "    </tr>\n",
       "    <tr>\n",
       "      <th>2</th>\n",
       "      <td>Philadelphia 76ers</td>\n",
       "      <td>Denver Nuggets</td>\n",
       "      <td>117</td>\n",
       "      <td>110</td>\n",
       "      <td>2018</td>\n",
       "    </tr>\n",
       "    <tr>\n",
       "      <th>3</th>\n",
       "      <td>Washington Wizards</td>\n",
       "      <td>Cleveland Cavaliers</td>\n",
       "      <td>119</td>\n",
       "      <td>106</td>\n",
       "      <td>2018</td>\n",
       "    </tr>\n",
       "    <tr>\n",
       "      <th>4</th>\n",
       "      <td>Sacramento Kings</td>\n",
       "      <td>Miami Heat</td>\n",
       "      <td>102</td>\n",
       "      <td>96</td>\n",
       "      <td>2018</td>\n",
       "    </tr>\n",
       "    <tr>\n",
       "      <th>...</th>\n",
       "      <td>...</td>\n",
       "      <td>...</td>\n",
       "      <td>...</td>\n",
       "      <td>...</td>\n",
       "      <td>...</td>\n",
       "    </tr>\n",
       "    <tr>\n",
       "      <th>195</th>\n",
       "      <td>Brooklyn Nets</td>\n",
       "      <td>Charlotte Hornets</td>\n",
       "      <td>112</td>\n",
       "      <td>123</td>\n",
       "      <td>2018</td>\n",
       "    </tr>\n",
       "    <tr>\n",
       "      <th>196</th>\n",
       "      <td>New York Knicks</td>\n",
       "      <td>Cleveland Cavaliers</td>\n",
       "      <td>118</td>\n",
       "      <td>125</td>\n",
       "      <td>2018</td>\n",
       "    </tr>\n",
       "    <tr>\n",
       "      <th>197</th>\n",
       "      <td>Dallas Mavericks</td>\n",
       "      <td>Indiana Pacers</td>\n",
       "      <td>110</td>\n",
       "      <td>101</td>\n",
       "      <td>2018</td>\n",
       "    </tr>\n",
       "    <tr>\n",
       "      <th>198</th>\n",
       "      <td>Boston Celtics</td>\n",
       "      <td>Portland Trail Blazers</td>\n",
       "      <td>92</td>\n",
       "      <td>97</td>\n",
       "      <td>2018</td>\n",
       "    </tr>\n",
       "    <tr>\n",
       "      <th>199</th>\n",
       "      <td>Houston Rockets</td>\n",
       "      <td>Miami Heat</td>\n",
       "      <td>121</td>\n",
       "      <td>118</td>\n",
       "      <td>2018</td>\n",
       "    </tr>\n",
       "  </tbody>\n",
       "</table>\n",
       "<p>200 rows × 5 columns</p>\n",
       "</div>"
      ],
      "text/plain": [
       "           equipo_local        equipo_visitante  puntos_local  \\\n",
       "0        Boston Celtics       Charlotte Hornets           126   \n",
       "1        Boston Celtics             LA Clippers           112   \n",
       "2    Philadelphia 76ers          Denver Nuggets           117   \n",
       "3    Washington Wizards     Cleveland Cavaliers           119   \n",
       "4      Sacramento Kings              Miami Heat           102   \n",
       "..                  ...                     ...           ...   \n",
       "195       Brooklyn Nets       Charlotte Hornets           112   \n",
       "196     New York Knicks     Cleveland Cavaliers           118   \n",
       "197    Dallas Mavericks          Indiana Pacers           110   \n",
       "198      Boston Celtics  Portland Trail Blazers            92   \n",
       "199     Houston Rockets              Miami Heat           121   \n",
       "\n",
       "     puntos_visitante  temporada  \n",
       "0                  94       2018  \n",
       "1                 123       2018  \n",
       "2                 110       2018  \n",
       "3                 106       2018  \n",
       "4                  96       2018  \n",
       "..                ...        ...  \n",
       "195               123       2018  \n",
       "196               125       2018  \n",
       "197               101       2018  \n",
       "198                97       2018  \n",
       "199               118       2018  \n",
       "\n",
       "[200 rows x 5 columns]"
      ]
     },
     "execution_count": 10,
     "metadata": {},
     "output_type": "execute_result"
    }
   ],
   "source": [
    "df_partidos = limpiar_partidos(partidos_nba_200)\n",
    "\n",
    "df_partidos"
   ]
  }
 ],
 "metadata": {
  "kernelspec": {
   "display_name": "base",
   "language": "python",
   "name": "python3"
  },
  "language_info": {
   "codemirror_mode": {
    "name": "ipython",
    "version": 3
   },
   "file_extension": ".py",
   "mimetype": "text/x-python",
   "name": "python",
   "nbconvert_exporter": "python",
   "pygments_lexer": "ipython3",
   "version": "3.9.7"
  }
 },
 "nbformat": 4,
 "nbformat_minor": 2
}
