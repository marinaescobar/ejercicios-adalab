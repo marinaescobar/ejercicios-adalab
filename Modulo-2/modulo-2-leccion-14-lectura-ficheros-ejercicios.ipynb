{
 "cells": [
  {
   "cell_type": "markdown",
   "metadata": {},
   "source": [
    "1. Actualiza el json de personal, añadiendo un año más a la edad y experiencia de cada registro de personal."
   ]
  },
  {
   "cell_type": "code",
   "execution_count": 1,
   "metadata": {},
   "outputs": [],
   "source": [
    "import json\n",
    "\n",
    "import pandas as pd"
   ]
  },
  {
   "cell_type": "code",
   "execution_count": 3,
   "metadata": {},
   "outputs": [],
   "source": [
    "with open(\"/mnt/c/Users/marin/Desktop/Adalab/Teoria-Clases-Invertidas/Modulo-2/personal.json\" , \"r\") as fichero:\n",
    "    personal = json.load(fichero)"
   ]
  },
  {
   "cell_type": "code",
   "execution_count": 6,
   "metadata": {},
   "outputs": [
    {
     "data": {
      "text/plain": [
       "{'workers': [{'nombre': 'Ana',\n",
       "   'edad': 34,\n",
       "   'experiencia': 5,\n",
       "   'nivel': 'Senior',\n",
       "   'salario': 50000,\n",
       "   'mascota': 'gatos'},\n",
       "  {'nombre': 'Eva',\n",
       "   'edad': 37,\n",
       "   'experiencia': 2,\n",
       "   'nivel': 'Mid',\n",
       "   'salario': 35000},\n",
       "  {'nombre': 'Marta',\n",
       "   'edad': 27,\n",
       "   'experiencia': 1,\n",
       "   'nivel': 'Junior',\n",
       "   'salario': 25000},\n",
       "  {'nombre': 'Paula',\n",
       "   'edad': 30,\n",
       "   'experiencia': 3,\n",
       "   'nivel': 'Mid',\n",
       "   'salario': 35000}]}"
      ]
     },
     "execution_count": 6,
     "metadata": {},
     "output_type": "execute_result"
    }
   ],
   "source": [
    "personal"
   ]
  },
  {
   "cell_type": "code",
   "execution_count": 7,
   "metadata": {},
   "outputs": [
    {
     "data": {
      "text/plain": [
       "{'workers': [{'nombre': 'Ana',\n",
       "   'edad': 34,\n",
       "   'experiencia': 6,\n",
       "   'nivel': 'Senior',\n",
       "   'salario': 50000,\n",
       "   'mascota': 'gatos'},\n",
       "  {'nombre': 'Eva',\n",
       "   'edad': 37,\n",
       "   'experiencia': 3,\n",
       "   'nivel': 'Mid',\n",
       "   'salario': 35000},\n",
       "  {'nombre': 'Marta',\n",
       "   'edad': 27,\n",
       "   'experiencia': 2,\n",
       "   'nivel': 'Junior',\n",
       "   'salario': 25000},\n",
       "  {'nombre': 'Paula',\n",
       "   'edad': 30,\n",
       "   'experiencia': 4,\n",
       "   'nivel': 'Mid',\n",
       "   'salario': 35000}]}"
      ]
     },
     "execution_count": 7,
     "metadata": {},
     "output_type": "execute_result"
    }
   ],
   "source": [
    "for empleado in personal['workers']:\n",
    "    empleado['experiencia'] += 1 \n",
    "    \n",
    "personal"
   ]
  },
  {
   "cell_type": "markdown",
   "metadata": {},
   "source": [
    "2. Cambia el nivel en función de la experiencia: Junior = 1 año, Mid = 2 o 3 años, Senior más de 4 años.\n"
   ]
  },
  {
   "cell_type": "code",
   "execution_count": 9,
   "metadata": {},
   "outputs": [
    {
     "data": {
      "text/plain": [
       "{'workers': [{'nombre': 'Ana',\n",
       "   'edad': 34,\n",
       "   'experiencia': 6,\n",
       "   'nivel': 'Senior',\n",
       "   'salario': 50000,\n",
       "   'mascota': 'gatos'},\n",
       "  {'nombre': 'Eva',\n",
       "   'edad': 37,\n",
       "   'experiencia': 3,\n",
       "   'nivel': 'Mid',\n",
       "   'salario': 35000},\n",
       "  {'nombre': 'Marta',\n",
       "   'edad': 27,\n",
       "   'experiencia': 2,\n",
       "   'nivel': 'Mid',\n",
       "   'salario': 25000},\n",
       "  {'nombre': 'Paula',\n",
       "   'edad': 30,\n",
       "   'experiencia': 4,\n",
       "   'nivel': 'Senior',\n",
       "   'salario': 35000}]}"
      ]
     },
     "execution_count": 9,
     "metadata": {},
     "output_type": "execute_result"
    }
   ],
   "source": [
    "for empleado in personal['workers']:\n",
    "    \n",
    "    if empleado['experiencia'] == 1:\n",
    "        empleado['nivel'] = 'Junior'\n",
    "    \n",
    "    elif empleado['experiencia'] <= 3:\n",
    "        empleado['nivel'] = 'Mid'\n",
    "        \n",
    "    else:\n",
    "        empleado['nivel'] = 'Senior'\n",
    "        \n",
    "personal\n"
   ]
  },
  {
   "cell_type": "markdown",
   "metadata": {},
   "source": [
    "3. Cambia el salario en base al nivel: Junior = 25.000, Mid = 35.000, Senior = 50.000"
   ]
  },
  {
   "cell_type": "code",
   "execution_count": 10,
   "metadata": {},
   "outputs": [
    {
     "data": {
      "text/plain": [
       "{'workers': [{'nombre': 'Ana',\n",
       "   'edad': 34,\n",
       "   'experiencia': 6,\n",
       "   'nivel': 'Senior',\n",
       "   'salario': 50000,\n",
       "   'mascota': 'gatos'},\n",
       "  {'nombre': 'Eva',\n",
       "   'edad': 37,\n",
       "   'experiencia': 3,\n",
       "   'nivel': 'Mid',\n",
       "   'salario': 35000},\n",
       "  {'nombre': 'Marta',\n",
       "   'edad': 27,\n",
       "   'experiencia': 2,\n",
       "   'nivel': 'Mid',\n",
       "   'salario': 35000},\n",
       "  {'nombre': 'Paula',\n",
       "   'edad': 30,\n",
       "   'experiencia': 4,\n",
       "   'nivel': 'Senior',\n",
       "   'salario': 50000}]}"
      ]
     },
     "execution_count": 10,
     "metadata": {},
     "output_type": "execute_result"
    }
   ],
   "source": [
    "salarios = {'Junior' : 25000 , 'Mid' : 35000 , 'Senior' : 50000}\n",
    "\n",
    "for empleado in personal['workers']:\n",
    "    \n",
    "    empleado['salario'] = salarios[empleado['nivel']]\n",
    "    \n",
    "personal"
   ]
  },
  {
   "cell_type": "markdown",
   "metadata": {},
   "source": [
    "4. Guarda el json con el nombre \"personal_actualizado.json\"\n"
   ]
  },
  {
   "cell_type": "code",
   "execution_count": 11,
   "metadata": {},
   "outputs": [],
   "source": [
    "with open(\"/mnt/c/Users/marin/Desktop/Adalab/Teoria-Clases-Invertidas/Modulo-2/personal_actualizado.json\" , \"w\") as fichero:\n",
    "    json.dump(personal , fichero)"
   ]
  },
  {
   "cell_type": "markdown",
   "metadata": {},
   "source": [
    "5. Abre el json con Pandas."
   ]
  },
  {
   "cell_type": "code",
   "execution_count": 12,
   "metadata": {},
   "outputs": [],
   "source": [
    "personal_actualizado = pd.read_json(\"/mnt/c/Users/marin/Desktop/Adalab/Teoria-Clases-Invertidas/Modulo-2/personal_actualizado.json\")"
   ]
  },
  {
   "cell_type": "code",
   "execution_count": 13,
   "metadata": {},
   "outputs": [
    {
     "data": {
      "text/html": [
       "<div>\n",
       "<style scoped>\n",
       "    .dataframe tbody tr th:only-of-type {\n",
       "        vertical-align: middle;\n",
       "    }\n",
       "\n",
       "    .dataframe tbody tr th {\n",
       "        vertical-align: top;\n",
       "    }\n",
       "\n",
       "    .dataframe thead th {\n",
       "        text-align: right;\n",
       "    }\n",
       "</style>\n",
       "<table border=\"1\" class=\"dataframe\">\n",
       "  <thead>\n",
       "    <tr style=\"text-align: right;\">\n",
       "      <th></th>\n",
       "      <th>workers</th>\n",
       "    </tr>\n",
       "  </thead>\n",
       "  <tbody>\n",
       "    <tr>\n",
       "      <th>0</th>\n",
       "      <td>{'nombre': 'Ana', 'edad': 34, 'experiencia': 6...</td>\n",
       "    </tr>\n",
       "    <tr>\n",
       "      <th>1</th>\n",
       "      <td>{'nombre': 'Eva', 'edad': 37, 'experiencia': 3...</td>\n",
       "    </tr>\n",
       "    <tr>\n",
       "      <th>2</th>\n",
       "      <td>{'nombre': 'Marta', 'edad': 27, 'experiencia':...</td>\n",
       "    </tr>\n",
       "    <tr>\n",
       "      <th>3</th>\n",
       "      <td>{'nombre': 'Paula', 'edad': 30, 'experiencia':...</td>\n",
       "    </tr>\n",
       "  </tbody>\n",
       "</table>\n",
       "</div>"
      ],
      "text/plain": [
       "                                             workers\n",
       "0  {'nombre': 'Ana', 'edad': 34, 'experiencia': 6...\n",
       "1  {'nombre': 'Eva', 'edad': 37, 'experiencia': 3...\n",
       "2  {'nombre': 'Marta', 'edad': 27, 'experiencia':...\n",
       "3  {'nombre': 'Paula', 'edad': 30, 'experiencia':..."
      ]
     },
     "execution_count": 13,
     "metadata": {},
     "output_type": "execute_result"
    }
   ],
   "source": [
    "personal_actualizado.head()"
   ]
  }
 ],
 "metadata": {
  "kernelspec": {
   "display_name": "base",
   "language": "python",
   "name": "python3"
  },
  "language_info": {
   "codemirror_mode": {
    "name": "ipython",
    "version": 3
   },
   "file_extension": ".py",
   "mimetype": "text/x-python",
   "name": "python",
   "nbconvert_exporter": "python",
   "pygments_lexer": "ipython3",
   "version": "3.9.7"
  }
 },
 "nbformat": 4,
 "nbformat_minor": 2
}
