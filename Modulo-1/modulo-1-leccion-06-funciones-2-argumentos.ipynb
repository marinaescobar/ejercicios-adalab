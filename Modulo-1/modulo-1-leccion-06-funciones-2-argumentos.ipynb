{
 "cells": [
  {
   "cell_type": "markdown",
   "metadata": {},
   "source": [
    "1. Crea una función que tome un número arbitrario de cadenas de texto como argumentos y devuelva una cadena de texto que sea la concatenación de todas ellas. "
   ]
  },
  {
   "cell_type": "code",
   "execution_count": 15,
   "metadata": {},
   "outputs": [],
   "source": [
    "def concatenacion_cadenas (*args):\n",
    "\n",
    "    cadena_final = \"\"\n",
    "\n",
    "    for cadena in args:\n",
    "\n",
    "        cadena_final += cadena\n",
    "\n",
    "    return cadena_final"
   ]
  },
  {
   "cell_type": "code",
   "execution_count": 4,
   "metadata": {},
   "outputs": [
    {
     "name": "stdout",
     "output_type": "stream",
     "text": [
      "Esto es una prueba \n"
     ]
    }
   ],
   "source": [
    "cadena1 = \"Esto \"\n",
    "cadena2 =  \"es \"\n",
    "cadena3 = \"una \"\n",
    "cadena4 =\"prueba \"\n",
    "\n",
    "cadena_prueba = concatenacion_cadenas(cadena1, cadena2, cadena3, cadena4)\n",
    "print(cadena_prueba)"
   ]
  },
  {
   "cell_type": "markdown",
   "metadata": {},
   "source": [
    "2. Crea una función que tome un número arbitrario de argumentos y devuelva el producto de todos ellos."
   ]
  },
  {
   "cell_type": "code",
   "execution_count": 14,
   "metadata": {},
   "outputs": [],
   "source": [
    "def producto_numeros (*args):\n",
    "\n",
    "    producto = 1\n",
    "\n",
    "    for numero in args:\n",
    "\n",
    "        producto *= numero\n",
    "\n",
    "    return producto"
   ]
  },
  {
   "cell_type": "code",
   "execution_count": 9,
   "metadata": {},
   "outputs": [
    {
     "name": "stdout",
     "output_type": "stream",
     "text": [
      "El producto es 15120\n"
     ]
    }
   ],
   "source": [
    "producto = producto_numeros(5, 6, 7, 8 , 9)\n",
    "print(f\"El producto es {producto}\")"
   ]
  },
  {
   "cell_type": "markdown",
   "metadata": {},
   "source": [
    "3. Crea una función que tome un número arbitrario de diccionarios como argumentos y devuelva el valor mínimo entre todos los valores de los diccionarios."
   ]
  },
  {
   "cell_type": "code",
   "execution_count": 12,
   "metadata": {},
   "outputs": [],
   "source": [
    "def diccionario_min (**kwargs):\n",
    "\n",
    "    lista_values = []\n",
    "\n",
    "    for v in kwargs.values():\n",
    "\n",
    "        lista_values.append(v)\n",
    "\n",
    "    minimo = min(lista_values)\n",
    "\n",
    "    return minimo"
   ]
  },
  {
   "cell_type": "code",
   "execution_count": 13,
   "metadata": {},
   "outputs": [
    {
     "name": "stdout",
     "output_type": "stream",
     "text": [
      "El valor mínimo de los dos diccionarios es 1\n"
     ]
    }
   ],
   "source": [
    "diccionario1 = {\"peras\" : 1 , \"manzanas\" : 5 , \"uvas\" : 3}\n",
    "diccionario2 = {\"garbanzos\" : 10 , \"guisantes\" : 20}\n",
    "\n",
    "minimo = diccionario_min(**diccionario1 , **diccionario2)\n",
    "\n",
    "print(f\"El valor mínimo de los dos diccionarios es {minimo}\")"
   ]
  },
  {
   "cell_type": "markdown",
   "metadata": {},
   "source": [
    "4. Crea una función que tome un número arbitrario de listas y devuelva un diccionario donde las listas originales se combinan usando los índices como claves."
   ]
  },
  {
   "cell_type": "code",
   "execution_count": 31,
   "metadata": {},
   "outputs": [],
   "source": [
    "def combinar_listas(*args):\n",
    "\n",
    "    diccionario_combinado = {}\n",
    "\n",
    "    longitud_maxima = max(len(lista) for lista in args)\n",
    "\n",
    "    for i in range(longitud_maxima):\n",
    "\n",
    "        valores_combinados = []\n",
    "\n",
    "        for lista in args:\n",
    "\n",
    "            if i < len(lista):\n",
    "\n",
    "                valores_combinados.append(lista[i])\n",
    "                \n",
    "        diccionario_combinado[i] = valores_combinados\n",
    "\n",
    "    return diccionario_combinado"
   ]
  },
  {
   "cell_type": "code",
   "execution_count": 32,
   "metadata": {},
   "outputs": [
    {
     "name": "stdout",
     "output_type": "stream",
     "text": [
      "El diccionario combinado de ambas listas es: {0: [1, 'a'], 1: [2, 'b'], 2: [3, 'c'], 3: [4]}\n"
     ]
    }
   ],
   "source": [
    "lista1 = [1, 2, 3, 4]\n",
    "lista2 = [\"a\" , \"b\" , \"c\"]\n",
    "\n",
    "print(f\"El diccionario combinado de ambas listas es: {combinar_listas (lista1 , lista2)}\")"
   ]
  }
 ],
 "metadata": {
  "kernelspec": {
   "display_name": "base",
   "language": "python",
   "name": "python3"
  },
  "language_info": {
   "codemirror_mode": {
    "name": "ipython",
    "version": 3
   },
   "file_extension": ".py",
   "mimetype": "text/x-python",
   "name": "python",
   "nbconvert_exporter": "python",
   "pygments_lexer": "ipython3",
   "version": "3.9.7"
  }
 },
 "nbformat": 4,
 "nbformat_minor": 2
}
