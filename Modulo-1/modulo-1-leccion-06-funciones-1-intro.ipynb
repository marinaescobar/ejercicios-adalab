{
 "cells": [
  {
   "cell_type": "markdown",
   "metadata": {},
   "source": [
    "1. Escribe una función que reciba una cadena de texto como parámetro y devuelva un diccionario con las frecuencias de cada letra en la cadena. Los espacios no deben ser considerados. "
   ]
  },
  {
   "cell_type": "code",
   "execution_count": 6,
   "metadata": {},
   "outputs": [],
   "source": [
    "def contador_letras (cadena):\n",
    "\n",
    "    import string\n",
    "\n",
    "    diccionario = {}\n",
    "\n",
    "    for letra in cadena.lower():\n",
    "        \n",
    "        if letra in string.ascii_lowercase:\n",
    "            diccionario[letra] = cadena.lower().count(letra)\n",
    "    \n",
    "    return diccionario\n",
    "\n"
   ]
  },
  {
   "cell_type": "code",
   "execution_count": 8,
   "metadata": {},
   "outputs": [
    {
     "name": "stdout",
     "output_type": "stream",
     "text": [
      "Esta sería la frase: Estoy haciendo un ejercicio\n",
      "Y aquí el diccionario: {'e': 4, 's': 1, 't': 1, 'o': 3, 'y': 1, 'h': 1, 'a': 1, 'c': 3, 'i': 3, 'n': 2, 'd': 1, 'u': 1, 'j': 1, 'r': 1}\n"
     ]
    }
   ],
   "source": [
    "cadena_prueba = input(\"Escribe una frase\")\n",
    "\n",
    "print(f\"Esta sería la frase: {cadena_prueba}\")\n",
    "\n",
    "print(f\"Y aquí el diccionario: {contador_letras(cadena_prueba)}\")"
   ]
  },
  {
   "cell_type": "markdown",
   "metadata": {},
   "source": [
    "2. Escribe una función que reciba una cadena de texto como parámetro y devuelva una lista con todas las palabras que tienen más de 5 letras."
   ]
  },
  {
   "cell_type": "code",
   "execution_count": 9,
   "metadata": {},
   "outputs": [],
   "source": [
    "def palabras_mas_5 (cadena):\n",
    "\n",
    "    palabras = cadena.split()\n",
    "\n",
    "    palabras_largas = [palabra for palabra in palabras if len(palabra) > 5]\n",
    "\n",
    "    return palabras_largas"
   ]
  },
  {
   "cell_type": "code",
   "execution_count": 10,
   "metadata": {},
   "outputs": [
    {
     "name": "stdout",
     "output_type": "stream",
     "text": [
      "Esta sería la frase: Cada vez se va complicando más la situación\n",
      "Y aquí la lista de palabras con más de 5 letras: ['complicando', 'situación']\n"
     ]
    }
   ],
   "source": [
    "cadena_prueba2 = input(\"Escribe una frase\")\n",
    "\n",
    "print(f\"Esta sería la frase: {cadena_prueba2}\")\n",
    "\n",
    "print(f\"Y aquí la lista de palabras con más de 5 letras: {palabras_mas_5(cadena_prueba2)}\")"
   ]
  },
  {
   "cell_type": "markdown",
   "metadata": {},
   "source": [
    "3. Crea una función que tome una lista de palabras como entrada y devuelva una lista de palabras que contengan más de una vocal."
   ]
  },
  {
   "cell_type": "code",
   "execution_count": 11,
   "metadata": {},
   "outputs": [],
   "source": [
    "def mas_1_vocal (lista_palabras):\n",
    "\n",
    "    vocales = \"aeiou\"\n",
    "\n",
    "    lista_mas_vocales = []\n",
    "\n",
    "    for i in range(len(lista_palabras)):\n",
    "\n",
    "        contador_vocales = 0\n",
    "\n",
    "        for letra in lista_palabras[i]:\n",
    "\n",
    "            if letra in vocales:\n",
    "                contador_vocales += 1\n",
    "\n",
    "        if contador_vocales > 1:\n",
    "\n",
    "            lista_mas_vocales.append(lista_palabras[i])\n",
    "    \n",
    "    return lista_mas_vocales\n",
    "\n",
    "            "
   ]
  },
  {
   "cell_type": "code",
   "execution_count": 12,
   "metadata": {},
   "outputs": [
    {
     "name": "stdout",
     "output_type": "stream",
     "text": [
      "Esta sería la lista original: ['arroz', 'gas', 'aceite', 'pez', 'coco']\n",
      "Y aquí la lista de palabras con más de 1 vocal: ['arroz', 'aceite', 'coco']\n"
     ]
    }
   ],
   "source": [
    "lista_prueba_palabras = [\"arroz\" , \"gas\" , \"aceite\" , \"pez\" , \"coco\"] \n",
    "\n",
    "print(f\"Esta sería la lista original: {lista_prueba_palabras}\")\n",
    "\n",
    "print(f\"Y aquí la lista de palabras con más de 1 vocal: {mas_1_vocal(lista_prueba_palabras)}\")"
   ]
  },
  {
   "cell_type": "markdown",
   "metadata": {},
   "source": [
    "4. Crea una función que tome una lista de números y calcule la suma de todos los números pares en la lista."
   ]
  },
  {
   "cell_type": "code",
   "execution_count": 13,
   "metadata": {},
   "outputs": [],
   "source": [
    "def suma_pares (lista_numeros):\n",
    "\n",
    "    pares_sumados = 0\n",
    "\n",
    "    for numero in lista_numeros:\n",
    "\n",
    "        if numero % 2 == 0:\n",
    "            \n",
    "            pares_sumados += numero\n",
    "\n",
    "    return pares_sumados  "
   ]
  },
  {
   "cell_type": "code",
   "execution_count": 15,
   "metadata": {},
   "outputs": [
    {
     "name": "stdout",
     "output_type": "stream",
     "text": [
      "Esta sería la lista original: [1, 2, 3, 4, 5, 6, 7, 8, 9, 10]\n",
      "Y aquí la suma de los números pares de la lista: 30\n"
     ]
    }
   ],
   "source": [
    "lista_prueba_numeros = [1, 2, 3, 4, 5, 6, 7, 8, 9, 10] \n",
    "\n",
    "print(f\"Esta sería la lista original: {lista_prueba_numeros}\")\n",
    "\n",
    "print(f\"Y aquí la suma de los números pares de la lista: {suma_pares(lista_prueba_numeros)}\")"
   ]
  },
  {
   "cell_type": "markdown",
   "metadata": {},
   "source": [
    "5. Escribe una función que tome una lista de números como entrada y calcule el promedio de esos números."
   ]
  },
  {
   "cell_type": "code",
   "execution_count": 16,
   "metadata": {},
   "outputs": [],
   "source": [
    "def promedio_lista_num (lista_numeros):\n",
    "\n",
    "    num_sumados = 0\n",
    "\n",
    "    for numero in lista_numeros:\n",
    "\n",
    "        num_sumados += numero\n",
    "\n",
    "    promedio_final = num_sumados / len(lista_numeros)\n",
    "\n",
    "    return promedio_final  "
   ]
  },
  {
   "cell_type": "code",
   "execution_count": 18,
   "metadata": {},
   "outputs": [
    {
     "name": "stdout",
     "output_type": "stream",
     "text": [
      "Esta sería la lista original: [8, 5, 6, 3, 5]\n",
      "Y aquí el promedio según la lista: 5.4\n"
     ]
    }
   ],
   "source": [
    "lista_prueba_numeros2 = [8, 5, 6, 3, 5] \n",
    "\n",
    "print(f\"Esta sería la lista original: {lista_prueba_numeros2}\")\n",
    "\n",
    "print(f\"Y aquí el promedio según la lista: {promedio_lista_num(lista_prueba_numeros2)}\")"
   ]
  },
  {
   "cell_type": "markdown",
   "metadata": {},
   "source": [
    "6. Crea una función que determine el próximo año en el que las cifras del año de tu cumpleaños no se repitan. La función toma un año de tu cumpleaños como entrada y calcula el próximo año en el que las cifras no se repitan, es decir, todas las cifras en el año son diferentes entre sí."
   ]
  },
  {
   "cell_type": "code",
   "execution_count": 26,
   "metadata": {},
   "outputs": [],
   "source": [
    "def sin_cifras_rep (cumple):\n",
    "\n",
    "    for i in range (1,1000):\n",
    "\n",
    "        nuevo_anio = cumple + i\n",
    "\n",
    "        set1 = set(str(cumple)) # --Convierte el año a set para obtener los elementos únicos\n",
    "        set2 = set(str(nuevo_anio))\n",
    "\n",
    "        if not set1.intersection(set2): # --En el caso de que no haya intersección entre ambos sets significa que no tienen ningún elemento común\n",
    "            return nuevo_anio\n",
    "    "
   ]
  },
  {
   "cell_type": "code",
   "execution_count": 27,
   "metadata": {},
   "outputs": [
    {
     "name": "stdout",
     "output_type": "stream",
     "text": [
      "El año de mi cumpleaños es: 1993\n",
      "El siguiente año en el que ninguna cifra se repite es: 2000\n"
     ]
    }
   ],
   "source": [
    "anio_cumple = 1993\n",
    "\n",
    "print(f\"El año de mi cumpleaños es: {anio_cumple}\")\n",
    "print(f\"El siguiente año en el que ninguna cifra se repite es: {sin_cifras_rep(anio_cumple)}\")"
   ]
  },
  {
   "cell_type": "markdown",
   "metadata": {},
   "source": [
    "7. Crea una función que determine cuántos pasteles puedes hornear según una receta y los ingredientes disponibles. La función toma dos diccionarios como entrada: receta, que contiene los ingredientes necesarios para un pastel, y disponible, que contiene la cantidad disponible de cada ingrediente. Sus parámetros de entrada son: \n",
    "\n",
    "    - receta: Un diccionario que representa los ingredientes necesarios para un pastel, donde las claves son los nombres de los ingredientes y los valores son las cantidades necesarias de cada ingrediente.\n",
    "\n",
    "    - disponible: Un diccionario que representa la cantidad disponible de cada ingrediente, donde las claves son los nombres de los ingredientes y los valores son las cantidades disponibles.\n",
    "\n",
    "    ```python\n",
    "    receta1 = {'flour': 500, 'sugar': 200, 'eggs': 1}\n",
    "    ingredientes1 = {'flour': 1200, 'sugar': 1200, 'eggs': 5, 'milk': 200}\n",
    "\n",
    "    pasteles(receta1, ingredientes1)    \n",
    "    # output: con estos ingredientes solo puedo hacer 2 bizcochos\n",
    "    ```"
   ]
  },
  {
   "cell_type": "code",
   "execution_count": 64,
   "metadata": {},
   "outputs": [],
   "source": [
    "def pasteles_disp(receta, ingredientes):\n",
    "\n",
    "    pasteles = []\n",
    "\n",
    "    for ingrediente, cantidad in receta.items():\n",
    "\n",
    "        if ingrediente in ingredientes:\n",
    "\n",
    "            cantidad_posible = ingredientes[ingrediente] // cantidad\n",
    "\n",
    "            pasteles.append(cantidad_posible) # --Guarda en la lista todas las cantidades posibles de pasteles que se pueden hacer\n",
    "\n",
    "    pasteles_posibles = min(pasteles) # --De la lista de posibles pasteles que se pueden hacer según ingredientes, escoge la opción mínima\n",
    "\n",
    "    return pasteles_posibles"
   ]
  },
  {
   "cell_type": "code",
   "execution_count": 65,
   "metadata": {},
   "outputs": [
    {
     "name": "stdout",
     "output_type": "stream",
     "text": [
      "Con los datos proporcionados, podemos hacer un total de 2 pasteles\n"
     ]
    }
   ],
   "source": [
    "receta1 = {'flour': 500, 'sugar': 200, 'eggs': 1}\n",
    "ingredientes1 = {'flour': 1200, 'sugar': 1200, 'eggs': 5, 'milk': 200}\n",
    "\n",
    "print(f\"Con los datos proporcionados, podemos hacer un total de {pasteles_disp(receta1 , ingredientes1)} pasteles\")"
   ]
  }
 ],
 "metadata": {
  "kernelspec": {
   "display_name": "base",
   "language": "python",
   "name": "python3"
  },
  "language_info": {
   "codemirror_mode": {
    "name": "ipython",
    "version": 3
   },
   "file_extension": ".py",
   "mimetype": "text/x-python",
   "name": "python",
   "nbconvert_exporter": "python",
   "pygments_lexer": "ipython3",
   "version": "3.9.7"
  }
 },
 "nbformat": 4,
 "nbformat_minor": 2
}
