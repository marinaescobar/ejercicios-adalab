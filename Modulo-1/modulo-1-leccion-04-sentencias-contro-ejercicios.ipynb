{
 "cells": [
  {
   "cell_type": "markdown",
   "metadata": {},
   "source": [
    "1. Crea las siguientes variables:\n",
    "\n",
    "  - `var1` sea un número con el valor `8`.\n",
    "\n",
    "  - `var2` sea un número con el valor `2`.\n",
    "\n",
    "  - `var3` sea un número con el valor `8`."
   ]
  },
  {
   "cell_type": "code",
   "execution_count": 6,
   "metadata": {},
   "outputs": [],
   "source": [
    "var1 = 8\n",
    "var2 = 2\n",
    "var3 = 8"
   ]
  },
  {
   "cell_type": "markdown",
   "metadata": {},
   "source": [
    "2. Comprueba si `var1` es mayor que 6, y si es así imprime `¡Es enorme!`."
   ]
  },
  {
   "cell_type": "code",
   "execution_count": 8,
   "metadata": {},
   "outputs": [
    {
     "name": "stdout",
     "output_type": "stream",
     "text": [
      "¡Es enorme!\n"
     ]
    }
   ],
   "source": [
    "if var1 > 6:\n",
    "    print(\"¡Es enorme!\")"
   ]
  },
  {
   "cell_type": "markdown",
   "metadata": {},
   "source": [
    "3. Comprueba si `var2` es mayor que 6, y si es así imprime `¡Es enorme también!`."
   ]
  },
  {
   "cell_type": "code",
   "execution_count": 11,
   "metadata": {},
   "outputs": [],
   "source": [
    "if var2 > 6:\n",
    "    print(\"¡Es enorme también!\")"
   ]
  },
  {
   "cell_type": "markdown",
   "metadata": {},
   "source": [
    "4. Comprueba si `var3` es mayor que 6, y si es así imprime `¡Es enorme!` seguido por `¡Pero de verdad!` en otra línea (deberéis tener dos *print*)."
   ]
  },
  {
   "cell_type": "code",
   "execution_count": 12,
   "metadata": {},
   "outputs": [
    {
     "name": "stdout",
     "output_type": "stream",
     "text": [
      "¡Es enorme!\n",
      "¡Pero de verdad!\n"
     ]
    }
   ],
   "source": [
    "if var3 > 6:\n",
    "    print(\"¡Es enorme!\")\n",
    "    print(\"¡Pero de verdad!\")"
   ]
  },
  {
   "cell_type": "markdown",
   "metadata": {},
   "source": [
    "5. Comprueba si `var1` es igual que `var3`, y si es así imprime `Son iguales.`."
   ]
  },
  {
   "cell_type": "code",
   "execution_count": 13,
   "metadata": {},
   "outputs": [
    {
     "name": "stdout",
     "output_type": "stream",
     "text": [
      "Son iguales\n"
     ]
    }
   ],
   "source": [
    "if var1 == var3:\n",
    "    print(\"Son iguales\")"
   ]
  },
  {
   "cell_type": "markdown",
   "metadata": {},
   "source": [
    "6. Comprueba si `var1` es igual que `var2`, y si es así imprime `Son iguales.`"
   ]
  },
  {
   "cell_type": "code",
   "execution_count": 14,
   "metadata": {},
   "outputs": [],
   "source": [
    "if var1 == var2:\n",
    "    print(\"Son iguales\")"
   ]
  },
  {
   "cell_type": "markdown",
   "metadata": {},
   "source": [
    "7. Comprueba si `var1` es mayor o igual que `var2`, y si es así calcula la diferencia entre `var1` y `var2`, guardala en la variable `dif`, e imprime `'La diferencia es',dif`. "
   ]
  },
  {
   "cell_type": "code",
   "execution_count": 16,
   "metadata": {},
   "outputs": [
    {
     "name": "stdout",
     "output_type": "stream",
     "text": [
      "La diferencia es 6\n"
     ]
    }
   ],
   "source": [
    "if var1 >= var2:\n",
    "    dif = var1 - var2\n",
    "    print(\"La diferencia es\", dif)"
   ]
  },
  {
   "cell_type": "markdown",
   "metadata": {},
   "source": [
    "8. Comprueba si `var1` es mayor que 6, y si es así imprime `¡Es enorme!`. Si no es así imprime `Es chiquitín.`."
   ]
  },
  {
   "cell_type": "code",
   "execution_count": 17,
   "metadata": {},
   "outputs": [
    {
     "name": "stdout",
     "output_type": "stream",
     "text": [
      "¡Es enorme!\n"
     ]
    }
   ],
   "source": [
    "if var1 > 6:\n",
    "    print(\"¡Es enorme!\")\n",
    "else:\n",
    "    print(\"Es chiquitín\")"
   ]
  },
  {
   "cell_type": "markdown",
   "metadata": {},
   "source": [
    "9. Comprueba si `var2` es mayor que 6, y si es así imprime `¡Es enorme también!`. Si no es así imprime `Es chiquitín también.`."
   ]
  },
  {
   "cell_type": "code",
   "execution_count": 18,
   "metadata": {},
   "outputs": [
    {
     "name": "stdout",
     "output_type": "stream",
     "text": [
      "Es chiquitín también\n"
     ]
    }
   ],
   "source": [
    "if var2 > 6:\n",
    "    print(\"¡Es enorme también!\")\n",
    "else:\n",
    "    print(\"Es chiquitín también\")"
   ]
  },
  {
   "cell_type": "markdown",
   "metadata": {},
   "source": [
    "10. Comprueba si `var1` es igual a `var3`, y si es así imprime `Son iguales.` Si no es así imprime `Son distintos.`"
   ]
  },
  {
   "cell_type": "code",
   "execution_count": 19,
   "metadata": {},
   "outputs": [
    {
     "name": "stdout",
     "output_type": "stream",
     "text": [
      "Son iguales\n"
     ]
    }
   ],
   "source": [
    "if var1 == var3:\n",
    "    print(\"Son iguales\")\n",
    "else:\n",
    "    print(\"Son distintos\")"
   ]
  },
  {
   "cell_type": "markdown",
   "metadata": {},
   "source": [
    "11. Escribe un programa para una empresa que tiene salas de juegos para todas las edades y quiere calcular de forma automática el precio que debe cobrar a sus clientes por entrar. El programa debe preguntar al usuario:\n",
    "\n",
    "    - La edad del cliente. \n",
    "    - Las condiciones que tendremos que chequear: \n",
    "\n",
    "      - Si el cliente es menor de 4 años puede entrar gratis, \n",
    "\n",
    "      - Si tiene entre 4 y 18 años debe pagar 5€ y \n",
    "\n",
    "      - Si es mayor de 18 años, 10€."
   ]
  },
  {
   "cell_type": "code",
   "execution_count": 31,
   "metadata": {},
   "outputs": [
    {
     "name": "stdout",
     "output_type": "stream",
     "text": [
      "Edad: 12\n",
      "El precio de tu entrada es de 5€\n"
     ]
    }
   ],
   "source": [
    "edad = input(\"¿Cuántos años tienes?\")\n",
    "\n",
    "print(\"Edad:\", edad)\n",
    "\n",
    "if int(edad) >= 18:\n",
    "    print(\"El precio de tu entrada es de 10€\")\n",
    "\n",
    "elif 4 < int(edad) < 18:\n",
    "    print(\"El precio de tu entrada es de 5€\")\n",
    "\n",
    "else:\n",
    "    print(\"Puedes entrar gratis\")\n"
   ]
  },
  {
   "cell_type": "markdown",
   "metadata": {},
   "source": [
    "12. Inicia la varible `ahorros` con un valor de `5`. Crea un bucle while que mientras los ahorros sean igual o menor que `20` imprima por pantalla la cantidad de ahorros que tenemos, y añádele `5` más. Cuando la variable ahorros supere el valor de 20 el bucle deberá parar. "
   ]
  },
  {
   "cell_type": "code",
   "execution_count": 33,
   "metadata": {},
   "outputs": [
    {
     "name": "stdout",
     "output_type": "stream",
     "text": [
      "Mis ahorros son: 5\n",
      "Mis ahorros son: 10\n",
      "Mis ahorros son: 15\n",
      "Mis ahorros son: 20\n"
     ]
    }
   ],
   "source": [
    "ahorros = 5\n",
    "\n",
    "while ahorros <= 20:\n",
    "    print(\"Mis ahorros son:\", ahorros)\n",
    "    ahorros += 5"
   ]
  },
  {
   "cell_type": "markdown",
   "metadata": {},
   "source": [
    "13. Escribe un programa que convierta grados Celsius a grados Fahrenheit o viceversa, según la elección del usuario. Para eso tendrás que preguntar: \n",
    "\n",
    "  - Desde que unidades va a convertir la temperatura, Celsius o Fahrenheit. \n",
    "\n",
    "  - Cuál es valor de la temperatura que quiere convertir. "
   ]
  },
  {
   "cell_type": "code",
   "execution_count": 147,
   "metadata": {},
   "outputs": [
    {
     "name": "stdout",
     "output_type": "stream",
     "text": [
      "El equivalente a 35.0 ºC son 95.0 ºF\n"
     ]
    }
   ],
   "source": [
    "## Establecer los inputs a tener en cuenta:\n",
    "temperatura = float(input(\"¿Cuál es el valor de temperatura?\"))\n",
    "unidad_inicial = input(\"¿En qué unidad está? ¿Celsius o Fahrenheit?\").lower()\n",
    "\n",
    "## Condicionales:\n",
    "## Conversión de grados fahrenheit a celsius:\n",
    "if unidad_inicial == \"fahrenheit\":\n",
    "    print(\"El equivalente a\" , temperatura , \"ºF son\" , round((temperatura - 32) * 5/9, 2) , \"ºC\")\n",
    "    \n",
    "\n",
    "## Conversión de grados celsius a fahrenheit:\n",
    "elif unidad_inicial == \"celsius\":\n",
    "     print(\"El equivalente a\" , temperatura , \"ºC son\" , round((temperatura * 9/5 + 32), 2) , \"ºF\")\n",
    "\n",
    "## Otros:\n",
    "else:\n",
    "    print(\"Esos datos no son válidos. Intenta de nuevo, por ejemplo con Celsius y Fahrenheit\")\n",
    "\n",
    "\n"
   ]
  },
  {
   "cell_type": "markdown",
   "metadata": {},
   "source": [
    "14.  Crea un programa que calcule el impuesto sobre la renta de una persona basado en su ingreso anual y su estado civil (soltero o casado). Para eso deberás: \n",
    "\n",
    "  - Solicitar al usuario su ingreso anual.\n",
    "\n",
    "  - Preguntar al usuario su estado civil, permitiendo dos opciones: \"soltero\" (S) o \"casado\" (C).\n",
    "\n",
    "  - Calcular el impuesto sobre la renta utilizando las siguientes reglas:\n",
    "\n",
    "    - Si el estado civil es \"soltero\" (S):\n",
    "\n",
    "      - Si el ingreso anual es menor o igual a $9,875, el impuesto es el 10% del ingreso anual.\n",
    "\n",
    "      - Si el ingreso anual está entre $9,876 y $40,125, el impuesto es el 10% de los primeros $9,875 más el 12% de la cantidad que excede los $9,875.\n",
    "     \n",
    "\n",
    "    - Si el estado civil es \"casado\" (C):\n",
    "    \n",
    "      - Si el ingreso anual es menor o igual a $19,850, el impuesto es el 10% del ingreso anual.\n",
    "\n",
    "      - Si el ingreso anual está entre $19,851 y $80,250, el impuesto es el 10% de los primeros $19,850 más el 12% de la cantidad que excede los $19,850."
   ]
  },
  {
   "cell_type": "code",
   "execution_count": 148,
   "metadata": {},
   "outputs": [
    {
     "name": "stdout",
     "output_type": "stream",
     "text": [
      "Teniendo en cuenta tu estado civil ( S ) y tus ingresos anuales 15800.0 € :\n",
      "Tu impuesto de la renta es de 1698.48 €\n"
     ]
    }
   ],
   "source": [
    "## Establecer los inputs a tener en cuenta:\n",
    "estado_civil = input(\"Indica tu estado civil: S para soltero/a o C para casado/a\").lower()\n",
    "ingresos_anuales = float(input(\"Indica tus ingresos anuales. Utiliza . sólo para los decimales\"))\n",
    "\n",
    "## Condicionales:\n",
    "\n",
    "## Si el usuario es soltero:\n",
    "if estado_civil == \"s\": \n",
    "    if ingresos_anuales <= 9875:\n",
    "        print(\"Teniendo en cuenta tu estado civil (\" , estado_civil.upper() , \") y tus ingresos anuales\", ingresos_anuales , \"€ :\")\n",
    "        print(\"Tu impuesto de la renta es de\", round(ingresos_anuales * 0.1, 2) , \"€\")\n",
    "\n",
    "    elif 9876 < ingresos_anuales < 40125:\n",
    "        print(\"Teniendo en cuenta tu estado civil (\" , estado_civil.upper() , \") y tus ingresos anuales\", ingresos_anuales , \"€ :\")\n",
    "        print(\"Tu impuesto de la renta es de\", round((9876 * 0.1 + (ingresos_anuales - 9876) * 0.12), 2), \"€\")\n",
    "\n",
    "## Si el usuario está casado:\n",
    "elif estado_civil == \"c\": \n",
    "    if ingresos_anuales <= 19850:\n",
    "        print(\"Teniendo en cuenta tu estado civil (\" , estado_civil.upper() , \") y tus ingresos anuales\", ingresos_anuales , \"€ :\")\n",
    "        print(\"Tu impuesto de la renta es de\", round(ingresos_anuales * 0.1, 2) , \"€\")\n",
    "    \n",
    "    elif 19850 < ingresos_anuales < 80250:\n",
    "        print(\"Teniendo en cuenta tu estado civil (\" , estado_civil.upper() , \") y tus ingresos anuales\", ingresos_anuales , \"€ :\")\n",
    "        print(\"Tu impuesto de la renta es de\", round((19850 * 0.1 + (ingresos_anuales - 19850) * 0.12),2) , \"€\")\n",
    "\n",
    "## Resto de casos:\n",
    "else:\n",
    "    print(\"Lo sentimos. Con los datos que has proporcionado no podemos calcular tu impuesto de la renta\")"
   ]
  },
  {
   "cell_type": "markdown",
   "metadata": {},
   "source": [
    "15. Crea un programa que evalúe el nivel de contaminación del aire en función de la concentración de partículas en suspensión (PM2.5) en microgramos por metro cúbico (µg/m³). Para eso deberás: \n",
    "\n",
    "  - Solicita al usuario que ingrese la concentración de PM2.5 en el aire en µg/m³. El usuario debe ingresar un valor numérico.\n",
    "\n",
    "  - Evalua el nivel de contaminación del aire según la siguiente escala:\n",
    "\n",
    "    - Si la concentración de PM2.5 es menor o igual a 12 µg/m³, el aire se considera \"Excelente\".\n",
    "\n",
    "    - Si la concentración de PM2.5 está entre 13 µg/m³ y 35 µg/m³, el aire se considera \"Bueno\".\n",
    "\n",
    "    - Si la concentración de PM2.5 está entre 36 µg/m³ y 55 µg/m³, el aire se considera \"Aceptable\".\n",
    "\n",
    "    - Si la concentración de PM2.5 está entre 56 µg/m³ y 150 µg/m³, el aire se considera \"No Saludable para Grupos Sensibles\".\n",
    "\n",
    "    - Si la concentración de PM2.5 es mayor a 150 µg/m³, el aire se considera \"No Saludable\".\n",
    "\n",
    "  - Muestra un mensaje indicando el estado de la calidad del aire. Por ejemplo, si la concentración de PM2.5 es 25 µg/m³, el programa debe mostrar: \"La calidad del aire es Buena\".\n",
    "\n",
    "  -  Además, si la concentración de PM2.5 está en la categoría \"No Saludable para Grupos Sensibles\" o \"No Saludable\", el programa debe advertir al usuario sobre los posibles efectos en la salud.\n",
    "\n",
    "  - Si la concentración ingresada por el usuario es negativa o no es un número válido, el programa debe mostrar un mensaje de error."
   ]
  },
  {
   "cell_type": "code",
   "execution_count": 157,
   "metadata": {},
   "outputs": [
    {
     "name": "stdout",
     "output_type": "stream",
     "text": [
      "La calidad del aire es excelente\n"
     ]
    }
   ],
   "source": [
    "## Establecer los inputs a tener en cuenta:\n",
    "particulas = input(\"Indica el valor de concentración de partículas en suspensión usando µg/m³ como referencia\")\n",
    "\n",
    "## Bucle para revisar si el dato introducido es numérico:\n",
    "while not particulas.isdigit():\n",
    "\n",
    "    ## Pedimos al usuario que introduzca un valor correcto\n",
    "    print(\"Por favor, introduce un dato correcto. Recuerda que sólo se admiten valores numéricos positivos\")\n",
    "    particulas = input(\"Indica el valor de concentración de partículas en suspensión usando µg/m³ como referencia\")\n",
    "\n",
    "## Convertimos el dato en integer: \n",
    "particulas = int(particulas)\n",
    "\n",
    "## Condicionales:\n",
    "if particulas > 150:\n",
    "    print(\"La calidad del aire se considera no saludable\")\n",
    "    print(\"Advertencia: La exposición a altos niveles de contaminación del aire puede aumentar el riesgo de padecer infecciones respiratorias, enfermedades cardíacas, derrames cerebrales y cáncer de pulmón\")\n",
    "\n",
    "elif 56 < particulas < 150:\n",
    "    print(\"La calidad del aire se considera no saludable para grupos sensibles\")\n",
    "    print(\"Advertencia: La exposición a altos niveles de contaminación del aire puede: aumentar el riesgo de padecer infecciones respiratorias, enfermedades cardíacas, derrames cerebrales y cáncer de pulmón\")\n",
    "\n",
    "elif 36 < particulas < 55:\n",
    "    print(\"La calidad del aire es aceptable\")\n",
    "\n",
    "elif 13 < particulas < 35:\n",
    "    print(\"La calidad del aire es buena\")\n",
    "\n",
    "else:\n",
    "    print(\"La calidad del aire es excelente\")"
   ]
  }
 ],
 "metadata": {
  "kernelspec": {
   "display_name": "adalabenv",
   "language": "python",
   "name": "python3"
  },
  "language_info": {
   "codemirror_mode": {
    "name": "ipython",
    "version": 3
   },
   "file_extension": ".py",
   "mimetype": "text/x-python",
   "name": "python",
   "nbconvert_exporter": "python",
   "pygments_lexer": "ipython3",
   "version": "3.9.7"
  }
 },
 "nbformat": 4,
 "nbformat_minor": 2
}
