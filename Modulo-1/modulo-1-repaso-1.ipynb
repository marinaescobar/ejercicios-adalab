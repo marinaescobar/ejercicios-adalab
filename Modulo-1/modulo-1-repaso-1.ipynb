{
 "cells": [
  {
   "cell_type": "markdown",
   "metadata": {},
   "source": [
    "## Sesión de Repaso (listas, tuplas, sets, diccionarios y sentencias de control)"
   ]
  },
  {
   "cell_type": "markdown",
   "metadata": {},
   "source": [
    "### Listas"
   ]
  },
  {
   "cell_type": "markdown",
   "metadata": {},
   "source": [
    "1. Crear una lista: Crea una lista con cinco colores diferentes.\n"
   ]
  },
  {
   "cell_type": "code",
   "execution_count": 1,
   "metadata": {},
   "outputs": [],
   "source": [
    "\n",
    "colores = [\"verde\" , \"lila\" , \"rosa\" , \"blanco\" , \"negro\"]"
   ]
  },
  {
   "cell_type": "markdown",
   "metadata": {},
   "source": [
    "2. Acceder a elementos: Accede al tercer elemento de la lista de colores."
   ]
  },
  {
   "cell_type": "code",
   "execution_count": 2,
   "metadata": {},
   "outputs": [
    {
     "data": {
      "text/plain": [
       "'rosa'"
      ]
     },
     "execution_count": 2,
     "metadata": {},
     "output_type": "execute_result"
    }
   ],
   "source": [
    "colores[2]"
   ]
  },
  {
   "cell_type": "markdown",
   "metadata": {},
   "source": [
    "3. Modificar elementos: Cambia el segundo color de la lista por otro de tu elección."
   ]
  },
  {
   "cell_type": "code",
   "execution_count": 3,
   "metadata": {},
   "outputs": [],
   "source": [
    "colores[1] = \"violeta\""
   ]
  },
  {
   "cell_type": "markdown",
   "metadata": {},
   "source": [
    "4. Agregar elementos: Agrega dos colores nuevos a la lista."
   ]
  },
  {
   "cell_type": "code",
   "execution_count": 4,
   "metadata": {},
   "outputs": [
    {
     "data": {
      "text/plain": [
       "['verde', 'violeta', 'rosa', 'blanco', 'negro', 'carmín', 'celeste']"
      ]
     },
     "execution_count": 4,
     "metadata": {},
     "output_type": "execute_result"
    }
   ],
   "source": [
    "nuevos_colores = (\"carmín\" , \"celeste\")\n",
    "\n",
    "colores.extend(nuevos_colores)\n",
    "\n",
    "colores"
   ]
  },
  {
   "cell_type": "markdown",
   "metadata": {},
   "source": [
    "5. Eliminar elementos: Elimina el cuarto color de la lista."
   ]
  },
  {
   "cell_type": "code",
   "execution_count": 5,
   "metadata": {},
   "outputs": [],
   "source": [
    "colores.remove(colores[3])"
   ]
  },
  {
   "cell_type": "markdown",
   "metadata": {},
   "source": [
    "6. Longitud de la lista: Encuentra la longitud de la lista de colores."
   ]
  },
  {
   "cell_type": "code",
   "execution_count": 6,
   "metadata": {},
   "outputs": [
    {
     "data": {
      "text/plain": [
       "6"
      ]
     },
     "execution_count": 6,
     "metadata": {},
     "output_type": "execute_result"
    }
   ],
   "source": [
    "len(colores)"
   ]
  },
  {
   "cell_type": "markdown",
   "metadata": {},
   "source": [
    "7. Ordenar la lista: Ordena la lista de colores en orden alfabético."
   ]
  },
  {
   "cell_type": "code",
   "execution_count": 7,
   "metadata": {},
   "outputs": [],
   "source": [
    "colores = colores.sort()"
   ]
  },
  {
   "cell_type": "markdown",
   "metadata": {},
   "source": [
    "8. Listas anidadas: Crea una lista de dos sublistas, cada una con tres nombres de frutas."
   ]
  },
  {
   "cell_type": "code",
   "execution_count": 8,
   "metadata": {},
   "outputs": [],
   "source": [
    "frutas1 = [\"manzanas\" , \"peras\" , \"kiwis\"] \n",
    "frutas2 = [\"melocotones\" , \"sandías\" , \"fresas\"]\n",
    "\n",
    "frutas = [frutas1 , frutas2]"
   ]
  },
  {
   "cell_type": "markdown",
   "metadata": {},
   "source": [
    "9. Concatenar listas: Concatena las dos sublistas en una sola lista de frutas."
   ]
  },
  {
   "cell_type": "code",
   "execution_count": 9,
   "metadata": {},
   "outputs": [],
   "source": [
    "frutas_c = frutas1 + frutas2"
   ]
  },
  {
   "cell_type": "markdown",
   "metadata": {},
   "source": [
    "10. Repetir elementos: Repite la lista de frutas tres veces para obtener una lista más larga."
   ]
  },
  {
   "cell_type": "code",
   "execution_count": 10,
   "metadata": {},
   "outputs": [],
   "source": [
    "frutas_gigante = [frutas_c] * 3"
   ]
  },
  {
   "cell_type": "markdown",
   "metadata": {},
   "source": [
    "11. Acceder a la primera lista de frutas: Crea una variable llamada primera_lista y asigna la primera lista de frutas a esta variable."
   ]
  },
  {
   "cell_type": "code",
   "execution_count": 11,
   "metadata": {},
   "outputs": [],
   "source": [
    "primera_lista = frutas_gigante[0]"
   ]
  },
  {
   "cell_type": "markdown",
   "metadata": {},
   "source": [
    "12. Acceder a la segunda lista de frutas: Crea una variable llamada segunda_lista y asigna la segunda lista de frutas a esta variable."
   ]
  },
  {
   "cell_type": "code",
   "execution_count": 12,
   "metadata": {},
   "outputs": [],
   "source": [
    "segunda_lista = frutas_gigante[1]"
   ]
  },
  {
   "cell_type": "markdown",
   "metadata": {},
   "source": [
    "13. Acceder a la primera fruta de la primera lista: Crea una variable llamada primera_fruta y asigna la primera fruta de la primera lista de frutas a esta variable."
   ]
  },
  {
   "cell_type": "code",
   "execution_count": 13,
   "metadata": {},
   "outputs": [],
   "source": [
    "primera_fruta = primera_lista[0]"
   ]
  },
  {
   "cell_type": "markdown",
   "metadata": {},
   "source": [
    "14. Acceder a la última fruta de la segunda lista: Crea una variable llamada ultima_fruta y asigna la última fruta de la segunda lista de frutas a esta variable."
   ]
  },
  {
   "cell_type": "code",
   "execution_count": 14,
   "metadata": {},
   "outputs": [],
   "source": [
    "ultima_fruta = segunda_lista[-1]"
   ]
  },
  {
   "cell_type": "markdown",
   "metadata": {},
   "source": [
    "15. Acceder a la segunda fruta de la primera lista: Crea una variable llamada segunda_fruta y asigna la segunda fruta de la primera lista de frutas a esta variable."
   ]
  },
  {
   "cell_type": "code",
   "execution_count": 15,
   "metadata": {},
   "outputs": [],
   "source": [
    "segunda_fruta = primera_lista[1]"
   ]
  },
  {
   "cell_type": "markdown",
   "metadata": {},
   "source": [
    "16. Acceder a la última fruta de la primera lista: Crea una variable llamada ultima_fruta_primera_lista y asigna la última fruta de la primera lista de frutas a esta variable."
   ]
  },
  {
   "cell_type": "code",
   "execution_count": 16,
   "metadata": {},
   "outputs": [],
   "source": [
    "ultima_fruta_primera_lista = primera_lista[-1]"
   ]
  },
  {
   "cell_type": "markdown",
   "metadata": {},
   "source": [
    "17. Acceder a la longitud de la segunda lista de frutas: Crea una variable llamada longitud_segunda_lista y asigna la longitud (número de elementos) de la segunda lista de frutas a esta variable."
   ]
  },
  {
   "cell_type": "code",
   "execution_count": 17,
   "metadata": {},
   "outputs": [],
   "source": [
    "longitud_segunda_lista = len(segunda_lista)"
   ]
  },
  {
   "cell_type": "markdown",
   "metadata": {},
   "source": [
    "18. Acceder a una porción de la segunda lista (slicing): Crea una variable llamada porcion_segunda_lista y asigna los dos primeros elementos de la segunda lista de frutas a esta variable utilizando el slicing."
   ]
  },
  {
   "cell_type": "code",
   "execution_count": 18,
   "metadata": {},
   "outputs": [],
   "source": [
    "porcion_segunda_lista = segunda_lista[:2]"
   ]
  },
  {
   "cell_type": "markdown",
   "metadata": {},
   "source": [
    "19. Cambiar la segunda fruta de la segunda lista: Cambia la segunda fruta de la segunda lista de frutas a \"ciruela\"."
   ]
  },
  {
   "cell_type": "code",
   "execution_count": 32,
   "metadata": {},
   "outputs": [],
   "source": [
    "segunda_lista[1] = \"ciruelas\""
   ]
  },
  {
   "cell_type": "markdown",
   "metadata": {},
   "source": [
    "20. Agregar una nueva fruta a la primera lista: Agrega una nueva fruta, \"kiwi\", a la primera lista de frutas."
   ]
  },
  {
   "cell_type": "code",
   "execution_count": 33,
   "metadata": {},
   "outputs": [],
   "source": [
    "primera_lista.append(\"kiwi\")"
   ]
  },
  {
   "cell_type": "markdown",
   "metadata": {},
   "source": [
    "### Tuplas"
   ]
  },
  {
   "cell_type": "markdown",
   "metadata": {},
   "source": [
    "1. Crear una tupla: Crea una tupla llamada mi_tupla con algunos elementos de tu elección."
   ]
  },
  {
   "cell_type": "code",
   "execution_count": 39,
   "metadata": {},
   "outputs": [],
   "source": [
    "mi_tupla = (\"tomates\" , \"lechugas\" , \"cebolla\" , \"maiz\" , \"sal\" , \"aceite\" , \"vinagre\")"
   ]
  },
  {
   "cell_type": "markdown",
   "metadata": {},
   "source": [
    "2. Acceder al primer elemento: Accede al primer elemento de mi_tupla y guárdalo en una variable llamada primer_elemento."
   ]
  },
  {
   "cell_type": "code",
   "execution_count": 40,
   "metadata": {},
   "outputs": [],
   "source": [
    "primer_elemento = mi_tupla[0]"
   ]
  },
  {
   "cell_type": "markdown",
   "metadata": {},
   "source": [
    "3. Acceder al último elemento: Accede al último elemento de mi_tupla y guárdalo en una variable llamada ultimo_elemento."
   ]
  },
  {
   "cell_type": "code",
   "execution_count": 41,
   "metadata": {},
   "outputs": [],
   "source": [
    "ultimo_elemento = mi_tupla[-1]"
   ]
  },
  {
   "cell_type": "markdown",
   "metadata": {},
   "source": [
    "4. Acceder a un rango de elementos: Utilizando el slicing, crea una nueva tupla llamada sub_tupla que contenga los elementos desde el segundo hasta el cuarto de mi_tupla."
   ]
  },
  {
   "cell_type": "code",
   "execution_count": 49,
   "metadata": {},
   "outputs": [],
   "source": [
    "sub_tupla = mi_tupla[1:4]"
   ]
  },
  {
   "cell_type": "markdown",
   "metadata": {},
   "source": [
    "5. Concatenar dos tuplas: Crea otra tupla llamada otra_tupla y concaténala con mi_tupla para formar una nueva tupla llamada tupla_concatenada."
   ]
  },
  {
   "cell_type": "code",
   "execution_count": 52,
   "metadata": {},
   "outputs": [],
   "source": [
    "otra_tupla = (\"arroz\" , \"parmesano\" , \"mantequilla\" , \"setas\")\n",
    "\n",
    "tupla_concatenada = mi_tupla + otra_tupla"
   ]
  },
  {
   "cell_type": "markdown",
   "metadata": {},
   "source": [
    "6. Encontrar la longitud: Encuentra la longitud de tupla_concatenada y guárdala en una variable llamada longitud."
   ]
  },
  {
   "cell_type": "code",
   "execution_count": 53,
   "metadata": {},
   "outputs": [],
   "source": [
    "longitud = len(tupla_concatenada)"
   ]
  },
  {
   "cell_type": "markdown",
   "metadata": {},
   "source": [
    "7. Buscar un elemento: Verifica si un elemento específico está presente en mi_tupla, por ejemplo, \"manzana\"."
   ]
  },
  {
   "cell_type": "code",
   "execution_count": 54,
   "metadata": {},
   "outputs": [
    {
     "data": {
      "text/plain": [
       "False"
      ]
     },
     "execution_count": 54,
     "metadata": {},
     "output_type": "execute_result"
    }
   ],
   "source": [
    "\"manzana\" in mi_tupla"
   ]
  },
  {
   "cell_type": "markdown",
   "metadata": {},
   "source": [
    "8. Contar elementos: Cuenta cuántas veces aparece un elemento específico en mi_tupla, por ejemplo, cuántas veces aparece \"pera\"."
   ]
  },
  {
   "cell_type": "code",
   "execution_count": 55,
   "metadata": {},
   "outputs": [
    {
     "data": {
      "text/plain": [
       "0"
      ]
     },
     "execution_count": 55,
     "metadata": {},
     "output_type": "execute_result"
    }
   ],
   "source": [
    "mi_tupla.count(\"pera\")"
   ]
  },
  {
   "cell_type": "markdown",
   "metadata": {},
   "source": [
    "9. Desempaquetar una tupla: Si tienes una tupla de nombres (nombre, apellido), desempaqueta los valores en dos variables separadas."
   ]
  },
  {
   "cell_type": "code",
   "execution_count": 65,
   "metadata": {},
   "outputs": [],
   "source": [
    "tupla_nombre = (\"marina\" , \"escobar\" , \"perez\")\n",
    "\n",
    "nombre , apellido1 , apellido2 = tupla_nombre"
   ]
  },
  {
   "cell_type": "markdown",
   "metadata": {},
   "source": [
    "10. Convertir una lista en tupla: Crea una lista de números y conviértela en una tupla llamada tupla_desde_lista."
   ]
  },
  {
   "cell_type": "code",
   "execution_count": 66,
   "metadata": {},
   "outputs": [],
   "source": [
    "numeros = [1 , 2 , 3 , 4 , 5]\n",
    "\n",
    "tupla_desde_lista = tuple(numeros)"
   ]
  },
  {
   "cell_type": "markdown",
   "metadata": {},
   "source": [
    "## Diccionarios"
   ]
  },
  {
   "cell_type": "markdown",
   "metadata": {},
   "source": [
    "1. Crear un diccionario: Crea un diccionario vacío llamado mi_diccionario con una key llamada apellido y que su value sea López."
   ]
  },
  {
   "cell_type": "code",
   "execution_count": 67,
   "metadata": {},
   "outputs": [],
   "source": [
    "mi_diccionario = {}\n",
    "mi_diccionario = {\"apellido\" : \"López\"}"
   ]
  },
  {
   "cell_type": "markdown",
   "metadata": {},
   "source": [
    "2. Agregar elementos: Agrega una clave-valor al diccionario mi_diccionario. Por ejemplo, agrega la clave \"nombre\" con el valor \"Juan\"."
   ]
  },
  {
   "cell_type": "code",
   "execution_count": 68,
   "metadata": {},
   "outputs": [],
   "source": [
    "mi_diccionario[\"nombre\"] = \"Juan\""
   ]
  },
  {
   "cell_type": "markdown",
   "metadata": {},
   "source": [
    "3. Acceder a un valor: Accede al valor correspondiente a la clave \"nombre\" en mi_diccionario."
   ]
  },
  {
   "cell_type": "code",
   "execution_count": 69,
   "metadata": {},
   "outputs": [
    {
     "data": {
      "text/plain": [
       "'Juan'"
      ]
     },
     "execution_count": 69,
     "metadata": {},
     "output_type": "execute_result"
    }
   ],
   "source": [
    "mi_diccionario.get(\"nombre\")"
   ]
  },
  {
   "cell_type": "markdown",
   "metadata": {},
   "source": [
    "4. Modificar un valor: Cambia el valor de la clave \"nombre\" a \"Ana\"."
   ]
  },
  {
   "cell_type": "code",
   "execution_count": 71,
   "metadata": {},
   "outputs": [],
   "source": [
    "mi_diccionario[\"nombre\"] = \"Ana\""
   ]
  },
  {
   "cell_type": "markdown",
   "metadata": {},
   "source": [
    "5. Eliminar un elemento: Elimina la clave \"nombre\" de mi_diccionario."
   ]
  },
  {
   "cell_type": "code",
   "execution_count": 72,
   "metadata": {},
   "outputs": [
    {
     "data": {
      "text/plain": [
       "'Ana'"
      ]
     },
     "execution_count": 72,
     "metadata": {},
     "output_type": "execute_result"
    }
   ],
   "source": [
    "mi_diccionario.pop(\"nombre\")"
   ]
  },
  {
   "cell_type": "markdown",
   "metadata": {},
   "source": [
    "6. Verificar existencia: Verifica si la clave \"apellido\" existe en mi_diccionario."
   ]
  },
  {
   "cell_type": "code",
   "execution_count": 73,
   "metadata": {},
   "outputs": [
    {
     "data": {
      "text/plain": [
       "True"
      ]
     },
     "execution_count": 73,
     "metadata": {},
     "output_type": "execute_result"
    }
   ],
   "source": [
    "\"apellido\" in mi_diccionario"
   ]
  },
  {
   "cell_type": "markdown",
   "metadata": {},
   "source": [
    "7. Obtener todas las claves: Obtén una lista de todas las claves en mi_diccionario."
   ]
  },
  {
   "cell_type": "code",
   "execution_count": 75,
   "metadata": {},
   "outputs": [
    {
     "data": {
      "text/plain": [
       "['apellido']"
      ]
     },
     "execution_count": 75,
     "metadata": {},
     "output_type": "execute_result"
    }
   ],
   "source": [
    "list(mi_diccionario.keys())"
   ]
  },
  {
   "cell_type": "markdown",
   "metadata": {},
   "source": [
    "8. Obtener todos los valores: Obtén una lista de todos los valores en mi_diccionario."
   ]
  },
  {
   "cell_type": "code",
   "execution_count": 76,
   "metadata": {},
   "outputs": [
    {
     "data": {
      "text/plain": [
       "['López']"
      ]
     },
     "execution_count": 76,
     "metadata": {},
     "output_type": "execute_result"
    }
   ],
   "source": [
    "list(mi_diccionario.values())"
   ]
  },
  {
   "cell_type": "markdown",
   "metadata": {},
   "source": [
    "9. Recorrer el diccionario: Usa un bucle for para recorrer y mostrar todas las claves y valores en mi_diccionario."
   ]
  },
  {
   "cell_type": "code",
   "execution_count": 80,
   "metadata": {},
   "outputs": [
    {
     "name": "stdout",
     "output_type": "stream",
     "text": [
      "Clave: apellido - Valor: López\n"
     ]
    }
   ],
   "source": [
    "# Bucle for aún no se ha dado en clase, pero en base a una búsqueda en google se podría utilizar así:\n",
    "\n",
    "for clave , valor in mi_diccionario.items():\n",
    "    print(f\"Clave: {clave} - Valor: {valor}\")\n"
   ]
  },
  {
   "cell_type": "markdown",
   "metadata": {},
   "source": [
    "10. Longitud del diccionario: Calcula la longitud (cantidad de elementos) de mi_diccionario."
   ]
  },
  {
   "cell_type": "code",
   "execution_count": 81,
   "metadata": {},
   "outputs": [
    {
     "data": {
      "text/plain": [
       "1"
      ]
     },
     "execution_count": 81,
     "metadata": {},
     "output_type": "execute_result"
    }
   ],
   "source": [
    "len(mi_diccionario)"
   ]
  },
  {
   "cell_type": "markdown",
   "metadata": {},
   "source": [
    "11. Copiar un diccionario: Crea una copia de mi_diccionario llamada copia_diccionario."
   ]
  },
  {
   "cell_type": "code",
   "execution_count": 82,
   "metadata": {},
   "outputs": [],
   "source": [
    "copia_diccionario = mi_diccionario.copy()"
   ]
  },
  {
   "cell_type": "markdown",
   "metadata": {},
   "source": [
    "12. Eliminar elementos: Elimina todos los elementos de copia_diccionario."
   ]
  },
  {
   "cell_type": "code",
   "execution_count": 84,
   "metadata": {},
   "outputs": [],
   "source": [
    "copia_diccionario.clear()"
   ]
  },
  {
   "cell_type": "markdown",
   "metadata": {},
   "source": [
    "13. Combinar diccionarios: Crea otro diccionario llamado diccionario_combinado y combina mi_diccionario y copia_diccionario en él."
   ]
  },
  {
   "cell_type": "code",
   "execution_count": 86,
   "metadata": {},
   "outputs": [],
   "source": [
    "diccionario_combinado = mi_diccionario.update(copia_diccionario)"
   ]
  },
  {
   "cell_type": "markdown",
   "metadata": {},
   "source": [
    "14. Obtener valor predeterminado: Intenta acceder a la clave \"edad\" en mi_diccionario. Si no existe, muestra el valor predeterminado \"Desconocida\"."
   ]
  },
  {
   "cell_type": "code",
   "execution_count": 87,
   "metadata": {},
   "outputs": [
    {
     "data": {
      "text/plain": [
       "'desconocida'"
      ]
     },
     "execution_count": 87,
     "metadata": {},
     "output_type": "execute_result"
    }
   ],
   "source": [
    "mi_diccionario.get(\"edad\" , \"desconocida\")"
   ]
  },
  {
   "cell_type": "markdown",
   "metadata": {},
   "source": [
    "15. Clave máxima: Encuentra la clave con el valor máximo en un diccionario que contenga pares clave-valor numéricos."
   ]
  },
  {
   "cell_type": "code",
   "execution_count": 101,
   "metadata": {},
   "outputs": [
    {
     "name": "stdout",
     "output_type": "stream",
     "text": [
      "La clave con el valor máximo es A\n"
     ]
    }
   ],
   "source": [
    "notas = {\"B\" : 80 , \"A\" : 90 , \"C\" : 70}\n",
    "\n",
    "valor_maximo = max(notas.values())\n",
    "\n",
    "if notas.get(\"B\") == valor_maximo:\n",
    "    print(\"La clave con el valor máximo es B\")\n",
    "\n",
    "elif notas.get(\"A\") == valor_maximo:\n",
    "    print(\"La clave con el valor máximo es A\")\n",
    "\n",
    "else: \n",
    "    print(\"La clave con el valor máximo es C\")\n",
    "\n",
    "# Buscando en google he encontrado una solución más sencilla:\n",
    "# clave_maxima = max(notas , key = notas.get)\n"
   ]
  },
  {
   "cell_type": "markdown",
   "metadata": {},
   "source": [
    "## Sets"
   ]
  },
  {
   "cell_type": "markdown",
   "metadata": {},
   "source": [
    "1. Crear un conjunto vacío: Crea un conjunto llamado mi_set que esté vacío."
   ]
  },
  {
   "cell_type": "code",
   "execution_count": 2,
   "metadata": {},
   "outputs": [],
   "source": [
    "mi_set = set()"
   ]
  },
  {
   "cell_type": "markdown",
   "metadata": {},
   "source": [
    "2. Agregar elementos a un conjunto: Agrega los números 1, 2 y 3 al conjunto mi_set."
   ]
  },
  {
   "cell_type": "code",
   "execution_count": 6,
   "metadata": {},
   "outputs": [],
   "source": [
    "actualizacion = [1 , 2, 3]\n",
    "mi_set.update(actualizacion)"
   ]
  },
  {
   "cell_type": "markdown",
   "metadata": {},
   "source": [
    "3. Eliminar elementos de un conjunto: Elimina el número 2 del conjunto mi_set."
   ]
  },
  {
   "cell_type": "code",
   "execution_count": 7,
   "metadata": {},
   "outputs": [],
   "source": [
    "mi_set.discard(2)"
   ]
  },
  {
   "cell_type": "markdown",
   "metadata": {},
   "source": [
    "4. Verificar pertenencia: Comprueba si el número 3 está en mi_set y almacena el resultado en una variable llamada existe."
   ]
  },
  {
   "cell_type": "code",
   "execution_count": 9,
   "metadata": {},
   "outputs": [],
   "source": [
    "if 3 in mi_set:\n",
    "    existe = 3\n",
    "else: \n",
    "    \"no está en el set\""
   ]
  },
  {
   "cell_type": "markdown",
   "metadata": {},
   "source": [
    "5. Operaciones de conjuntos: Crea dos conjuntos set1 y set2 con números y encuentra la intersección de ambos conjuntos."
   ]
  },
  {
   "cell_type": "code",
   "execution_count": 14,
   "metadata": {},
   "outputs": [
    {
     "name": "stdout",
     "output_type": "stream",
     "text": [
      "{2, 4}\n"
     ]
    }
   ],
   "source": [
    "set1 = {1 , 2 , 3 , 4 , 5}\n",
    "set2 = {2 , 4 , 6 , 8 , 9}\n",
    "\n",
    "set_interseccion = set1.intersection(set2)\n",
    "\n",
    "print(set_interseccion)\n"
   ]
  },
  {
   "cell_type": "markdown",
   "metadata": {},
   "source": [
    "6. Unión de conjuntos: Combina set1 y set2 para formar un nuevo conjunto que contenga todos los elementos de ambos."
   ]
  },
  {
   "cell_type": "code",
   "execution_count": 17,
   "metadata": {},
   "outputs": [],
   "source": [
    "set3 = set1.union(set2)"
   ]
  },
  {
   "cell_type": "markdown",
   "metadata": {},
   "source": [
    "7. Diferencia de conjuntos: Encuentra los elementos que están en set1 pero no en set2."
   ]
  },
  {
   "cell_type": "code",
   "execution_count": 19,
   "metadata": {},
   "outputs": [
    {
     "name": "stdout",
     "output_type": "stream",
     "text": [
      "{1, 3, 5}\n"
     ]
    }
   ],
   "source": [
    "set_diferencia = set1.difference(set2)\n",
    "\n",
    "print(set_diferencia)"
   ]
  },
  {
   "cell_type": "markdown",
   "metadata": {},
   "source": [
    "8. Comparación de conjuntos: Comprueba si set1 es un subconjunto de set2 y almacena el resultado en una variable llamada es_subconjunto."
   ]
  },
  {
   "cell_type": "code",
   "execution_count": 21,
   "metadata": {},
   "outputs": [],
   "source": [
    "es_subconjunto = set1.issubset(set2)"
   ]
  },
  {
   "cell_type": "markdown",
   "metadata": {},
   "source": [
    "9. Eliminar elementos duplicados: Dada una lista mi_lista con elementos duplicados, conviértela en un conjunto para eliminar los duplicados."
   ]
  },
  {
   "cell_type": "code",
   "execution_count": 22,
   "metadata": {},
   "outputs": [
    {
     "name": "stdout",
     "output_type": "stream",
     "text": [
      "{1, 2, 3}\n"
     ]
    }
   ],
   "source": [
    "lista = [1 , 1 , 2 , 2 , 3 , 3]\n",
    "\n",
    "set_lista = set(lista)\n",
    "\n",
    "print(set_lista)"
   ]
  },
  {
   "cell_type": "markdown",
   "metadata": {},
   "source": [
    "10. Comprobar igualdad de conjuntos: Compara si set1 y set2 son iguales y almacena el resultado en una variable llamada son_iguales."
   ]
  },
  {
   "cell_type": "code",
   "execution_count": 24,
   "metadata": {},
   "outputs": [],
   "source": [
    "son_iguales = set1 == set2"
   ]
  },
  {
   "cell_type": "markdown",
   "metadata": {},
   "source": [
    "## Sentencias de control"
   ]
  },
  {
   "cell_type": "markdown",
   "metadata": {},
   "source": [
    "1. Clasificación de triángulos: Pide al usuario que ingrese las longitudes de tres lados de un triángulo. Determina si el triángulo es equilátero (todos los lados iguales), isósceles (dos lados iguales), o escaleno (ningún lado igual)."
   ]
  },
  {
   "cell_type": "code",
   "execution_count": 12,
   "metadata": {},
   "outputs": [
    {
     "name": "stdout",
     "output_type": "stream",
     "text": [
      "El 8, el 8 y el 5 hacen un triángulo isósceles\n"
     ]
    }
   ],
   "source": [
    "lados = input(\"Ingresa tres números, separados por comas\").strip()\n",
    "\n",
    "lados =  lados.replace(\" \" , \"\") # --Reemmplazo de espacios blancos por nada en caso de que los haya entre los números introducidos \n",
    "\n",
    "lista_lados = lados.split(\",\") # --Separación de la string en una lista para poder acceder a los inputs por separado\n",
    "\n",
    "lado1 = int(lista_lados[0])\n",
    "lado2 = int(lista_lados[1])\n",
    "lado3 = int(lista_lados[2])\n",
    "\n",
    "if lado1 == lado2 == lado3:\n",
    "    print(f\"El {lado1}, el {lado2} y el {lado3} hacen un triángulo equilátero\")\n",
    "\n",
    "elif (lado1 == lado2) or (lado1 == lado3) or (lado2 == lado3):\n",
    "    print(f\"El {lado1}, el {lado2} y el {lado3} hacen un triángulo isósceles\")\n",
    "\n",
    "else:\n",
    "    print(f\"El {lado1}, el {lado2} y el {lado3} hacen un triángulo escaleno\")"
   ]
  },
  {
   "cell_type": "markdown",
   "metadata": {},
   "source": [
    "2. Conversión de temperatura: Crea un programa que permita al usuario convertir temperaturas entre Celsius y Fahrenheit. Pide al usuario que ingrese la temperatura y la unidad (C o F) y realiza la conversión."
   ]
  },
  {
   "cell_type": "code",
   "execution_count": 13,
   "metadata": {},
   "outputs": [
    {
     "name": "stdout",
     "output_type": "stream",
     "text": [
      "El equivalente a 58.0 ºC son 136.4 ºF\n"
     ]
    }
   ],
   "source": [
    "temperatura = float(input(\"Indica cuál es la temperatura\"))\n",
    "unidad_inicial = input(\"¿En qué unidad está? Usa C para Celsius y F para Fahrenheit\").lower()\n",
    "\n",
    "# --Conversión de grados fahrenheit a celsius:\n",
    "if unidad_inicial == \"f\":\n",
    "    print(\"El equivalente a\" , temperatura , \"ºF son\" , round((temperatura - 32) * 5/9, 2) , \"ºC\")\n",
    "    \n",
    "\n",
    "# --Conversión de grados celsius a fahrenheit:\n",
    "elif unidad_inicial == \"c\":\n",
    "     print(\"El equivalente a\" , temperatura , \"ºC son\" , round((temperatura * 9/5 + 32), 2) , \"ºF\")\n",
    "\n",
    "# --Otros:\n",
    "else:\n",
    "    print(\"Esos datos no son válidos. Intenta de nuevo, por ejemplo escribiendo C para Celsius o F para Fahrenheit\")"
   ]
  },
  {
   "cell_type": "markdown",
   "metadata": {},
   "source": [
    "3. Cajero automático: Simula un cajero automático que permite a los usuarios verificar su saldo, depositar y retirar dinero. El programa debe mantener un registro del saldo actual."
   ]
  },
  {
   "cell_type": "code",
   "execution_count": 2,
   "metadata": {},
   "outputs": [
    {
     "name": "stdout",
     "output_type": "stream",
     "text": [
      "Tu saldo actual es de 100€\n",
      "Has ingresado 50.0€\n",
      "Tu saldo se ha actualizado a 150.0€\n",
      "Has retirado 10.0€\n",
      "Tu saldo se ha actualizado a 140.0€\n"
     ]
    }
   ],
   "source": [
    "verificar = \"verificar\"\n",
    "depositar = \"depositar\"\n",
    "retirar = \"retirar\"\n",
    "saldo = 100\n",
    "algo_mas = \"\"\n",
    "\n",
    "consulta = input(\"¿Qué operación quieres realizar? Verfiicar saldo - Depositar dinero - Retirar dinero\").lower()\n",
    "\n",
    "condicional_while = verificar in consulta or depositar in consulta or retirar in consulta\n",
    "\n",
    "while condicional_while and algo_mas != \"salir\":\n",
    "\n",
    "    if depositar in consulta or depositar in algo_mas:\n",
    "        ingreso = float(input(\"¿Cuánto vas a ingresar?\"))\n",
    "        saldo += ingreso\n",
    "        print(f\"Has ingresado {ingreso}€\")\n",
    "        print(f\"Tu saldo se ha actualizado a {saldo}€\")\n",
    "        algo_mas = input(\"¿Deseas hacer algo más? Verfiicar saldo - Depositar dinero - Retirar dinero - Salir\").lower()\n",
    "    \n",
    "    elif retirar in consulta or retirar in algo_mas:\n",
    "        retirada = float(input(\"¿Cuánto vas a retirar?\"))\n",
    "        saldo -= retirada\n",
    "        print(f\"Has retirado {retirada}€\")\n",
    "        print(f\"Tu saldo se ha actualizado a {saldo}€\")\n",
    "        algo_mas = input(\"¿Deseas hacer algo más? Verfiicar saldo - Depositar dinero - Retirar dinero - Salir\").lower()\n",
    "\n",
    "    elif verificar in consulta or verificar in algo_mas:\n",
    "        print(f\"Tu saldo actual es de {saldo}€\")\n",
    "        algo_mas = input(\"¿Deseas hacer algo más? Verfiicar saldo - Depositar dinero - Retirar dinero - Salir\").lower()\n",
    "\n",
    "    else:\n",
    "        print(\"¡Error! Valor no reconocido. Prueba con: Verfiicar saldo - Depositar dinero - Retirar dinero\")\n",
    "\n"
   ]
  },
  {
   "cell_type": "markdown",
   "metadata": {},
   "source": [
    "4. Calculadora de descuento: Pide al usuario que ingrese el precio original de un producto y el porcentaje de descuento. Calcula el precio final después del descuento y muestra el ahorro."
   ]
  },
  {
   "cell_type": "code",
   "execution_count": 9,
   "metadata": {},
   "outputs": [
    {
     "name": "stdout",
     "output_type": "stream",
     "text": [
      "El precio final del producto es de 9.8€. Te ahorras 0.2€\n"
     ]
    }
   ],
   "source": [
    "precio = float(input(\"Indica el precio original del producto\").strip().replace(\"€\" , \"\")) # --El replace es por si introduce \"€\" al indicar el porcentaje\n",
    "porcentaje = float(input(\"Indica el porcentaje de descuento\").strip().replace(\"%\" , \"\")) # --El replace es por si introduce \"%\" al indicar el porcentaje\n",
    "\n",
    "if precio != \"\":\n",
    "    ahorro = porcentaje * precio / 100\n",
    "    precio_final = precio - ahorro\n",
    "    print(f\"El precio final del producto es de {precio_final}€. Te ahorras {ahorro}€\")\n",
    "\n",
    "else:\n",
    "    print(f\"Valor no reconocido\")\n",
    "\n",
    "\n"
   ]
  },
  {
   "cell_type": "markdown",
   "metadata": {},
   "source": [
    "5. Cálculo de promedio de calificaciones: Pide al usuario que ingrese una serie de calificaciones y calcule el promedio. También muestra si el estudiante aprobó (promedio mayor o igual a 5) o no. \n",
    "Pistas:\n",
    "- Solicita al usuario que ingrese 4 notas de calificaciones que quiere promediar.\n",
    "- Convierte el string en una lista de números.\n",
    "- Calcula el promedio de las calificaciones ingresadas.\n",
    "- Muestra el resultado del promedio con dos decimales.\n",
    "- Determina si el estudiante aprobó o no. Un estudiante se considera aprobado si su promedio es mayor o igual a 5."
   ]
  },
  {
   "cell_type": "code",
   "execution_count": 15,
   "metadata": {},
   "outputs": [
    {
     "name": "stdout",
     "output_type": "stream",
     "text": [
      "Lo siento, pero has suspendido con un promedio de 4.5\n"
     ]
    }
   ],
   "source": [
    "notas = input(\"Indica cuatro notas, separadas por comas\").replace(\" \" , \"\")\n",
    "\n",
    "lista_notas = notas.split(\",\")\n",
    "\n",
    "promedio = (int(lista_notas[0]) + int(lista_notas[1]) + int(lista_notas[2]) + int(lista_notas[3])) / len(lista_notas)\n",
    "            \n",
    "promedio = round(float(promedio) , 2)\n",
    "\n",
    "if promedio >= 5:\n",
    "    print(f\"Enhorabuena, has aprobado con un promedio de {promedio}.\")\n",
    "\n",
    "else:\n",
    "    print(f\"Lo siento, pero has suspendido con un promedio de {promedio}\")"
   ]
  },
  {
   "cell_type": "markdown",
   "metadata": {},
   "source": [
    "6. Generador de contraseñas seguras: Crea un programa que genere una contraseña segura. El usuario debe especificar la longitud deseada y si desea incluir números, letras mayúsculas, minúsculas y caracteres especiales. Pistas:\n",
    "- Pregunta al usuario cuántos caracteres debe tener la contraseña que desea generar.\n",
    "- Luego, consulta al usuario si quiere incluir números, letras mayúsculas, letras minúsculas y caracteres especiales en su contraseña.\n",
    "- Basado en las respuestas del usuario, crea una contraseña segura aleatoria que cumple con los criterios especificados.\n",
    "- Muestra la contraseña generada como resultado.\n",
    "- Este ejercicio le permite al usuario personalizar la fortaleza y complejidad de su contraseña según sus preferencias, lo que es esencial para mantener la seguridad en línea."
   ]
  },
  {
   "cell_type": "code",
   "execution_count": 43,
   "metadata": {},
   "outputs": [
    {
     "name": "stdout",
     "output_type": "stream",
     "text": [
      "Tu nueva contraseña es: @,C{XwU=4[\n"
     ]
    }
   ],
   "source": [
    "import string\n",
    "import random\n",
    "\n",
    "# --Preguntas al usuario para determinar qué tipo de contraseña quiere:\n",
    "\n",
    "longitud = int(input(\"Determina cuántos caracteres tendrá tu contraseña\"))\n",
    "tipo = input(\"Indica, separando por comas, qué tipo de caracteres tendrá: números (NUM), mayúsculas (MAY), minúsculas (MIN), especiales (ESP)\").strip().replace(\" \" , \"\").lower()\n",
    "lista_tipo = tipo.split(\",\")\n",
    "\n",
    "# --Establecer la variable caracteres vacía:\n",
    "\n",
    "caracteres = \"\"\n",
    "\n",
    "# --A esta variable vacía se le irán sumando las strings dependiendo de si el usuario quiere (o no) incluir ese tipo de caracter:\n",
    "\n",
    "if \"num\" in lista_tipo:\n",
    "    caracteres += string.digits\n",
    "\n",
    "if \"may\" in lista_tipo:\n",
    "    caracteres += string.ascii_uppercase\n",
    "\n",
    "if \"min\" in lista_tipo:\n",
    "    caracteres += string.ascii_lowercase\n",
    "\n",
    "if \"esp\" in lista_tipo:\n",
    "    caracteres += string.punctuation\n",
    "\n",
    "if caracteres == \"\":\n",
    "    print(f\"La contraseña debe incluir al menos un tipo de caracter. Prueba de nuevo\")\n",
    "\n",
    "# --El resultado es una lista que contiene distintas string con los tipos de caracteres escogidos.\n",
    "\n",
    "password = \"\".join(random.sample(caracteres , longitud)) # --\"random.sample\" para escoger más de un elemento aleatorio y \"join\" para convertir el resultado en una string\n",
    "\n",
    "print(f\"Tu nueva contraseña es: {password}\")"
   ]
  }
 ],
 "metadata": {
  "kernelspec": {
   "display_name": "base",
   "language": "python",
   "name": "python3"
  },
  "language_info": {
   "codemirror_mode": {
    "name": "ipython",
    "version": 3
   },
   "file_extension": ".py",
   "mimetype": "text/x-python",
   "name": "python",
   "nbconvert_exporter": "python",
   "pygments_lexer": "ipython3",
   "version": "3.9.7"
  }
 },
 "nbformat": 4,
 "nbformat_minor": 2
}
