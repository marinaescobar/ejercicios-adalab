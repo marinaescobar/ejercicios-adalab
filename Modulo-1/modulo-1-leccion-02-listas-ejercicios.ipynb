{
 "cells": [
  {
   "cell_type": "markdown",
   "metadata": {},
   "source": [
    "1. Haz una lista llamada `colores` donde almacenemos los primeros 6 colores que te vengan a la mente"
   ]
  },
  {
   "cell_type": "code",
   "execution_count": 59,
   "metadata": {},
   "outputs": [],
   "source": [
    "colores = [\"rojo\", \"verde\", \"azul\", \"rosa\", \"violeta\", \"amarillo\"]"
   ]
  },
  {
   "cell_type": "markdown",
   "metadata": {},
   "source": [
    "2. Haz una lista llamada `buses` de las líneas de autobuses que pasan por tu casa"
   ]
  },
  {
   "cell_type": "code",
   "execution_count": 60,
   "metadata": {},
   "outputs": [],
   "source": [
    "buses = [302, 303, 305, 320, 332, 501, \"N71\", \"N72\"]"
   ]
  },
  {
   "cell_type": "markdown",
   "metadata": {},
   "source": [
    "3. Apunta la previsión de temperaturas máximas para todos los días de esta semana en `temperaturas`"
   ]
  },
  {
   "cell_type": "code",
   "execution_count": 61,
   "metadata": {},
   "outputs": [],
   "source": [
    "temperaturas = [14, 16, 16, 18, 17, 18, 17]"
   ]
  },
  {
   "cell_type": "markdown",
   "metadata": {},
   "source": [
    "  4. Convierte tu(s) nombre(s) a una lista `nombres` de caracteres."
   ]
  },
  {
   "cell_type": "code",
   "execution_count": 62,
   "metadata": {},
   "outputs": [],
   "source": [
    "nombres = \"Marina\"\n",
    "nombres = list(nombres)"
   ]
  },
  {
   "cell_type": "markdown",
   "metadata": {},
   "source": [
    "  5. Convierte tu(s) apellido(s) a una lista `apellidos` de caracteres."
   ]
  },
  {
   "cell_type": "code",
   "execution_count": 63,
   "metadata": {},
   "outputs": [],
   "source": [
    "apellidos = \"Escobar Pérez\"\n",
    "apellidos = list(apellidos)"
   ]
  },
  {
   "cell_type": "markdown",
   "metadata": {},
   "source": [
    " 6. ¿Cuántos búses pasan por tu casa?"
   ]
  },
  {
   "cell_type": "code",
   "execution_count": 64,
   "metadata": {},
   "outputs": [
    {
     "name": "stdout",
     "output_type": "stream",
     "text": [
      "8\n"
     ]
    }
   ],
   "source": [
    "print(len(buses))"
   ]
  },
  {
   "cell_type": "markdown",
   "metadata": {},
   "source": [
    "7. ¿Cuántos caracteres hay en tu apellido(s) (inluyendo los espacios)?"
   ]
  },
  {
   "cell_type": "code",
   "execution_count": 65,
   "metadata": {},
   "outputs": [
    {
     "name": "stdout",
     "output_type": "stream",
     "text": [
      "13\n"
     ]
    }
   ],
   "source": [
    "print(len(apellidos))"
   ]
  },
  {
   "cell_type": "markdown",
   "metadata": {},
   "source": [
    " 8. ¿Cuáles son las temperaturas máximas (`t_max`) y mínimas (`t_min`) para esta semana?"
   ]
  },
  {
   "cell_type": "code",
   "execution_count": 66,
   "metadata": {},
   "outputs": [
    {
     "name": "stdout",
     "output_type": "stream",
     "text": [
      "La temperatura máxima de la semana serán 18 grados\n",
      "La temperatura mínima de la semana serán 14 grados\n"
     ]
    }
   ],
   "source": [
    "# Obtención temperatura máxima\n",
    "t_max = max(temperaturas)\n",
    "\n",
    "# Obtención temperatura mínima\n",
    "t_min = min(temperaturas)\n",
    "\n",
    "print(\"La temperatura máxima de la semana serán\", t_max, \"grados\") \n",
    "print(\"La temperatura mínima de la semana serán\", t_min, \"grados\") "
   ]
  },
  {
   "cell_type": "markdown",
   "metadata": {},
   "source": [
    "9. Hay una 'e' en tu nombre?"
   ]
  },
  {
   "cell_type": "code",
   "execution_count": 67,
   "metadata": {},
   "outputs": [
    {
     "name": "stdout",
     "output_type": "stream",
     "text": [
      "False\n"
     ]
    }
   ],
   "source": [
    "print(\"e\" in nombres)"
   ]
  },
  {
   "cell_type": "markdown",
   "metadata": {},
   "source": [
    "10. Tienes el color 'rosa' en la lista de colores?"
   ]
  },
  {
   "cell_type": "code",
   "execution_count": 68,
   "metadata": {},
   "outputs": [
    {
     "name": "stdout",
     "output_type": "stream",
     "text": [
      "True\n"
     ]
    }
   ],
   "source": [
    "print(\"rosa\" in colores)"
   ]
  },
  {
   "cell_type": "markdown",
   "metadata": {},
   "source": [
    " 11. ¿Tiene una 'x' tu nombre? (Usa `not in`)"
   ]
  },
  {
   "cell_type": "code",
   "execution_count": 69,
   "metadata": {},
   "outputs": [
    {
     "name": "stdout",
     "output_type": "stream",
     "text": [
      "True\n"
     ]
    }
   ],
   "source": [
    "print(\"x\" not in nombres)"
   ]
  },
  {
   "cell_type": "markdown",
   "metadata": {},
   "source": [
    " 12. Copia el contenido de `temperaturas` a `temperaturas2`, y `temperaturas3`."
   ]
  },
  {
   "cell_type": "code",
   "execution_count": 70,
   "metadata": {},
   "outputs": [],
   "source": [
    "temperaturas2 = temperaturas.copy()\n",
    "temperaturas3 = temperaturas.copy()"
   ]
  },
  {
   "cell_type": "markdown",
   "metadata": {},
   "source": [
    "  13. Vacía el contenido de la variable `temperaturas2`"
   ]
  },
  {
   "cell_type": "code",
   "execution_count": 71,
   "metadata": {},
   "outputs": [],
   "source": [
    "temperaturas2 = temperaturas2.clear()"
   ]
  },
  {
   "cell_type": "markdown",
   "metadata": {},
   "source": [
    "  14. Imprime el contenido de `temperaturas` y `temperaturas2`"
   ]
  },
  {
   "cell_type": "code",
   "execution_count": 72,
   "metadata": {},
   "outputs": [
    {
     "name": "stdout",
     "output_type": "stream",
     "text": [
      "[14, 16, 16, 18, 17, 18, 17]\n",
      "None\n"
     ]
    }
   ],
   "source": [
    "print(temperaturas)\n",
    "print(temperaturas2)"
   ]
  },
  {
   "cell_type": "markdown",
   "metadata": {},
   "source": [
    "  15. Copia el contenido de `nombres` a `nombres2`.\n"
   ]
  },
  {
   "cell_type": "code",
   "execution_count": 73,
   "metadata": {},
   "outputs": [],
   "source": [
    "nombres2 = nombres.copy()"
   ]
  },
  {
   "cell_type": "markdown",
   "metadata": {},
   "source": [
    "16. Copia el contenido de `apellidos` a `apellidos2`"
   ]
  },
  {
   "cell_type": "code",
   "execution_count": 74,
   "metadata": {},
   "outputs": [],
   "source": [
    "apellidos2 = apellidos.copy()"
   ]
  },
  {
   "cell_type": "markdown",
   "metadata": {},
   "source": [
    "17. Ordena la variable `temperaturas3` de mayor a menor"
   ]
  },
  {
   "cell_type": "code",
   "execution_count": 75,
   "metadata": {},
   "outputs": [
    {
     "name": "stdout",
     "output_type": "stream",
     "text": [
      "[18, 18, 17, 17, 16, 16, 14]\n"
     ]
    }
   ],
   "source": [
    "temperaturas3.sort(reverse=True)\n",
    "print(temperaturas3)"
   ]
  },
  {
   "cell_type": "markdown",
   "metadata": {},
   "source": [
    " 18. Ordena los caracteres de tu nombre y tu apellido en las listas `nombres2` y `apellidos2`. Imprime el resultado y investiga: ¿qué orden ha cogido? ¿Cómo trata las mayúsculas?"
   ]
  },
  {
   "cell_type": "code",
   "execution_count": 80,
   "metadata": {},
   "outputs": [
    {
     "name": "stdout",
     "output_type": "stream",
     "text": [
      "['M', 'a', 'a', 'i', 'n', 'r']\n",
      "[' ', 'E', 'P', 'a', 'b', 'c', 'e', 'o', 'r', 'r', 's', 'z', 'é']\n"
     ]
    }
   ],
   "source": [
    "# Nombre\n",
    "nombres2.sort()\n",
    "print(nombres2)\n",
    "\n",
    "# Apellidos\n",
    "apellidos2.sort()\n",
    "print(apellidos2)\n",
    "\n",
    "# Antes de ordenar alfabéticamente, prioriza espacios y mayúsculas "
   ]
  },
  {
   "cell_type": "markdown",
   "metadata": {},
   "source": [
    "19. ¿Cuántas 'a' tiene tu nombre? ¿Y cuántas 'o'?"
   ]
  },
  {
   "cell_type": "code",
   "execution_count": 84,
   "metadata": {},
   "outputs": [
    {
     "name": "stdout",
     "output_type": "stream",
     "text": [
      "El número de 'a' es: 2\n",
      "El número de 'o' es: 0\n"
     ]
    }
   ],
   "source": [
    "print(\"El número de 'a' es:\", nombres.count(\"a\"))\n",
    "print(\"El número de 'o' es:\", nombres.count(\"o\"))"
   ]
  },
  {
   "cell_type": "markdown",
   "metadata": {},
   "source": [
    " 20. Verifica si los resultados de ejercicio 19 son iguales para la lista `nombres2`."
   ]
  },
  {
   "cell_type": "code",
   "execution_count": 86,
   "metadata": {},
   "outputs": [
    {
     "data": {
      "text/plain": [
       "True"
      ]
     },
     "execution_count": 86,
     "metadata": {},
     "output_type": "execute_result"
    }
   ],
   "source": [
    "# ¿Hay la misma cantidad de 'a' en nombres y nombres2?\n",
    "nombres.count(\"a\") == nombres2.count(\"a\")\n",
    "\n",
    "# ¿Hay la misma cantidad de 'o' en nombres y nombres2?\n",
    "nombres.count(\"o\") == nombres2.count(\"o\")"
   ]
  },
  {
   "cell_type": "markdown",
   "metadata": {},
   "source": [
    "21. ¿Cuántas veces esta semana llega la temperatura a la `t_max`? ¿Y cuántas a la `t_min`?"
   ]
  },
  {
   "cell_type": "code",
   "execution_count": 98,
   "metadata": {},
   "outputs": [
    {
     "name": "stdout",
     "output_type": "stream",
     "text": [
      "Veces en las que se alcanzará la temperatura máxima (18°C): 2\n",
      "Veces en las que se alcanzará la temperatura mínima (14°C): 1\n"
     ]
    }
   ],
   "source": [
    "print(\"Veces en las que se alcanzará la temperatura máxima (\" + str(t_max)+\"°C):\", str(temperaturas.count(t_max)))\n",
    "print(\"Veces en las que se alcanzará la temperatura mínima (\" + str(t_min)+\"°C):\", str(temperaturas.count(t_min)))"
   ]
  },
  {
   "cell_type": "markdown",
   "metadata": {},
   "source": [
    "  22. La lista dias_en contiene 'monday', 'tuesday', 'wednesday', 'thursday', 'friday', 'saturday', y 'sunday'"
   ]
  },
  {
   "cell_type": "code",
   "execution_count": 115,
   "metadata": {},
   "outputs": [],
   "source": [
    "dias_en = ['monday', 'tuesday', 'wednesday', 'thursday', 'friday', 'saturday', 'sunday']"
   ]
  },
  {
   "cell_type": "markdown",
   "metadata": {},
   "source": [
    " 23. Define temperaturas_diciembre 👇🏽:"
   ]
  },
  {
   "cell_type": "code",
   "execution_count": 109,
   "metadata": {},
   "outputs": [],
   "source": [
    "temperaturas_diciembre = [10, 10, 13, 14, 12, 15, \n",
    "                            12, 11, 13, 17, 18, 15, \n",
    "                            15, 17, 17, 13, 13, 11,\n",
    "                            12, 10, 12, 14, 12, 12,\n",
    "                            11, 12, 16, 16, 14, 17, 18]"
   ]
  },
  {
   "cell_type": "markdown",
   "metadata": {},
   "source": [
    " 24. ¿Cuál es el penúltimo día de la semana?"
   ]
  },
  {
   "cell_type": "code",
   "execution_count": 116,
   "metadata": {},
   "outputs": [
    {
     "name": "stdout",
     "output_type": "stream",
     "text": [
      "saturday\n"
     ]
    }
   ],
   "source": [
    "print(dias_en[-2])"
   ]
  },
  {
   "cell_type": "markdown",
   "metadata": {},
   "source": [
    "  25. ¿Cuál es el último elemento de la lista de temperaturas de diciembre? "
   ]
  },
  {
   "cell_type": "code",
   "execution_count": 117,
   "metadata": {},
   "outputs": [
    {
     "name": "stdout",
     "output_type": "stream",
     "text": [
      "18\n"
     ]
    }
   ],
   "source": [
    "print(temperaturas_diciembre[-1])"
   ]
  },
  {
   "cell_type": "markdown",
   "metadata": {},
   "source": [
    "  27. ¿Está 'friday' en la lista de días en inglés? Si está, ¿dónde?"
   ]
  },
  {
   "cell_type": "code",
   "execution_count": 124,
   "metadata": {},
   "outputs": [
    {
     "name": "stdout",
     "output_type": "stream",
     "text": [
      "True\n",
      "4\n"
     ]
    }
   ],
   "source": [
    "# Revisar si está friday:\n",
    "print(\"friday\" in dias_en)\n",
    "\n",
    "# Posición de friday en la semana:\n",
    "print(dias_en.index(\"friday\"))"
   ]
  },
  {
   "cell_type": "markdown",
   "metadata": {},
   "source": [
    "  28. ¿Cuál era la temperatura máxima en diciembre?"
   ]
  },
  {
   "cell_type": "code",
   "execution_count": 127,
   "metadata": {},
   "outputs": [
    {
     "name": "stdout",
     "output_type": "stream",
     "text": [
      "La temperatura máxima en diciembre fue de 18 ºC\n"
     ]
    }
   ],
   "source": [
    "print(\"La temperatura máxima en diciembre fue de\", max(temperaturas_diciembre),\"ºC\")"
   ]
  },
  {
   "cell_type": "markdown",
   "metadata": {},
   "source": [
    "29. Encuentra el índice de 'miércoles' en dias_es."
   ]
  },
  {
   "cell_type": "code",
   "execution_count": 128,
   "metadata": {},
   "outputs": [
    {
     "name": "stdout",
     "output_type": "stream",
     "text": [
      "2\n"
     ]
    }
   ],
   "source": [
    "# Creamos la lista dias_es\n",
    "dias_es = [\"lunes\", \"martes\", \"miércoles\", \"jueves\", \"viernes\", \"sábado\", \"domingo\"]\n",
    "\n",
    "# Encontramos el índice de miércoles:\n",
    "print(dias_es.index(\"miércoles\"))"
   ]
  },
  {
   "cell_type": "markdown",
   "metadata": {},
   "source": [
    " 30. Imprime esta frase en pantalla: 'La temperatura máxima esta semana será 14 c, que ocurrirá en 1 días(s). El día más frío tendrá una temperatura máxima de 10 ºC, que ocurrirá en 2 día(s).'"
   ]
  },
  {
   "cell_type": "code",
   "execution_count": 132,
   "metadata": {},
   "outputs": [
    {
     "name": "stdout",
     "output_type": "stream",
     "text": [
      "La temperatura máxima esta semana será 18 c, que ocurrirá en 3 día(s). El día más frío tendrá una temperatura máxima de 14 c, que ocurrirá en 0 día(s).\n"
     ]
    }
   ],
   "source": [
    "print(\"La temperatura máxima esta semana será\", t_max, \n",
    "      \"c, que ocurrirá en\", temperaturas.index(t_max), \"día(s).\",\n",
    "      \"El día más frío tendrá una temperatura máxima de\", t_min,\n",
    "      \"c, que ocurrirá en\", temperaturas.index(t_min), \"día(s).\")"
   ]
  }
 ],
 "metadata": {
  "kernelspec": {
   "display_name": "adalabenv",
   "language": "python",
   "name": "python3"
  },
  "language_info": {
   "codemirror_mode": {
    "name": "ipython",
    "version": 3
   },
   "file_extension": ".py",
   "mimetype": "text/x-python",
   "name": "python",
   "nbconvert_exporter": "python",
   "pygments_lexer": "ipython3",
   "version": "3.9.7"
  }
 },
 "nbformat": 4,
 "nbformat_minor": 2
}
