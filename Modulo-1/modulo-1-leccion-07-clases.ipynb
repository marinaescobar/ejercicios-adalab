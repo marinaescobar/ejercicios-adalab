{
 "cells": [
  {
   "cell_type": "markdown",
   "metadata": {},
   "source": [
    "### Ejercicios \n",
    "\n",
    "Crea una clase llamada `Vehiculo` que representa un vehículo genérico. Esta clase tiene la capacidad de realizar acciones relacionadas con el vehículo, como encenderlo, apagarlo, acelerar, frenar y detenerlo gradualmente. Cada método en la clase tiene una descripción específica de su función. A continuación, se detallan los aspectos clave de esta clase:\n",
    "\n",
    "- **Atributos:**\n",
    "\n",
    "    - `marca`: Una cadena que representa la marca del vehículo.\n",
    "\n",
    "    - `modelo`: Una cadena que representa el modelo del vehículo.\n",
    "\n",
    "    - `año`: Un número entero que representa el año de fabricación del vehículo.\n",
    "\n",
    "    - `velocidad_actual`: Un número entero que representa la velocidad actual del vehículo en km/h.\n",
    "\n",
    "    - `encendido`: Un valor booleano que indica si el vehículo está encendido (`True`) o apagado (`False`).\n",
    "\n",
    "- **Métodos:**\n",
    "\n",
    "    -  `__init__(self, marca, modelo, año)`: El constructor de la clase que inicializa los atributos del vehículo, incluyendo la marca, el modelo, el año, la velocidad actual (inicialmente 0) y el estado del encendido (inicialmente apagado).\n",
    "\n",
    "    - `informacion(self)`: Un método que devuelve una cadena de texto con la información básica del vehículo, incluyendo la marca, el modelo y el año.\n",
    "\n",
    "    - `encender(self)`: Un método que enciende el vehículo si está apagado y devuelve un mensaje de confirmación. Si el vehículo ya está encendido, devuelve un mensaje indicando que ya está en funcionamiento.\n",
    "\n",
    "    - `apagar(self)`: Un método que apaga el vehículo si está encendido, establece la velocidad actual en 0 y devuelve un mensaje de confirmación. Si el vehículo ya está apagado, devuelve un mensaje indicando que ya está apagado.\n",
    "\n",
    "    - `acelerar(self, velocidad)`: Un método que aumenta la velocidad actual del vehículo según la cantidad de velocidad proporcionada como argumento. Si el vehículo está encendido, aumenta la velocidad y devuelve un mensaje con la nueva velocidad actual. Si el vehículo está apagado, devuelve un mensaje indicando que no se puede acelerar.\n",
    "\n",
    "    - `frenar(self, velocidad)`: Un método que reduce la velocidad actual del vehículo según la cantidad de velocidad proporcionada como argumento. Si el vehículo está encendido, reduce la velocidad y devuelve un mensaje con la nueva velocidad actual. Si el vehículo está apagado, devuelve un mensaje indicando que no se puede frenar.\n",
    "\n",
    "    - `detener(self)`: Un método que detiene gradualmente el vehículo reduciendo la velocidad en incrementos de 5 km/h hasta que alcance una velocidad de 0 km/h. Si el vehículo está encendido, detiene el vehículo y devuelve un mensaje de confirmación. Si el vehículo está apagado, devuelve un mensaje indicando que no se puede detener."
   ]
  },
  {
   "cell_type": "code",
   "execution_count": 35,
   "metadata": {},
   "outputs": [],
   "source": [
    "class Vehiculo:\n",
    "    \n",
    "    def __init__(self, marca , modelo , anio , velocidad_actual , encendido):\n",
    "        \n",
    "        self.marca = marca\n",
    "        self.modelo = modelo\n",
    "        self.anio = anio\n",
    "        self.velocidad_actual = velocidad_actual\n",
    "        self.encendido = encendido\n",
    "        \n",
    "    def informacion(self):\n",
    "        \n",
    "        cadena_info = [self.marca , self.modelo , self.anio , self.velocidad_actual , self.encendido]\n",
    "        \n",
    "        return cadena_info\n",
    "    \n",
    "    def encender(self):\n",
    "        \n",
    "        if self.encendido:\n",
    "            print(f\"El vehículo ya está encendido\")\n",
    "            \n",
    "        else:\n",
    "            self.encendido = True\n",
    "            print(f\"El vehículo se ha encendido\")\n",
    "            \n",
    "    def apagar(self):\n",
    "\n",
    "        if self.encendido:\n",
    "            self.encendido = False\n",
    "            print(f\"El vehículo se ha apagado\")\n",
    "            \n",
    "            \n",
    "        else:\n",
    "            print(f\"El vehículo ya está apagado\")\n",
    "            \n",
    "    def acelerar(self , velocidad):\n",
    "        \n",
    "        if self.encendido:\n",
    "            \n",
    "            self.velocidad_actual += velocidad\n",
    "            \n",
    "            print(f\"El coche ahora va a {self.velocidad_actual} km/h\")\n",
    "        \n",
    "        else:\n",
    "            print(f\"El vehículo está apagado, no se puede subir la velocidad\")\n",
    "            \n",
    "    def frenar(self , velocidad):\n",
    "        \n",
    "        if self.encendido:\n",
    "            \n",
    "            self.velocidad_actual -= velocidad\n",
    "            \n",
    "            print(f\"El coche ahora va a {self.velocidad_actual} km/h\")\n",
    "        \n",
    "        else:\n",
    "            print(f\"El vehículo está apagado, no se puede frenar\")\n",
    "\n",
    "    def detener(self):\n",
    "        \n",
    "        if self.encendido:\n",
    "            \n",
    "            while self.velocidad_actual > 0:\n",
    "                \n",
    "                self.velocidad_actual -= 5\n",
    "                print(f\"Reduciendo velocidad: {self.velocidad_actual} km/h\")\n",
    "                \n",
    "            \n",
    "            print(f\"El coche se ha detenido correctamente\")\n",
    "        \n",
    "        else:\n",
    "            print(f\"El vehículo está apagado, ya está parado\")                      "
   ]
  },
  {
   "cell_type": "code",
   "execution_count": 36,
   "metadata": {},
   "outputs": [],
   "source": [
    "mi_coche = Vehiculo(\"kia\" , \"rio\" , 2022 , 120 , True)"
   ]
  },
  {
   "cell_type": "code",
   "execution_count": 37,
   "metadata": {},
   "outputs": [
    {
     "name": "stdout",
     "output_type": "stream",
     "text": [
      "El vehículo se ha apagado\n"
     ]
    }
   ],
   "source": [
    "mi_coche.apagar()"
   ]
  },
  {
   "cell_type": "markdown",
   "metadata": {},
   "source": [
    "Crea la subclase Coche que hereda de la clase base Vehiculo y representa un coche específico. Además de los atributos y métodos heredados, la clase Coche tiene un atributo adicional:\n",
    "\n",
    "\n",
    "- **Atributos:**\n",
    "    - combustible: Una cadena que representa el tipo de combustible que utiliza el coche.\n",
    "\n",
    "- **Métodos:**\n",
    "\n",
    "    - `__init__(self, marca, modelo, año, combustible)`: Constructor que inicializa los atributos de la clase base y el atributo específico del coche.\n",
    "    \n",
    "    - `informacion(self)`: Devuelve una cadena con la información del coche, incluyendo la marca, el modelo, el año y el tipo de combustible."
   ]
  },
  {
   "cell_type": "code",
   "execution_count": 30,
   "metadata": {},
   "outputs": [],
   "source": [
    "class Coche (Vehiculo):\n",
    "    \n",
    "    def __init__(self, marca , modelo , anio , combustible):\n",
    "        \n",
    "        self.marca = marca\n",
    "        self.modelo = modelo\n",
    "        self.anio = anio\n",
    "        self.combustible = combustible\n",
    "        \n",
    "    def informacion(self):\n",
    "    \n",
    "        cadena_info = [self.marca , self.modelo , self.anio , self.combustible]\n",
    "        \n",
    "        return cadena_info"
   ]
  },
  {
   "cell_type": "code",
   "execution_count": 33,
   "metadata": {},
   "outputs": [],
   "source": [
    "mi_coche2 = Coche(\"kia\" , \"rio\" , 2022 , \"gasolina\")"
   ]
  },
  {
   "cell_type": "code",
   "execution_count": 34,
   "metadata": {},
   "outputs": [
    {
     "data": {
      "text/plain": [
       "['kia', 'rio', 2022, 'gasolina']"
      ]
     },
     "execution_count": 34,
     "metadata": {},
     "output_type": "execute_result"
    }
   ],
   "source": [
    "mi_coche2.informacion()"
   ]
  }
 ],
 "metadata": {
  "kernelspec": {
   "display_name": "base",
   "language": "python",
   "name": "python3"
  },
  "language_info": {
   "codemirror_mode": {
    "name": "ipython",
    "version": 3
   },
   "file_extension": ".py",
   "mimetype": "text/x-python",
   "name": "python",
   "nbconvert_exporter": "python",
   "pygments_lexer": "ipython3",
   "version": "3.9.7"
  }
 },
 "nbformat": 4,
 "nbformat_minor": 2
}
