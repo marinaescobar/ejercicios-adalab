{
 "cells": [
  {
   "cell_type": "markdown",
   "metadata": {},
   "source": [
    "1. Crea una variable que sea igual a \"Python\" y genera un código que nos printee todas las letras menos la \"P\" usando la sentencia `continue`."
   ]
  },
  {
   "cell_type": "code",
   "execution_count": 5,
   "metadata": {},
   "outputs": [
    {
     "name": "stdout",
     "output_type": "stream",
     "text": [
      "y\n",
      "t\n",
      "h\n",
      "o\n",
      "n\n"
     ]
    }
   ],
   "source": [
    "variable = \"Python\"\n",
    "\n",
    "for letra in variable:\n",
    "\n",
    "    if letra == \"P\":\n",
    "        continue\n",
    "\n",
    "    print(letra)"
   ]
  },
  {
   "cell_type": "markdown",
   "metadata": {},
   "source": [
    "2. De la frase `'Hello'` imprime todas las letras que no sean una `'l'` usando `if`."
   ]
  },
  {
   "cell_type": "code",
   "execution_count": 4,
   "metadata": {},
   "outputs": [
    {
     "name": "stdout",
     "output_type": "stream",
     "text": [
      "H\n",
      "e\n",
      "o\n"
     ]
    }
   ],
   "source": [
    "frase = \"Hello\"\n",
    "\n",
    "for letra in frase:\n",
    "\n",
    "    if letra != \"l\":\n",
    "        print(letra)"
   ]
  },
  {
   "cell_type": "markdown",
   "metadata": {},
   "source": [
    "3. Haz lo mismo que en 2 usando `continue`."
   ]
  },
  {
   "cell_type": "code",
   "execution_count": 6,
   "metadata": {},
   "outputs": [
    {
     "name": "stdout",
     "output_type": "stream",
     "text": [
      "H\n",
      "e\n",
      "o\n"
     ]
    }
   ],
   "source": [
    "for letra in frase:\n",
    "\n",
    "    if letra == \"l\":\n",
    "        continue\n",
    "\n",
    "    print(letra)"
   ]
  },
  {
   "cell_type": "markdown",
   "metadata": {},
   "source": [
    "5. Define  la variable `doce = '12'` y `seis = 6`. Intenta sumarlos. En el caso de que te salga un error imprime `'¡Un error!'`. Para eso usa un `try` ... `except`"
   ]
  },
  {
   "cell_type": "code",
   "execution_count": 12,
   "metadata": {},
   "outputs": [
    {
     "name": "stdout",
     "output_type": "stream",
     "text": [
      "¡Un error!\n"
     ]
    }
   ],
   "source": [
    "doce = \"12\"\n",
    "seis = 6\n",
    "\n",
    "try:\n",
    "\n",
    "    suma = doce + seis\n",
    "\n",
    "    print(f\"La suma de doce más seis es: {suma}\")\n",
    "\n",
    "except TypeError:\n",
    "\n",
    "    print(f\"¡Un error!\")"
   ]
  },
  {
   "cell_type": "markdown",
   "metadata": {},
   "source": [
    "6. Basándonos en el ejercicio anterior, sin usar un `try` ... `except`, ¿cómo podríamos solucionar el problema? "
   ]
  },
  {
   "cell_type": "code",
   "execution_count": 17,
   "metadata": {},
   "outputs": [
    {
     "name": "stdout",
     "output_type": "stream",
     "text": [
      "¡Un error! Parece que uno de los datos introducidos es una string y no se pueden hacer sumas con datos integer/float y strings\n"
     ]
    }
   ],
   "source": [
    "if type(doce) == str or type(seis) == str:\n",
    "\n",
    "    print(f\"¡Un error! Parece que uno de los datos introducidos es una string y no se pueden hacer sumas con datos integer/float y strings\")\n",
    "    \n",
    "\n",
    "else: \n",
    "\n",
    "    suma = doce + seis\n",
    "    print(f\"La suma de doce más seis es: {suma}\")\n",
    "    "
   ]
  },
  {
   "cell_type": "markdown",
   "metadata": {},
   "source": [
    "7. Solicita al usuario ingresar números enteros positivos hasta que ingrese un número negativo. Luego, muestra la suma de todos los números pares ingresados."
   ]
  },
  {
   "cell_type": "code",
   "execution_count": 26,
   "metadata": {},
   "outputs": [
    {
     "name": "stdout",
     "output_type": "stream",
     "text": [
      "No has introducido un dato válido. Debes ingresar un número entero\n",
      "No has introducido un dato válido. Debes ingresar un número entero\n",
      "No has introducido un dato válido. Debes ingresar un número entero\n",
      "No has introducido un dato válido. Debes ingresar un número entero\n",
      "La suma de todos los números pares introducidos es 0\n"
     ]
    }
   ],
   "source": [
    "suma_par = 0\n",
    "\n",
    "while True:\n",
    "\n",
    "    try:\n",
    "\n",
    "        numero = int(input(\"Ingresa un número entero positivo (ingresa uno negativo para finalizar)\"))\n",
    "\n",
    "    except ValueError:\n",
    "\n",
    "        print(f\"No has introducido un dato válido. Debes ingresar un número entero\")\n",
    "        continue\n",
    "     \n",
    "    if numero < 0:\n",
    "        break\n",
    "\n",
    "    if numero % 2 == 0:\n",
    "        suma_par += numero\n",
    "\n",
    "print(f\"La suma de todos los números pares introducidos es {suma_par}\")\n",
    "\n"
   ]
  },
  {
   "cell_type": "markdown",
   "metadata": {},
   "source": [
    "8. Solicita al usuario ingresar dos números y muestra el resultado de dividir el primero por el segundo. Asegúrate de manejar la excepción si el segundo número es cero."
   ]
  },
  {
   "cell_type": "code",
   "execution_count": 30,
   "metadata": {},
   "outputs": [
    {
     "name": "stdout",
     "output_type": "stream",
     "text": [
      "No has introducido un dato válido. Debes ingresar un número entero\n"
     ]
    }
   ],
   "source": [
    "try:\n",
    "\n",
    "    num1 = int(input(\"Ingresa un número entero\"))\n",
    "    num2 = int(input(\"Ingresa otro número entero\"))\n",
    "    division = round(num1 / num2 , 2)\n",
    "    print(f\"El resultado de dividir {num1} por {num2} es {division}\")\n",
    "\n",
    "except ValueError:\n",
    "\n",
    "    print(f\"No has introducido un dato válido. Debes ingresar un número entero\")\n",
    "\n",
    "except ZeroDivisionError:\n",
    "\n",
    "    print(f\"No se puede dividir un número por 0\")"
   ]
  },
  {
   "cell_type": "markdown",
   "metadata": {},
   "source": [
    "9. Solicita al usuario ingresar un número y muestra su raíz cuadrada. Maneja la excepción si el número es negativo."
   ]
  },
  {
   "cell_type": "code",
   "execution_count": 33,
   "metadata": {},
   "outputs": [
    {
     "name": "stdout",
     "output_type": "stream",
     "text": [
      "La raíz cuadrada de 10 es 3.16\n"
     ]
    }
   ],
   "source": [
    "import math\n",
    "\n",
    "try:\n",
    "\n",
    "    num3 = int(input(\"Ingresa un número\"))\n",
    "    raiz_cuadrada = round(math.sqrt(num3) , 2)\n",
    "    print(f\"La raíz cuadrada de {num3} es {raiz_cuadrada}\")\n",
    "\n",
    "except ValueError:\n",
    "\n",
    "    print(f\"No has introducido un dato válido. Debes ingresar un número positivo\")"
   ]
  },
  {
   "cell_type": "markdown",
   "metadata": {},
   "source": [
    "10. Crea una lista de números y solicita al usuario ingresar un índice para acceder a un elemento de la lista. Maneja la excepción si el índice está fuera de rango."
   ]
  },
  {
   "cell_type": "code",
   "execution_count": 49,
   "metadata": {},
   "outputs": [
    {
     "name": "stdout",
     "output_type": "stream",
     "text": [
      "No has introducido un dato válido. Debes ingresar un número entero positivo\n"
     ]
    }
   ],
   "source": [
    "import string\n",
    "\n",
    "numeros = string.digits\n",
    "lista_numeros = list(numeros)\n",
    "\n",
    "try: \n",
    "\n",
    "    indice = int(input(\"Ingresa un número\"))\n",
    "    elemento = lista_numeros[indice]\n",
    "    print(f\"Buscando por el índice {indice} tenemos el elemento {elemento}\")\n",
    "\n",
    "except ValueError:\n",
    "\n",
    "    print(f\"No has introducido un dato válido. Debes ingresar un número entero positivo\")\n",
    "\n",
    "except IndexError:\n",
    "\n",
    "    print(f\"El índice introducido ({indice}) está fuera de rango. Prueba con un número del 0 al {len(lista_numeros) - 1}\")"
   ]
  }
 ],
 "metadata": {
  "kernelspec": {
   "display_name": "base",
   "language": "python",
   "name": "python3"
  },
  "language_info": {
   "codemirror_mode": {
    "name": "ipython",
    "version": 3
   },
   "file_extension": ".py",
   "mimetype": "text/x-python",
   "name": "python",
   "nbconvert_exporter": "python",
   "pygments_lexer": "ipython3",
   "version": "3.9.7"
  }
 },
 "nbformat": 4,
 "nbformat_minor": 2
}
