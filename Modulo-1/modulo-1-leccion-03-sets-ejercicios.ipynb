{
 "cells": [
  {
   "cell_type": "markdown",
   "metadata": {},
   "source": [
    " 1. Define la *lista* \n",
    "        ```python\n",
    "        temperaturas_diciembre = [10, 10, 13, 14, 12, 15, \n",
    "                                  12, 11, 13, 17, 18, 15, \n",
    "                                  15, 17, 17, 13, 13, 11,\n",
    "                                  12, 10, 12, 14, 12, 12,\n",
    "                                  11, 12, 16, 16, 14, 17, 18]\n",
    "        ```"
   ]
  },
  {
   "cell_type": "code",
   "execution_count": 11,
   "metadata": {},
   "outputs": [
    {
     "name": "stdout",
     "output_type": "stream",
     "text": [
      "[10, 10, 13, 14, 12, 15, 12, 11, 13, 17, 18, 15, 15, 17, 17, 13, 13, 11, 12, 10, 12, 14, 12, 12, 11, 12, 16, 16, 14, 17, 18]\n"
     ]
    }
   ],
   "source": [
    "temperaturas_diciembre = [10, 10, 13, 14, 12, 15, 12, 11, 13, 17, 18, 15, 15, 17, 17, 13, 13, 11, 12, 10, 12, 14, 12, 12, 11, 12, 16, 16, 14, 17, 18]\n",
    "print(temperaturas_diciembre)"
   ]
  },
  {
   "cell_type": "markdown",
   "metadata": {},
   "source": [
    "  2. Conviértala en un set  llamado `diciembre`."
   ]
  },
  {
   "cell_type": "code",
   "execution_count": 10,
   "metadata": {},
   "outputs": [
    {
     "name": "stdout",
     "output_type": "stream",
     "text": [
      "{10, 11, 12, 13, 14, 15, 16, 17, 18}\n"
     ]
    }
   ],
   "source": [
    "diciembre = set(temperaturas_diciembre)\n",
    "print(diciembre)"
   ]
  },
  {
   "cell_type": "markdown",
   "metadata": {},
   "source": [
    "  3. Piensa en 6 colores y almacenalos en un set llamado `colores`."
   ]
  },
  {
   "cell_type": "code",
   "execution_count": 14,
   "metadata": {},
   "outputs": [
    {
     "name": "stdout",
     "output_type": "stream",
     "text": [
      "{'violeta', 'beige', 'blanco', 'rosa', 'celeste'}\n"
     ]
    }
   ],
   "source": [
    "colores = {\"rosa\", \"beige\", \"violeta\", \"celeste\", \"blanco\"}\n",
    "print(colores)"
   ]
  },
  {
   "cell_type": "markdown",
   "metadata": {},
   "source": [
    " 4. Añade `'lila'` a `colores`."
   ]
  },
  {
   "cell_type": "code",
   "execution_count": 15,
   "metadata": {},
   "outputs": [
    {
     "name": "stdout",
     "output_type": "stream",
     "text": [
      "{'violeta', 'beige', 'lila', 'blanco', 'rosa', 'celeste'}\n"
     ]
    }
   ],
   "source": [
    "colores.add(\"lila\")\n",
    "print(colores)"
   ]
  },
  {
   "cell_type": "markdown",
   "metadata": {},
   "source": [
    "5. Añade `'azul'`, `'rojo'`, y `'granate'` a `colores` usando `.update()`."
   ]
  },
  {
   "cell_type": "code",
   "execution_count": 16,
   "metadata": {},
   "outputs": [
    {
     "name": "stdout",
     "output_type": "stream",
     "text": [
      "{'beige', 'granate', 'rojo', 'lila', 'rosa', 'blanco', 'azul', 'violeta', 'celeste'}\n"
     ]
    }
   ],
   "source": [
    "nuevos_colores = \"azul\", \"rojo\", \"granate\"\n",
    "colores.update(nuevos_colores)\n",
    "print(colores)"
   ]
  },
  {
   "cell_type": "markdown",
   "metadata": {},
   "source": [
    "  6. Tu set de `colores`, ¿tiene `'verde'`?"
   ]
  },
  {
   "cell_type": "code",
   "execution_count": 21,
   "metadata": {},
   "outputs": [
    {
     "name": "stdout",
     "output_type": "stream",
     "text": [
      "False\n"
     ]
    }
   ],
   "source": [
    "print(\"verde\" in colores)"
   ]
  },
  {
   "cell_type": "markdown",
   "metadata": {},
   "source": [
    "7. ¿Y tiene `'ROJO'`?"
   ]
  },
  {
   "cell_type": "code",
   "execution_count": 22,
   "metadata": {},
   "outputs": [
    {
     "name": "stdout",
     "output_type": "stream",
     "text": [
      "False\n"
     ]
    }
   ],
   "source": [
    "print(\"ROJO\" in colores)"
   ]
  },
  {
   "cell_type": "markdown",
   "metadata": {},
   "source": [
    " 8. Define el set `enero` para que sea igual a `diciembre`."
   ]
  },
  {
   "cell_type": "code",
   "execution_count": 23,
   "metadata": {},
   "outputs": [
    {
     "name": "stdout",
     "output_type": "stream",
     "text": [
      "{10, 11, 12, 13, 14, 15, 16, 17, 18}\n"
     ]
    }
   ],
   "source": [
    "enero = diciembre.copy()\n",
    "print(enero)"
   ]
  },
  {
   "cell_type": "markdown",
   "metadata": {},
   "source": [
    "9. Quita las temperaturas `17`, y `18` de `enero`."
   ]
  },
  {
   "cell_type": "code",
   "execution_count": 25,
   "metadata": {},
   "outputs": [
    {
     "name": "stdout",
     "output_type": "stream",
     "text": [
      "{10, 11, 12, 13, 14, 15, 16}\n"
     ]
    }
   ],
   "source": [
    "enero.remove(18)\n",
    "enero.discard(17)\n",
    "print(enero)"
   ]
  },
  {
   "cell_type": "markdown",
   "metadata": {},
   "source": [
    "  10. ¿Cuántas temperaturas distintas había en diciembre?"
   ]
  },
  {
   "cell_type": "code",
   "execution_count": 29,
   "metadata": {},
   "outputs": [
    {
     "name": "stdout",
     "output_type": "stream",
     "text": [
      "En diciembre hubo 2 temperaturas distintas a enero\n"
     ]
    }
   ],
   "source": [
    "diciembre_diferencia = diciembre.difference(enero)\n",
    "print(\"En diciembre hubo\" , len(diciembre_diferencia) , \"temperaturas distintas a enero\")"
   ]
  },
  {
   "cell_type": "markdown",
   "metadata": {},
   "source": [
    "11. ¿Y cuántas en enero?"
   ]
  },
  {
   "cell_type": "code",
   "execution_count": 30,
   "metadata": {},
   "outputs": [
    {
     "name": "stdout",
     "output_type": "stream",
     "text": [
      "En enero hubo 0 temperaturas distintas a diciembre\n"
     ]
    }
   ],
   "source": [
    "enero_diferencia = enero - diciembre\n",
    "print(\"En enero hubo\" , len(enero_diferencia) , \"temperaturas distintas a diciembre\")"
   ]
  },
  {
   "cell_type": "markdown",
   "metadata": {},
   "source": [
    "  12. Identifica los elementos que hay en `diciembre` que no están en `enero`."
   ]
  },
  {
   "cell_type": "code",
   "execution_count": 31,
   "metadata": {},
   "outputs": [
    {
     "name": "stdout",
     "output_type": "stream",
     "text": [
      "Los elementos que hay en diciembre y no están en enero son: {17, 18}\n"
     ]
    }
   ],
   "source": [
    "print(\"Los elementos que hay en diciembre y no están en enero son:\" , diciembre_diferencia)"
   ]
  },
  {
   "cell_type": "markdown",
   "metadata": {},
   "source": [
    "13. Identifica los elementos que hay en `enero` que no están en `diciembre`."
   ]
  },
  {
   "cell_type": "code",
   "execution_count": 34,
   "metadata": {},
   "outputs": [
    {
     "name": "stdout",
     "output_type": "stream",
     "text": [
      "Los elementos que hay en enero y no están en diciembre son: set()\n"
     ]
    }
   ],
   "source": [
    "print(\"Los elementos que hay en enero y no están en diciembre son:\" , enero - diciembre)"
   ]
  },
  {
   "cell_type": "markdown",
   "metadata": {},
   "source": [
    " 14. Identifica los elementos que tienen en común `diciembre` y `enero`."
   ]
  },
  {
   "cell_type": "code",
   "execution_count": 38,
   "metadata": {},
   "outputs": [
    {
     "name": "stdout",
     "output_type": "stream",
     "text": [
      "Los elementos que hay en común en ambos meses son: {10, 11, 12, 13, 14, 15, 16}\n"
     ]
    }
   ],
   "source": [
    "meses_comun = diciembre & enero\n",
    "print(\"Los elementos que hay en común en ambos meses son:\" , meses_comun)"
   ]
  },
  {
   "cell_type": "markdown",
   "metadata": {},
   "source": [
    " 15. Identifica la diferencia simétrica de `colores` y `{'marrón','amarillo','cyan'}`. ¿Qué significa este resultado?"
   ]
  },
  {
   "cell_type": "code",
   "execution_count": 42,
   "metadata": {},
   "outputs": [
    {
     "name": "stdout",
     "output_type": "stream",
     "text": [
      "El set de colores contiene: {'beige', 'granate', 'rojo', 'lila', 'rosa', 'blanco', 'azul', 'violeta', 'celeste'}\n",
      "El nuevo set de colores a comparar es: {'amarillo', 'marrón', 'cyan'}\n",
      "Los colores que aparecen en un lugar, pero no en el otro, son: {'azul', 'beige', 'granate', 'rojo', 'violeta', 'marrón', 'celeste', 'lila', 'amarillo', 'cyan', 'rosa', 'blanco'}\n"
     ]
    }
   ],
   "source": [
    "print(\"El set de colores contiene:\" , colores)\n",
    "print(\"El nuevo set de colores a comparar es:\" , {\"marrón\", \"amarillo\", \"cyan\"})\n",
    "\n",
    "# ¿Cuál es la diferencia simétrica?\n",
    "diferencia_sim_colores = colores.symmetric_difference({\"marrón\", \"amarillo\", \"cyan\"})\n",
    "print(\"Los colores que aparecen en un lugar, pero no en el otro, son:\" , diferencia_sim_colores)\n",
    "\n",
    "# Obtenemos este resultado porque no había ningún elemento presente en ambos sets, por tanto la función devuelve todos los elementos no comunes."
   ]
  },
  {
   "cell_type": "markdown",
   "metadata": {},
   "source": [
    " 16. ¿Son *disjoint* `diciembre` y `enero`? ¿Por qué (no)?"
   ]
  },
  {
   "cell_type": "code",
   "execution_count": 45,
   "metadata": {},
   "outputs": [
    {
     "name": "stdout",
     "output_type": "stream",
     "text": [
      "False\n"
     ]
    }
   ],
   "source": [
    "meses_disjoint = diciembre.isdisjoint(enero)\n",
    "print(meses_disjoint)\n",
    "\n",
    "# No son disjoint porque sí tienen elementos en común"
   ]
  },
  {
   "cell_type": "markdown",
   "metadata": {},
   "source": [
    " 17. ¿Es `{'rojo','azul'}` un superset de colores?"
   ]
  },
  {
   "cell_type": "code",
   "execution_count": 48,
   "metadata": {},
   "outputs": [
    {
     "name": "stdout",
     "output_type": "stream",
     "text": [
      "¿Rojo y azul es un superset de colores?: False\n"
     ]
    }
   ],
   "source": [
    "print(\"¿Rojo y azul es un superset de colores?:\" , {\"rojo\", \"azul\"}.issuperset(colores))"
   ]
  },
  {
   "cell_type": "markdown",
   "metadata": {},
   "source": [
    " 18. ¿Y un subset?"
   ]
  },
  {
   "cell_type": "code",
   "execution_count": 50,
   "metadata": {},
   "outputs": [
    {
     "name": "stdout",
     "output_type": "stream",
     "text": [
      "¿Rojo y azul es un subset de colores?: True\n"
     ]
    }
   ],
   "source": [
    "print(\"¿Rojo y azul es un subset de colores?:\" , {\"rojo\", \"azul\"}.issubset(colores))"
   ]
  }
 ],
 "metadata": {
  "kernelspec": {
   "display_name": "adalabenv",
   "language": "python",
   "name": "python3"
  },
  "language_info": {
   "codemirror_mode": {
    "name": "ipython",
    "version": 3
   },
   "file_extension": ".py",
   "mimetype": "text/x-python",
   "name": "python",
   "nbconvert_exporter": "python",
   "pygments_lexer": "ipython3",
   "version": "3.9.7"
  }
 },
 "nbformat": 4,
 "nbformat_minor": 2
}
