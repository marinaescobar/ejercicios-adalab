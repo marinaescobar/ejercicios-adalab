{
 "cells": [
  {
   "cell_type": "markdown",
   "metadata": {},
   "source": [
    "1. Usando la siguiente lista: \n",
    "    ```python\n",
    "    temperaturas = [2,45,67,23, 45,66,12,1,34,67,99,98,67,64, 44, 100]\n",
    "    ```\n",
    "\n",
    "    Crea tres listas nuevas, donde: \n",
    "\n",
    "    - En la primera tengamos temperaturas entre 0 - 10, llama a la nueva lista `bajas_temp`.\n",
    "\n",
    "    - En la segunda tengamos temperaturas entre 11- 20, llama a la nueva lista `medias_temp`.\n",
    "\n",
    "    - En la tercera tengamos temperaturas por encima de 20, llama a la nueva lista `altas_temp`"
   ]
  },
  {
   "cell_type": "code",
   "execution_count": 1,
   "metadata": {},
   "outputs": [
    {
     "name": "stdout",
     "output_type": "stream",
     "text": [
      "La lista de bajas temperaturas es: [2, 1]\n",
      "La lista de medias temperaturas es: [12]\n",
      "La lista de altas temperaturas es: [45, 67, 23, 45, 66, 34, 67, 99, 98, 67, 64, 44, 100]\n"
     ]
    }
   ],
   "source": [
    "temperaturas = [2,45,67,23, 45,66,12,1,34,67,99,98,67,64, 44, 100]\n",
    "bajas_temp = [] \n",
    "medias_temp = []\n",
    "altas_temp = []\n",
    "\n",
    "for temperatura in temperaturas:\n",
    "\n",
    "    if temperatura <= 10:\n",
    "        bajas_temp.append(temperatura)\n",
    "    \n",
    "    elif temperatura <= 20:\n",
    "        medias_temp.append(temperatura)\n",
    "\n",
    "    else:\n",
    "        altas_temp.append(temperatura)\n",
    "\n",
    "print(f\"La lista de bajas temperaturas es: {bajas_temp}\")\n",
    "print(f\"La lista de medias temperaturas es: {medias_temp}\")\n",
    "print(f\"La lista de altas temperaturas es: {altas_temp}\")\n"
   ]
  },
  {
   "cell_type": "markdown",
   "metadata": {},
   "source": [
    "2. Las temperaturas están grados centígrados. Para cada una de las listas creadas en el ejercicio anterior, convertid las temperaturas a grados fahrenheit\n",
    "\n",
    "    ```\n",
    "    # la relacion de grados celsius y fahrenheit es:\n",
    "    (0 °C × 9 / 5) + 32 = 32 °F\n",
    "    ```"
   ]
  },
  {
   "cell_type": "code",
   "execution_count": 2,
   "metadata": {},
   "outputs": [
    {
     "name": "stdout",
     "output_type": "stream",
     "text": [
      "La lista de bajas temperaturas en Fahrenheit es: [35.6, 33.8]\n",
      "La lista de medias temperaturas en Fahrenheit es: [53.6]\n",
      "La lista de altas temperaturas en Fahrenheit es: [113.0, 152.6, 73.4, 113.0, 150.8, 93.2, 152.6, 210.2, 208.4, 152.6, 147.2, 111.2, 212.0]\n"
     ]
    }
   ],
   "source": [
    "bajas_temp_fah = [(temperatura * 9 / 5) + 32 for temperatura in bajas_temp]\n",
    "medias_temp_fah = [(temperatura * 9 / 5) + 32 for temperatura in medias_temp]\n",
    "altas_temp_fah = [(temperatura * 9 / 5) + 32 for temperatura in altas_temp]\n",
    "\n",
    "print(f\"La lista de bajas temperaturas en Fahrenheit es: {bajas_temp_fah}\")\n",
    "print(f\"La lista de medias temperaturas en Fahrenheit es: {medias_temp_fah}\")\n",
    "print(f\"La lista de altas temperaturas en Fahrenheit es: {altas_temp_fah}\")"
   ]
  },
  {
   "cell_type": "markdown",
   "metadata": {},
   "source": [
    "3. Define e imprime un rango de 0 a 6 (excluido)."
   ]
  },
  {
   "cell_type": "code",
   "execution_count": 3,
   "metadata": {},
   "outputs": [
    {
     "name": "stdout",
     "output_type": "stream",
     "text": [
      "El rango de 0 a 6, excluyendo este último, es:\n",
      "0\n",
      "1\n",
      "2\n",
      "3\n",
      "4\n",
      "5\n"
     ]
    }
   ],
   "source": [
    "rango_6 = range(6)\n",
    "\n",
    "print(\"El rango de 0 a 6, excluyendo este último, es:\")\n",
    "for num in rango_6:\n",
    "    print(num)"
   ]
  },
  {
   "cell_type": "markdown",
   "metadata": {},
   "source": [
    "4. Define e imprime un rango de 3 a 6 ambos incluidos."
   ]
  },
  {
   "cell_type": "code",
   "execution_count": 4,
   "metadata": {},
   "outputs": [
    {
     "name": "stdout",
     "output_type": "stream",
     "text": [
      "El rango de 3 a 6, ambos incluidos, es:\n",
      "[3, 4, 5, 6]\n"
     ]
    }
   ],
   "source": [
    "rango_3_6 = range(3,7)\n",
    "\n",
    "print(\"El rango de 3 a 6, ambos incluidos, es:\")\n",
    "print(list(rango_3_6))"
   ]
  },
  {
   "cell_type": "markdown",
   "metadata": {},
   "source": [
    "5. Define e imprime un rango de 5 a 9 ambos excluidos."
   ]
  },
  {
   "cell_type": "code",
   "execution_count": 5,
   "metadata": {},
   "outputs": [
    {
     "name": "stdout",
     "output_type": "stream",
     "text": [
      "El rango de 5 a 9, excluyendo ambos, es:\n",
      "6\n",
      "7\n",
      "8\n"
     ]
    }
   ],
   "source": [
    "rango_5_9 = range(6,9)\n",
    "\n",
    "print(\"El rango de 5 a 9, excluyendo ambos, es:\")\n",
    "for num in rango_5_9:\n",
    "    print(num)"
   ]
  },
  {
   "cell_type": "markdown",
   "metadata": {},
   "source": [
    "6. Define e imprime un rango de 3 números que empiece en 2."
   ]
  },
  {
   "cell_type": "code",
   "execution_count": 6,
   "metadata": {},
   "outputs": [
    {
     "name": "stdout",
     "output_type": "stream",
     "text": [
      "El rango que empieza en 2 y tiene 3 números es:\n",
      "[2, 3, 4]\n"
     ]
    }
   ],
   "source": [
    "rango_3 = range(2,5)\n",
    "\n",
    "print(\"El rango que empieza en 2 y tiene 3 números es:\")\n",
    "print(list(rango_3))"
   ]
  },
  {
   "cell_type": "markdown",
   "metadata": {},
   "source": [
    "7. Define e imprime un rango que empiece en 2, aumentando cada paso por 3, que pare antes de llegar al número 13."
   ]
  },
  {
   "cell_type": "code",
   "execution_count": 7,
   "metadata": {},
   "outputs": [
    {
     "name": "stdout",
     "output_type": "stream",
     "text": [
      "El rango que empieza en 2, aumenta cada paso en 3 y finaliza antes de llegar a 13:\n",
      "[2, 5, 8, 11]\n"
     ]
    }
   ],
   "source": [
    "rango_pasos = range(2,13,3)\n",
    "\n",
    "print(\"El rango que empieza en 2, aumenta cada paso en 3 y finaliza antes de llegar a 13:\")\n",
    "print(list(rango_pasos))"
   ]
  },
  {
   "cell_type": "markdown",
   "metadata": {},
   "source": [
    "8. Define e imprime un rango con todos los valores impares que hay hasta 10."
   ]
  },
  {
   "cell_type": "code",
   "execution_count": 10,
   "metadata": {},
   "outputs": [
    {
     "name": "stdout",
     "output_type": "stream",
     "text": [
      "El rango de impares que hay hasta 10:\n",
      "[1, 3, 5, 7, 9]\n"
     ]
    }
   ],
   "source": [
    "rango_impares = range(1,11,2)\n",
    "\n",
    "print(\"El rango de impares que hay hasta 10:\")\n",
    "print(list(rango_impares))"
   ]
  },
  {
   "cell_type": "markdown",
   "metadata": {},
   "source": [
    "9. Crea una lista nueva donde tengamos los números de la lista `temperaturas` elevados al cuadrado. "
   ]
  },
  {
   "cell_type": "code",
   "execution_count": 9,
   "metadata": {},
   "outputs": [
    {
     "name": "stdout",
     "output_type": "stream",
     "text": [
      "La lista de temperaturas al cuadrado es: [4, 2025, 4489, 529, 2025, 4356, 144, 1, 1156, 4489, 9801, 9604, 4489, 4096, 1936, 10000]\n"
     ]
    }
   ],
   "source": [
    "temperaturas_cuadrado = [temperatura ** 2 for temperatura in temperaturas]\n",
    "\n",
    "print(f\"La lista de temperaturas al cuadrado es: {temperaturas_cuadrado}\")"
   ]
  },
  {
   "cell_type": "markdown",
   "metadata": {},
   "source": [
    "10. Crea una lista nueva donde tengamos el resto de la división de cada uno de los números entre 2.  "
   ]
  },
  {
   "cell_type": "code",
   "execution_count": 11,
   "metadata": {},
   "outputs": [
    {
     "name": "stdout",
     "output_type": "stream",
     "text": [
      "La lista de los restos de la división de cada temperatura por dos es: [0, 1, 1, 1, 1, 0, 0, 1, 0, 1, 1, 0, 1, 0, 0, 0]\n"
     ]
    }
   ],
   "source": [
    "temperaturas_restos = [temperatura % 2 for temperatura in temperaturas]\n",
    "\n",
    "print(f\"La lista de los restos de la división de cada temperatura por dos es: {temperaturas_restos}\")"
   ]
  },
  {
   "cell_type": "markdown",
   "metadata": {},
   "source": [
    "11. Crea una lista nueva donde tengamos solo los elementos pares de la lista `temperaturas`. "
   ]
  },
  {
   "cell_type": "code",
   "execution_count": 12,
   "metadata": {},
   "outputs": [
    {
     "name": "stdout",
     "output_type": "stream",
     "text": [
      "La lista de elementos pares de temperaturas es: [2, 66, 12, 34, 98, 64, 44, 100]\n"
     ]
    }
   ],
   "source": [
    "temperaturas_pares = [temperatura for temperatura in temperaturas if temperatura % 2 == 0]\n",
    "\n",
    "print(f\"La lista de elementos pares de temperaturas es: {temperaturas_pares}\")"
   ]
  },
  {
   "cell_type": "markdown",
   "metadata": {},
   "source": [
    "12. Crea una lista nueva donde tengamos solo los elementos que sean menores que 50. "
   ]
  },
  {
   "cell_type": "code",
   "execution_count": 14,
   "metadata": {},
   "outputs": [
    {
     "name": "stdout",
     "output_type": "stream",
     "text": [
      "La lista de temperaturas mayores de 50 es: [67, 66, 67, 99, 98, 67, 64, 100]\n"
     ]
    }
   ],
   "source": [
    "temperaturas_50 = [temperatura for temperatura in temperaturas if temperatura > 50]\n",
    "\n",
    "print(f\"La lista de temperaturas mayores de 50 es: {temperaturas_50}\")"
   ]
  },
  {
   "cell_type": "markdown",
   "metadata": {},
   "source": [
    "13. Crea una lista donde tengamos los valores \"par\" e \"impar\" en función de los valores de la lista original. La lista resultante tiene que ser como la que indicamos a continuación: \n",
    "\n",
    "    ```python\n",
    "    lista_strings = [\"par\",\"impar\",\"impar\",\"impar\", \"impar\",\"par\",\"par\",\"impar\",\"par\",\"impar\",\"impar\",\"par\",\"impar\",\"par\", \"par\", \"par\"]\n",
    "    ```"
   ]
  },
  {
   "cell_type": "code",
   "execution_count": 15,
   "metadata": {},
   "outputs": [
    {
     "name": "stdout",
     "output_type": "stream",
     "text": [
      "La lista que indica el tipo de elemento (par o impar) es: ['par', 'impar', 'impar', 'impar', 'impar', 'par', 'par', 'impar', 'par', 'impar', 'impar', 'par', 'impar', 'par', 'par', 'par']\n"
     ]
    }
   ],
   "source": [
    "temperaturas_par_impar = [\"par\" if temperatura % 2 == 0 else \"impar\" for temperatura in temperaturas]\n",
    "\n",
    "print(f\"La lista que indica el tipo de elemento (par o impar) es: {temperaturas_par_impar}\")"
   ]
  },
  {
   "cell_type": "markdown",
   "metadata": {},
   "source": [
    "14. Pide al usuario un número entero positivo y suma los números pares e impares por separado hasta ese número."
   ]
  },
  {
   "cell_type": "code",
   "execution_count": 20,
   "metadata": {},
   "outputs": [
    {
     "name": "stdout",
     "output_type": "stream",
     "text": [
      "La suma de números pares hasta 10 es: 20\n",
      "La suma de números impares hasta 10 es: 25\n"
     ]
    }
   ],
   "source": [
    "pares = 0\n",
    "impares = 0\n",
    "\n",
    "try:\n",
    "\n",
    "    numero = int(input(\"Indica un número entero positivo\"))\n",
    "\n",
    "except ValueError:\n",
    "\n",
    "    print(\"El valor introducido no es correcto. Prueba de nuevo\")\n",
    "\n",
    "for i in range(numero): # --Si es hasta el número, sin incluirlo, sería así. Si el número estuviera incluido se haría range(numero+1)\n",
    "\n",
    "    if i % 2 == 0:\n",
    "        pares += i\n",
    "\n",
    "    else:\n",
    "        impares += i\n",
    "\n",
    "print(f\"La suma de números pares hasta {numero} es: {pares}\")\n",
    "print(f\"La suma de números impares hasta {numero} es: {impares}\")"
   ]
  },
  {
   "cell_type": "markdown",
   "metadata": {},
   "source": [
    "15. Pide al usuario ingresar una cadena y cuenta cuántas veces aparece cada vocal (a, e, i, o, u) en la cadena."
   ]
  },
  {
   "cell_type": "code",
   "execution_count": 24,
   "metadata": {},
   "outputs": [
    {
     "name": "stdout",
     "output_type": "stream",
     "text": [
      "Teniendo como cadena de referencia: Estoy haciendo un ejercicio\n",
      "El número de veces que aparece a es 1\n",
      "El número de veces que aparece e es 4\n",
      "El número de veces que aparece i es 3\n",
      "El número de veces que aparece o es 3\n",
      "El número de veces que aparece u es 1\n"
     ]
    }
   ],
   "source": [
    "cadena = input(\"Escriba una cadena de palabras\")\n",
    "vocales = \"aeiou\"\n",
    "\n",
    "print(f\"Teniendo como cadena de referencia: {cadena}\")\n",
    "\n",
    "for vocal in vocales:\n",
    "    veces = cadena.lower().count(vocal)\n",
    "    print(f\"El número de veces que aparece {vocal} es {veces}\")"
   ]
  }
 ],
 "metadata": {
  "kernelspec": {
   "display_name": "base",
   "language": "python",
   "name": "python3"
  },
  "language_info": {
   "codemirror_mode": {
    "name": "ipython",
    "version": 3
   },
   "file_extension": ".py",
   "mimetype": "text/x-python",
   "name": "python",
   "nbconvert_exporter": "python",
   "pygments_lexer": "ipython3",
   "version": "3.9.7"
  }
 },
 "nbformat": 4,
 "nbformat_minor": 2
}
